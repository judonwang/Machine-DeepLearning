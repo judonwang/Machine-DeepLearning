{
 "cells": [
  {
   "cell_type": "code",
   "execution_count": 1,
   "id": "4a0089b1",
   "metadata": {},
   "outputs": [
    {
     "name": "stderr",
     "output_type": "stream",
     "text": [
      "[nltk_data] Downloading package punkt to /home/ibrahim/nltk_data...\n",
      "[nltk_data]   Package punkt is already up-to-date!\n",
      "[nltk_data] Downloading package stopwords to\n",
      "[nltk_data]     /home/ibrahim/nltk_data...\n",
      "[nltk_data]   Package stopwords is already up-to-date!\n",
      "[nltk_data] Downloading package wordnet to /home/ibrahim/nltk_data...\n",
      "[nltk_data]   Package wordnet is already up-to-date!\n"
     ]
    },
    {
     "data": {
      "text/plain": [
       "True"
      ]
     },
     "execution_count": 1,
     "metadata": {},
     "output_type": "execute_result"
    }
   ],
   "source": [
    "import pandas as pd\n",
    "import nltk\n",
    "import re\n",
    "import random\n",
    "import numpy as np\n",
    "from nltk.stem import PorterStemmer, WordNetLemmatizer\n",
    "from sklearn.model_selection import train_test_split\n",
    "from sklearn.feature_extraction.text import TfidfVectorizer, CountVectorizer\n",
    "from sklearn.svm import SVC\n",
    "from sklearn.metrics import classification_report\n",
    "from sklearn.metrics import f1_score, accuracy_score, precision_score, roc_auc_score\n",
    "from nltk.corpus import stopwords\n",
    "from scipy.sparse import hstack\n",
    "import warnings\n",
    "warnings.filterwarnings(\"ignore\")\n",
    "\n",
    "nltk.download(\"punkt\")\n",
    "nltk.download(\"stopwords\")\n",
    "nltk.download(\"wordnet\")"
   ]
  },
  {
   "cell_type": "code",
   "execution_count": 2,
   "id": "7abc39e7",
   "metadata": {},
   "outputs": [],
   "source": [
    "baseline = \"baseline\"\n",
    "stem = \"stem\"\n",
    "lem = \"lem\"\n",
    "bow = \"bow\"\n",
    "tfidf = \"tfidf\"\n",
    "random_state = 42\n",
    "testing_frac = 0.025\n",
    "random.seed(random_state)\n",
    "data_path = \"../data/combined.csv\""
   ]
  },
  {
   "cell_type": "code",
   "execution_count": 3,
   "id": "659411f8",
   "metadata": {},
   "outputs": [
    {
     "data": {
      "text/html": [
       "<div>\n",
       "<style scoped>\n",
       "    .dataframe tbody tr th:only-of-type {\n",
       "        vertical-align: middle;\n",
       "    }\n",
       "\n",
       "    .dataframe tbody tr th {\n",
       "        vertical-align: top;\n",
       "    }\n",
       "\n",
       "    .dataframe thead th {\n",
       "        text-align: right;\n",
       "    }\n",
       "</style>\n",
       "<table border=\"1\" class=\"dataframe\">\n",
       "  <thead>\n",
       "    <tr style=\"text-align: right;\">\n",
       "      <th></th>\n",
       "      <th>reviewText</th>\n",
       "      <th>verified</th>\n",
       "      <th>sentiment</th>\n",
       "      <th>reviewTextWithSummary</th>\n",
       "    </tr>\n",
       "  </thead>\n",
       "  <tbody>\n",
       "    <tr>\n",
       "      <th>0</th>\n",
       "      <td>As advertised. Reasonably priced</td>\n",
       "      <td>True</td>\n",
       "      <td>1</td>\n",
       "      <td>Five Stars As advertised. Reasonably priced</td>\n",
       "    </tr>\n",
       "    <tr>\n",
       "      <th>1</th>\n",
       "      <td>Like the oder and the feel when I put it on my...</td>\n",
       "      <td>True</td>\n",
       "      <td>1</td>\n",
       "      <td>Good for the face Like the oder and the feel w...</td>\n",
       "    </tr>\n",
       "    <tr>\n",
       "      <th>2</th>\n",
       "      <td>I bought this to smell nice after I shave.  Wh...</td>\n",
       "      <td>True</td>\n",
       "      <td>-1</td>\n",
       "      <td>Smells awful I bought this to smell nice after...</td>\n",
       "    </tr>\n",
       "    <tr>\n",
       "      <th>3</th>\n",
       "      <td>HEY!! I am an Aqua Velva Man and absolutely lo...</td>\n",
       "      <td>False</td>\n",
       "      <td>1</td>\n",
       "      <td>Truth is There IS Nothing Like an AQUA VELVA M...</td>\n",
       "    </tr>\n",
       "    <tr>\n",
       "      <th>4</th>\n",
       "      <td>If you ever want to feel pampered by a shampoo...</td>\n",
       "      <td>True</td>\n",
       "      <td>1</td>\n",
       "      <td>Bvlgari Shampoo If you ever want to feel pampe...</td>\n",
       "    </tr>\n",
       "  </tbody>\n",
       "</table>\n",
       "</div>"
      ],
      "text/plain": [
       "                                          reviewText  verified  sentiment  \\\n",
       "0                   As advertised. Reasonably priced      True          1   \n",
       "1  Like the oder and the feel when I put it on my...      True          1   \n",
       "2  I bought this to smell nice after I shave.  Wh...      True         -1   \n",
       "3  HEY!! I am an Aqua Velva Man and absolutely lo...     False          1   \n",
       "4  If you ever want to feel pampered by a shampoo...      True          1   \n",
       "\n",
       "                               reviewTextWithSummary  \n",
       "0        Five Stars As advertised. Reasonably priced  \n",
       "1  Good for the face Like the oder and the feel w...  \n",
       "2  Smells awful I bought this to smell nice after...  \n",
       "3  Truth is There IS Nothing Like an AQUA VELVA M...  \n",
       "4  Bvlgari Shampoo If you ever want to feel pampe...  "
      ]
     },
     "execution_count": 3,
     "metadata": {},
     "output_type": "execute_result"
    }
   ],
   "source": [
    "df = pd.read_csv(data_path, low_memory=False)\n",
    "df = df.drop_duplicates()\n",
    "df = df[[\"overall\", \"reviewText\", \"summary\", \"verified\"]]\n",
    "df.dropna(inplace=True)\n",
    "df[\"sentiment\"] = df[\"overall\"].apply(lambda x: 1 if x > 3 else -1 if x < 3 else 0)\n",
    "df[\"reviewTextWithSummary\"] = df[\"summary\"] + \" \" + df[\"reviewText\"]\n",
    "df.drop([\"overall\", \"summary\"], axis=1, inplace=True)\n",
    "df.head()"
   ]
  },
  {
   "cell_type": "markdown",
   "id": "46d0dae5",
   "metadata": {},
   "source": [
    "# Model experimentation"
   ]
  },
  {
   "cell_type": "code",
   "execution_count": 4,
   "id": "a98d2c13",
   "metadata": {},
   "outputs": [
    {
     "data": {
      "text/plain": [
       "sentiment\n",
       " 1    15160\n",
       " 0     1094\n",
       "-1     1012\n",
       "Name: count, dtype: int64"
      ]
     },
     "execution_count": 4,
     "metadata": {},
     "output_type": "execute_result"
    }
   ],
   "source": [
    "df_testing = df.sample(frac=testing_frac, random_state=random_state)\n",
    "df_testing[\"sentiment\"].value_counts()"
   ]
  },
  {
   "cell_type": "code",
   "execution_count": 5,
   "id": "128a6242",
   "metadata": {},
   "outputs": [
    {
     "data": {
      "text/html": [
       "<div>\n",
       "<style scoped>\n",
       "    .dataframe tbody tr th:only-of-type {\n",
       "        vertical-align: middle;\n",
       "    }\n",
       "\n",
       "    .dataframe tbody tr th {\n",
       "        vertical-align: top;\n",
       "    }\n",
       "\n",
       "    .dataframe thead th {\n",
       "        text-align: right;\n",
       "    }\n",
       "</style>\n",
       "<table border=\"1\" class=\"dataframe\">\n",
       "  <thead>\n",
       "    <tr style=\"text-align: right;\">\n",
       "      <th></th>\n",
       "      <th>reviewText</th>\n",
       "      <th>verified</th>\n",
       "      <th>sentiment</th>\n",
       "      <th>reviewTextWithSummary</th>\n",
       "    </tr>\n",
       "  </thead>\n",
       "  <tbody>\n",
       "    <tr>\n",
       "      <th>300850</th>\n",
       "      <td>I LOVE this stuff! It's challenging but fun to...</td>\n",
       "      <td>True</td>\n",
       "      <td>1</td>\n",
       "      <td>Beautiful I LOVE this stuff! It's challenging ...</td>\n",
       "    </tr>\n",
       "    <tr>\n",
       "      <th>13053</th>\n",
       "      <td>Another \"boss\" BOSS pedal!  This chorus has be...</td>\n",
       "      <td>False</td>\n",
       "      <td>1</td>\n",
       "      <td>A workingman's pedal that will work for you! A...</td>\n",
       "    </tr>\n",
       "    <tr>\n",
       "      <th>324582</th>\n",
       "      <td>ok</td>\n",
       "      <td>True</td>\n",
       "      <td>1</td>\n",
       "      <td>Five Stars ok</td>\n",
       "    </tr>\n",
       "    <tr>\n",
       "      <th>462346</th>\n",
       "      <td>This is a great product if you want to make yo...</td>\n",
       "      <td>True</td>\n",
       "      <td>1</td>\n",
       "      <td>Jelly roll strips This is a great product if y...</td>\n",
       "    </tr>\n",
       "    <tr>\n",
       "      <th>458698</th>\n",
       "      <td>good</td>\n",
       "      <td>True</td>\n",
       "      <td>0</td>\n",
       "      <td>good good</td>\n",
       "    </tr>\n",
       "  </tbody>\n",
       "</table>\n",
       "</div>"
      ],
      "text/plain": [
       "                                               reviewText  verified  \\\n",
       "300850  I LOVE this stuff! It's challenging but fun to...      True   \n",
       "13053   Another \"boss\" BOSS pedal!  This chorus has be...     False   \n",
       "324582                                                 ok      True   \n",
       "462346  This is a great product if you want to make yo...      True   \n",
       "458698                                               good      True   \n",
       "\n",
       "        sentiment                              reviewTextWithSummary  \n",
       "300850          1  Beautiful I LOVE this stuff! It's challenging ...  \n",
       "13053           1  A workingman's pedal that will work for you! A...  \n",
       "324582          1                                      Five Stars ok  \n",
       "462346          1  Jelly roll strips This is a great product if y...  \n",
       "458698          0                                          good good  "
      ]
     },
     "execution_count": 5,
     "metadata": {},
     "output_type": "execute_result"
    }
   ],
   "source": [
    "df_testing.head()"
   ]
  },
  {
   "cell_type": "code",
   "execution_count": 6,
   "id": "29a2229c",
   "metadata": {},
   "outputs": [
    {
     "name": "stdout",
     "output_type": "stream",
     "text": [
      "Dataset size: 17266\n"
     ]
    }
   ],
   "source": [
    "print(\"Dataset size:\", len(df_testing))"
   ]
  },
  {
   "cell_type": "code",
   "execution_count": 7,
   "id": "c6d3a442",
   "metadata": {},
   "outputs": [],
   "source": [
    "STOP_WORDS = set(stopwords.words(\"english\"))"
   ]
  },
  {
   "cell_type": "code",
   "execution_count": 8,
   "id": "e24c7eb7",
   "metadata": {},
   "outputs": [],
   "source": [
    "def preprocess_text(sentence, stop, type_proc=None):\n",
    "    words = []\n",
    "    for word in sentence.lower().strip().split():\n",
    "\n",
    "        word = re.sub(\"\\d\", \"\", word)\n",
    "        word = re.sub(\"[^\\w\\s]\", \"\", word)\n",
    "\n",
    "        if word not in stop and word != \"\":\n",
    "            words.append(preprocess_type(word, type_proc))\n",
    "\n",
    "    return \" \".join(words)"
   ]
  },
  {
   "cell_type": "code",
   "execution_count": 9,
   "id": "3c31c5ea",
   "metadata": {},
   "outputs": [],
   "source": [
    "def preprocess_type(word, type_proc):\n",
    "    if type_proc == baseline:\n",
    "        return word\n",
    "    elif type_proc == stem:\n",
    "        return PorterStemmer().stem(word)\n",
    "    elif type_proc == lem:\n",
    "        return WordNetLemmatizer().lemmatize(word)\n",
    "    else:\n",
    "        raise ValueError(\"Invalid Preprocessing Type\")"
   ]
  },
  {
   "cell_type": "code",
   "execution_count": 10,
   "id": "a4dc149e",
   "metadata": {},
   "outputs": [],
   "source": [
    "def my_train_test_split(cols, test_size, df=df, random_state=random_state):\n",
    "    x_train, x_test, y_train, y_test = train_test_split(\n",
    "        df[cols], df[\"sentiment\"], test_size=test_size, random_state=random_state\n",
    "    )\n",
    "    return x_train, x_test, y_train, y_test"
   ]
  },
  {
   "cell_type": "code",
   "execution_count": 11,
   "id": "c5f55ddf",
   "metadata": {},
   "outputs": [],
   "source": [
    "def apply_preprocessing(proc, x_train, x_test):\n",
    "    if proc is None:\n",
    "        return x_train, x_test\n",
    "    cols = x_train.columns\n",
    "\n",
    "    textcol = \"reviewText\"\n",
    "    if \"reviewText\" not in cols and \"reviewTextWithSummary\" in cols:\n",
    "        textcol = \"reviewTextWithSummary\"\n",
    "    x_train[textcol] = x_train[textcol].apply(\n",
    "        lambda x: preprocess_text(x, STOP_WORDS, proc)\n",
    "    )\n",
    "    x_test[textcol] = x_test[textcol].apply(\n",
    "        lambda x: preprocess_text(x, STOP_WORDS, proc)\n",
    "    )\n",
    "    return x_train, x_test"
   ]
  },
  {
   "cell_type": "code",
   "execution_count": 12,
   "id": "ede20bdf",
   "metadata": {},
   "outputs": [],
   "source": [
    "def add_col(x, col):\n",
    "    col = np.array([col]).T\n",
    "    return hstack([x, col])"
   ]
  },
  {
   "cell_type": "code",
   "execution_count": 13,
   "id": "34142bb9",
   "metadata": {},
   "outputs": [],
   "source": [
    "def pipeline(cols, test_size, proc, vectorizer, df=df, random_state=random_state):\n",
    "    if \"reviewText\" not in cols and \"reviewTextWithSummary\" not in cols:\n",
    "        raise ValueError(\"Must contain reviewText or reviewTextWithSummary\")\n",
    "\n",
    "    textcol = \"reviewText\"\n",
    "    if \"reviewText\" not in cols and \"reviewTextWithSummary\" in cols:\n",
    "        textcol = \"reviewTextWithSummary\"\n",
    "    x_train, x_test, y_train, y_test = my_train_test_split(\n",
    "        cols, test_size, df, random_state\n",
    "    )\n",
    "    x_train, x_test = apply_preprocessing(proc, x_train, x_test)\n",
    "    if vectorizer == bow:\n",
    "        vectorizer = CountVectorizer()\n",
    "    elif vectorizer == tfidf:\n",
    "        vectorizer = TfidfVectorizer()\n",
    "    else:\n",
    "        raise ValueError(\"Invalid Vectorizer\")\n",
    "    x_train_ = vectorizer.fit_transform(x_train[textcol])\n",
    "    x_test_ = vectorizer.transform(x_test[textcol])\n",
    "\n",
    "    if \"verified\" in cols:\n",
    "        x_train = add_col(x_train_, x_train[\"verified\"])\n",
    "        x_test = add_col(x_test_, x_test[\"verified\"])\n",
    "    else:\n",
    "        x_train = x_train_\n",
    "        x_test = x_test_\n",
    "    return x_train, x_test, y_train, y_test"
   ]
  },
  {
   "cell_type": "markdown",
   "id": "9fdca857",
   "metadata": {},
   "source": [
    "## Testing different configs"
   ]
  },
  {
   "cell_type": "code",
   "execution_count": 14,
   "id": "127f4f84",
   "metadata": {},
   "outputs": [],
   "source": [
    "compare_list = pd.DataFrame(\n",
    "    columns=[\"Data config and preprocessing\", \"Accuracy\", \"F1 Score\", \"Precision\", \"ROC AUC\"]\n",
    ")"
   ]
  },
  {
   "cell_type": "code",
   "execution_count": 15,
   "id": "fd80adab",
   "metadata": {},
   "outputs": [],
   "source": [
    "code_gen = False\n",
    "col_comb = [\n",
    "    [\"reviewText\"],\n",
    "    [\"reviewText\", \"verified\"],\n",
    "    [\"reviewTextWithSummary\"],\n",
    "    [\"reviewTextWithSummary\", \"verified\"],\n",
    "]\n",
    "proc_comb = [None, baseline, stem, lem]\n",
    "vectorizer_comb = [bow, tfidf]\n",
    "if code_gen:\n",
    "    for col in col_comb:\n",
    "        for proc in proc_comb:\n",
    "            for vectorizer in vectorizer_comb:\n",
    "                params = {\n",
    "                    \"col\": col,\n",
    "                    \"proc\": proc,\n",
    "                    \"vectorizer\": vectorizer,\n",
    "                }\n",
    "                print(\n",
    "                    f\"\"\"\n",
    "# %%\n",
    "x_train, x_test, y_train, y_test = pipeline({col}, 0.25, {proc}, {vectorizer}, df_testing)\n",
    "model = SVC(probability=True)\n",
    "model.fit(x_train, y_train)\n",
    "y_pred = model.predict(x_test)\n",
    "print(classification_report(y_test, y_pred))\n",
    "accuracy = accuracy_score(y_test, y_pred)\n",
    "f1 = f1_score(y_test, y_pred, average=\"weighted\")\n",
    "precision = precision_score(y_test, y_pred, average=\"weighted\")\n",
    "y_pred_prob = model.predict_proba(x_test)\n",
    "roc_auc = roc_auc_score(y_test, y_pred_prob, multi_class=\"ovr\")\n",
    "compare_list.loc[len(compare_list)] = [{params}, accuracy, f1, precision, roc_auc]\n",
    "\"\"\"\n",
    "                )"
   ]
  },
  {
   "cell_type": "code",
   "execution_count": 16,
   "id": "4a550869",
   "metadata": {},
   "outputs": [],
   "source": [
    "# below is code genderated by above cell, to make changes to the code, edit the\n",
    "# above cell and run it, pasting its contents between the markers"
   ]
  },
  {
   "cell_type": "code",
   "execution_count": 17,
   "id": "e765d86a",
   "metadata": {},
   "outputs": [
    {
     "name": "stdout",
     "output_type": "stream",
     "text": [
      "              precision    recall  f1-score   support\n",
      "\n",
      "          -1       1.00      0.01      0.02       260\n",
      "           0       1.00      0.00      0.01       259\n",
      "           1       0.88      1.00      0.94      3798\n",
      "\n",
      "    accuracy                           0.88      4317\n",
      "   macro avg       0.96      0.34      0.32      4317\n",
      "weighted avg       0.89      0.88      0.83      4317\n",
      "\n"
     ]
    }
   ],
   "source": [
    "####### START OF GENERATED CODE #######\n",
    "x_train, x_test, y_train, y_test = pipeline(['reviewText'], 0.25, None, bow, df_testing)\n",
    "model = SVC(probability=True)\n",
    "model.fit(x_train, y_train)\n",
    "y_pred = model.predict(x_test)\n",
    "print(classification_report(y_test, y_pred))\n",
    "accuracy = accuracy_score(y_test, y_pred)\n",
    "f1 = f1_score(y_test, y_pred, average=\"weighted\")\n",
    "precision = precision_score(y_test, y_pred, average=\"weighted\")\n",
    "y_pred_prob = model.predict_proba(x_test)\n",
    "roc_auc = roc_auc_score(y_test, y_pred_prob, multi_class=\"ovr\")\n",
    "compare_list.loc[len(compare_list)] = [{'col': ['reviewText'], 'proc': None, 'vectorizer': 'bow'}, accuracy, f1, precision, roc_auc]"
   ]
  },
  {
   "cell_type": "code",
   "execution_count": 18,
   "id": "3072d57e",
   "metadata": {},
   "outputs": [
    {
     "name": "stdout",
     "output_type": "stream",
     "text": [
      "              precision    recall  f1-score   support\n",
      "\n",
      "          -1       0.76      0.07      0.13       260\n",
      "           0       1.00      0.00      0.01       259\n",
      "           1       0.88      1.00      0.94      3798\n",
      "\n",
      "    accuracy                           0.88      4317\n",
      "   macro avg       0.88      0.36      0.36      4317\n",
      "weighted avg       0.88      0.88      0.83      4317\n",
      "\n"
     ]
    }
   ],
   "source": [
    "x_train, x_test, y_train, y_test = pipeline(['reviewText'], 0.25, None, tfidf, df_testing)\n",
    "model = SVC(probability=True)\n",
    "model.fit(x_train, y_train)\n",
    "y_pred = model.predict(x_test)\n",
    "print(classification_report(y_test, y_pred))\n",
    "accuracy = accuracy_score(y_test, y_pred)\n",
    "f1 = f1_score(y_test, y_pred, average=\"weighted\")\n",
    "precision = precision_score(y_test, y_pred, average=\"weighted\")\n",
    "y_pred_prob = model.predict_proba(x_test)\n",
    "roc_auc = roc_auc_score(y_test, y_pred_prob, multi_class=\"ovr\")\n",
    "compare_list.loc[len(compare_list)] = [{'col': ['reviewText'], 'proc': None, 'vectorizer': 'tfidf'}, accuracy, f1, precision, roc_auc]"
   ]
  },
  {
   "cell_type": "code",
   "execution_count": 19,
   "id": "e46bbf79",
   "metadata": {},
   "outputs": [
    {
     "name": "stdout",
     "output_type": "stream",
     "text": [
      "              precision    recall  f1-score   support\n",
      "\n",
      "          -1       1.00      0.03      0.05       260\n",
      "           0       1.00      0.00      0.01       259\n",
      "           1       0.88      1.00      0.94      3798\n",
      "\n",
      "    accuracy                           0.88      4317\n",
      "   macro avg       0.96      0.34      0.33      4317\n",
      "weighted avg       0.90      0.88      0.83      4317\n",
      "\n"
     ]
    }
   ],
   "source": [
    "x_train, x_test, y_train, y_test = pipeline(['reviewText'], 0.25, baseline, bow, df_testing)\n",
    "model = SVC(probability=True)\n",
    "model.fit(x_train, y_train)\n",
    "y_pred = model.predict(x_test)\n",
    "print(classification_report(y_test, y_pred))\n",
    "accuracy = accuracy_score(y_test, y_pred)\n",
    "f1 = f1_score(y_test, y_pred, average=\"weighted\")\n",
    "precision = precision_score(y_test, y_pred, average=\"weighted\")\n",
    "y_pred_prob = model.predict_proba(x_test)\n",
    "roc_auc = roc_auc_score(y_test, y_pred_prob, multi_class=\"ovr\")\n",
    "compare_list.loc[len(compare_list)] = [{'col': ['reviewText'], 'proc': 'baseline', 'vectorizer': 'bow'}, accuracy, f1, precision, roc_auc]"
   ]
  },
  {
   "cell_type": "code",
   "execution_count": 20,
   "id": "69dbce55",
   "metadata": {},
   "outputs": [
    {
     "name": "stdout",
     "output_type": "stream",
     "text": [
      "              precision    recall  f1-score   support\n",
      "\n",
      "          -1       0.88      0.06      0.11       260\n",
      "           0       1.00      0.00      0.01       259\n",
      "           1       0.88      1.00      0.94      3798\n",
      "\n",
      "    accuracy                           0.88      4317\n",
      "   macro avg       0.92      0.35      0.35      4317\n",
      "weighted avg       0.89      0.88      0.83      4317\n",
      "\n"
     ]
    }
   ],
   "source": [
    "x_train, x_test, y_train, y_test = pipeline(['reviewText'], 0.25, baseline, tfidf, df_testing)\n",
    "model = SVC(probability=True)\n",
    "model.fit(x_train, y_train)\n",
    "y_pred = model.predict(x_test)\n",
    "print(classification_report(y_test, y_pred))\n",
    "accuracy = accuracy_score(y_test, y_pred)\n",
    "f1 = f1_score(y_test, y_pred, average=\"weighted\")\n",
    "precision = precision_score(y_test, y_pred, average=\"weighted\")\n",
    "y_pred_prob = model.predict_proba(x_test)\n",
    "roc_auc = roc_auc_score(y_test, y_pred_prob, multi_class=\"ovr\")\n",
    "compare_list.loc[len(compare_list)] = [{'col': ['reviewText'], 'proc': 'baseline', 'vectorizer': 'tfidf'}, accuracy, f1, precision, roc_auc]"
   ]
  },
  {
   "cell_type": "code",
   "execution_count": 21,
   "id": "9926290c",
   "metadata": {},
   "outputs": [
    {
     "name": "stdout",
     "output_type": "stream",
     "text": [
      "              precision    recall  f1-score   support\n",
      "\n",
      "          -1       0.73      0.04      0.08       260\n",
      "           0       1.00      0.00      0.01       259\n",
      "           1       0.88      1.00      0.94      3798\n",
      "\n",
      "    accuracy                           0.88      4317\n",
      "   macro avg       0.87      0.35      0.34      4317\n",
      "weighted avg       0.88      0.88      0.83      4317\n",
      "\n"
     ]
    }
   ],
   "source": [
    "x_train, x_test, y_train, y_test = pipeline(['reviewText'], 0.25, stem, bow, df_testing)\n",
    "model = SVC(probability=True)\n",
    "model.fit(x_train, y_train)\n",
    "y_pred = model.predict(x_test)\n",
    "print(classification_report(y_test, y_pred))\n",
    "accuracy = accuracy_score(y_test, y_pred)\n",
    "f1 = f1_score(y_test, y_pred, average=\"weighted\")\n",
    "precision = precision_score(y_test, y_pred, average=\"weighted\")\n",
    "y_pred_prob = model.predict_proba(x_test)\n",
    "roc_auc = roc_auc_score(y_test, y_pred_prob, multi_class=\"ovr\")\n",
    "compare_list.loc[len(compare_list)] = [{'col': ['reviewText'], 'proc': 'stem', 'vectorizer': 'bow'}, accuracy, f1, precision, roc_auc]"
   ]
  },
  {
   "cell_type": "code",
   "execution_count": 22,
   "id": "80bdb43e",
   "metadata": {},
   "outputs": [
    {
     "name": "stdout",
     "output_type": "stream",
     "text": [
      "              precision    recall  f1-score   support\n",
      "\n",
      "          -1       0.81      0.10      0.17       260\n",
      "           0       0.00      0.00      0.00       259\n",
      "           1       0.89      1.00      0.94      3798\n",
      "\n",
      "    accuracy                           0.88      4317\n",
      "   macro avg       0.56      0.37      0.37      4317\n",
      "weighted avg       0.83      0.88      0.84      4317\n",
      "\n"
     ]
    }
   ],
   "source": [
    "x_train, x_test, y_train, y_test = pipeline(['reviewText'], 0.25, stem, tfidf, df_testing)\n",
    "model = SVC(probability=True)\n",
    "model.fit(x_train, y_train)\n",
    "y_pred = model.predict(x_test)\n",
    "print(classification_report(y_test, y_pred))\n",
    "accuracy = accuracy_score(y_test, y_pred)\n",
    "f1 = f1_score(y_test, y_pred, average=\"weighted\")\n",
    "precision = precision_score(y_test, y_pred, average=\"weighted\")\n",
    "y_pred_prob = model.predict_proba(x_test)\n",
    "roc_auc = roc_auc_score(y_test, y_pred_prob, multi_class=\"ovr\")\n",
    "compare_list.loc[len(compare_list)] = [{'col': ['reviewText'], 'proc': 'stem', 'vectorizer': 'tfidf'}, accuracy, f1, precision, roc_auc]"
   ]
  },
  {
   "cell_type": "code",
   "execution_count": 23,
   "id": "e5c65e30",
   "metadata": {},
   "outputs": [
    {
     "name": "stdout",
     "output_type": "stream",
     "text": [
      "              precision    recall  f1-score   support\n",
      "\n",
      "          -1       1.00      0.02      0.05       260\n",
      "           0       1.00      0.00      0.01       259\n",
      "           1       0.88      1.00      0.94      3798\n",
      "\n",
      "    accuracy                           0.88      4317\n",
      "   macro avg       0.96      0.34      0.33      4317\n",
      "weighted avg       0.90      0.88      0.83      4317\n",
      "\n"
     ]
    }
   ],
   "source": [
    "x_train, x_test, y_train, y_test = pipeline(['reviewText'], 0.25, lem, bow, df_testing)\n",
    "model = SVC(probability=True)\n",
    "model.fit(x_train, y_train)\n",
    "y_pred = model.predict(x_test)\n",
    "print(classification_report(y_test, y_pred))\n",
    "accuracy = accuracy_score(y_test, y_pred)\n",
    "f1 = f1_score(y_test, y_pred, average=\"weighted\")\n",
    "precision = precision_score(y_test, y_pred, average=\"weighted\")\n",
    "y_pred_prob = model.predict_proba(x_test)\n",
    "roc_auc = roc_auc_score(y_test, y_pred_prob, multi_class=\"ovr\")\n",
    "compare_list.loc[len(compare_list)] = [{'col': ['reviewText'], 'proc': 'lem', 'vectorizer': 'bow'}, accuracy, f1, precision, roc_auc]"
   ]
  },
  {
   "cell_type": "code",
   "execution_count": 24,
   "id": "0e732571",
   "metadata": {},
   "outputs": [
    {
     "name": "stdout",
     "output_type": "stream",
     "text": [
      "              precision    recall  f1-score   support\n",
      "\n",
      "          -1       0.89      0.06      0.12       260\n",
      "           0       1.00      0.00      0.01       259\n",
      "           1       0.88      1.00      0.94      3798\n",
      "\n",
      "    accuracy                           0.88      4317\n",
      "   macro avg       0.92      0.35      0.35      4317\n",
      "weighted avg       0.89      0.88      0.83      4317\n",
      "\n"
     ]
    }
   ],
   "source": [
    "x_train, x_test, y_train, y_test = pipeline(['reviewText'], 0.25, lem, tfidf, df_testing)\n",
    "model = SVC(probability=True)\n",
    "model.fit(x_train, y_train)\n",
    "y_pred = model.predict(x_test)\n",
    "print(classification_report(y_test, y_pred))\n",
    "accuracy = accuracy_score(y_test, y_pred)\n",
    "f1 = f1_score(y_test, y_pred, average=\"weighted\")\n",
    "precision = precision_score(y_test, y_pred, average=\"weighted\")\n",
    "y_pred_prob = model.predict_proba(x_test)\n",
    "roc_auc = roc_auc_score(y_test, y_pred_prob, multi_class=\"ovr\")\n",
    "compare_list.loc[len(compare_list)] = [{'col': ['reviewText'], 'proc': 'lem', 'vectorizer': 'tfidf'}, accuracy, f1, precision, roc_auc]"
   ]
  },
  {
   "cell_type": "code",
   "execution_count": 25,
   "id": "127e8694",
   "metadata": {},
   "outputs": [
    {
     "name": "stdout",
     "output_type": "stream",
     "text": [
      "              precision    recall  f1-score   support\n",
      "\n",
      "          -1       1.00      0.01      0.02       260\n",
      "           0       1.00      0.00      0.01       259\n",
      "           1       0.88      1.00      0.94      3798\n",
      "\n",
      "    accuracy                           0.88      4317\n",
      "   macro avg       0.96      0.34      0.32      4317\n",
      "weighted avg       0.89      0.88      0.83      4317\n",
      "\n"
     ]
    }
   ],
   "source": [
    "x_train, x_test, y_train, y_test = pipeline(['reviewText', 'verified'], 0.25, None, bow, df_testing)\n",
    "model = SVC(probability=True)\n",
    "model.fit(x_train, y_train)\n",
    "y_pred = model.predict(x_test)\n",
    "print(classification_report(y_test, y_pred))\n",
    "accuracy = accuracy_score(y_test, y_pred)\n",
    "f1 = f1_score(y_test, y_pred, average=\"weighted\")\n",
    "precision = precision_score(y_test, y_pred, average=\"weighted\")\n",
    "y_pred_prob = model.predict_proba(x_test)\n",
    "roc_auc = roc_auc_score(y_test, y_pred_prob, multi_class=\"ovr\")\n",
    "compare_list.loc[len(compare_list)] = [{'col': ['reviewText', 'verified'], 'proc': None, 'vectorizer': 'bow'}, accuracy, f1, precision, roc_auc]"
   ]
  },
  {
   "cell_type": "code",
   "execution_count": 26,
   "id": "ad89ef4e",
   "metadata": {},
   "outputs": [
    {
     "name": "stdout",
     "output_type": "stream",
     "text": [
      "              precision    recall  f1-score   support\n",
      "\n",
      "          -1       0.82      0.07      0.13       260\n",
      "           0       0.00      0.00      0.00       259\n",
      "           1       0.88      1.00      0.94      3798\n",
      "\n",
      "    accuracy                           0.88      4317\n",
      "   macro avg       0.57      0.36      0.36      4317\n",
      "weighted avg       0.83      0.88      0.83      4317\n",
      "\n"
     ]
    }
   ],
   "source": [
    "x_train, x_test, y_train, y_test = pipeline(['reviewText', 'verified'], 0.25, None, tfidf, df_testing)\n",
    "model = SVC(probability=True)\n",
    "model.fit(x_train, y_train)\n",
    "y_pred = model.predict(x_test)\n",
    "print(classification_report(y_test, y_pred))\n",
    "accuracy = accuracy_score(y_test, y_pred)\n",
    "f1 = f1_score(y_test, y_pred, average=\"weighted\")\n",
    "precision = precision_score(y_test, y_pred, average=\"weighted\")\n",
    "y_pred_prob = model.predict_proba(x_test)\n",
    "roc_auc = roc_auc_score(y_test, y_pred_prob, multi_class=\"ovr\")\n",
    "compare_list.loc[len(compare_list)] = [{'col': ['reviewText', 'verified'], 'proc': None, 'vectorizer': 'tfidf'}, accuracy, f1, precision, roc_auc]"
   ]
  },
  {
   "cell_type": "code",
   "execution_count": 27,
   "id": "40efa4cc",
   "metadata": {},
   "outputs": [
    {
     "name": "stdout",
     "output_type": "stream",
     "text": [
      "              precision    recall  f1-score   support\n",
      "\n",
      "          -1       1.00      0.03      0.05       260\n",
      "           0       1.00      0.00      0.01       259\n",
      "           1       0.88      1.00      0.94      3798\n",
      "\n",
      "    accuracy                           0.88      4317\n",
      "   macro avg       0.96      0.34      0.33      4317\n",
      "weighted avg       0.90      0.88      0.83      4317\n",
      "\n"
     ]
    }
   ],
   "source": [
    "x_train, x_test, y_train, y_test = pipeline(['reviewText', 'verified'], 0.25, baseline, bow, df_testing)\n",
    "model = SVC(probability=True)\n",
    "model.fit(x_train, y_train)\n",
    "y_pred = model.predict(x_test)\n",
    "print(classification_report(y_test, y_pred))\n",
    "accuracy = accuracy_score(y_test, y_pred)\n",
    "f1 = f1_score(y_test, y_pred, average=\"weighted\")\n",
    "precision = precision_score(y_test, y_pred, average=\"weighted\")\n",
    "y_pred_prob = model.predict_proba(x_test)\n",
    "roc_auc = roc_auc_score(y_test, y_pred_prob, multi_class=\"ovr\")\n",
    "compare_list.loc[len(compare_list)] = [{'col': ['reviewText', 'verified'], 'proc': 'baseline', 'vectorizer': 'bow'}, accuracy, f1, precision, roc_auc]"
   ]
  },
  {
   "cell_type": "code",
   "execution_count": 28,
   "id": "fdffb213",
   "metadata": {},
   "outputs": [
    {
     "name": "stdout",
     "output_type": "stream",
     "text": [
      "              precision    recall  f1-score   support\n",
      "\n",
      "          -1       0.87      0.05      0.09       260\n",
      "           0       0.60      0.01      0.02       259\n",
      "           1       0.88      1.00      0.94      3798\n",
      "\n",
      "    accuracy                           0.88      4317\n",
      "   macro avg       0.78      0.35      0.35      4317\n",
      "weighted avg       0.87      0.88      0.83      4317\n",
      "\n"
     ]
    }
   ],
   "source": [
    "x_train, x_test, y_train, y_test = pipeline(['reviewText', 'verified'], 0.25, baseline, tfidf, df_testing)\n",
    "model = SVC(probability=True)\n",
    "model.fit(x_train, y_train)\n",
    "y_pred = model.predict(x_test)\n",
    "print(classification_report(y_test, y_pred))\n",
    "accuracy = accuracy_score(y_test, y_pred)\n",
    "f1 = f1_score(y_test, y_pred, average=\"weighted\")\n",
    "precision = precision_score(y_test, y_pred, average=\"weighted\")\n",
    "y_pred_prob = model.predict_proba(x_test)\n",
    "roc_auc = roc_auc_score(y_test, y_pred_prob, multi_class=\"ovr\")\n",
    "compare_list.loc[len(compare_list)] = [{'col': ['reviewText', 'verified'], 'proc': 'baseline', 'vectorizer': 'tfidf'}, accuracy, f1, precision, roc_auc]"
   ]
  },
  {
   "cell_type": "code",
   "execution_count": 29,
   "id": "feb815ef",
   "metadata": {},
   "outputs": [
    {
     "name": "stdout",
     "output_type": "stream",
     "text": [
      "              precision    recall  f1-score   support\n",
      "\n",
      "          -1       0.73      0.04      0.08       260\n",
      "           0       1.00      0.00      0.01       259\n",
      "           1       0.88      1.00      0.94      3798\n",
      "\n",
      "    accuracy                           0.88      4317\n",
      "   macro avg       0.87      0.35      0.34      4317\n",
      "weighted avg       0.88      0.88      0.83      4317\n",
      "\n"
     ]
    }
   ],
   "source": [
    "x_train, x_test, y_train, y_test = pipeline(['reviewText', 'verified'], 0.25, stem, bow, df_testing)\n",
    "model = SVC(probability=True)\n",
    "model.fit(x_train, y_train)\n",
    "y_pred = model.predict(x_test)\n",
    "print(classification_report(y_test, y_pred))\n",
    "accuracy = accuracy_score(y_test, y_pred)\n",
    "f1 = f1_score(y_test, y_pred, average=\"weighted\")\n",
    "precision = precision_score(y_test, y_pred, average=\"weighted\")\n",
    "y_pred_prob = model.predict_proba(x_test)\n",
    "roc_auc = roc_auc_score(y_test, y_pred_prob, multi_class=\"ovr\")\n",
    "compare_list.loc[len(compare_list)] = [{'col': ['reviewText', 'verified'], 'proc': 'stem', 'vectorizer': 'bow'}, accuracy, f1, precision, roc_auc]"
   ]
  },
  {
   "cell_type": "code",
   "execution_count": 30,
   "id": "41f092c1",
   "metadata": {},
   "outputs": [
    {
     "name": "stdout",
     "output_type": "stream",
     "text": [
      "              precision    recall  f1-score   support\n",
      "\n",
      "          -1       0.75      0.07      0.13       260\n",
      "           0       0.50      0.01      0.02       259\n",
      "           1       0.88      1.00      0.94      3798\n",
      "\n",
      "    accuracy                           0.88      4317\n",
      "   macro avg       0.71      0.36      0.36      4317\n",
      "weighted avg       0.85      0.88      0.83      4317\n",
      "\n"
     ]
    }
   ],
   "source": [
    "x_train, x_test, y_train, y_test = pipeline(['reviewText', 'verified'], 0.25, stem, tfidf, df_testing)\n",
    "model = SVC(probability=True)\n",
    "model.fit(x_train, y_train)\n",
    "y_pred = model.predict(x_test)\n",
    "print(classification_report(y_test, y_pred))\n",
    "accuracy = accuracy_score(y_test, y_pred)\n",
    "f1 = f1_score(y_test, y_pred, average=\"weighted\")\n",
    "precision = precision_score(y_test, y_pred, average=\"weighted\")\n",
    "y_pred_prob = model.predict_proba(x_test)\n",
    "roc_auc = roc_auc_score(y_test, y_pred_prob, multi_class=\"ovr\")\n",
    "compare_list.loc[len(compare_list)] = [{'col': ['reviewText', 'verified'], 'proc': 'stem', 'vectorizer': 'tfidf'}, accuracy, f1, precision, roc_auc]"
   ]
  },
  {
   "cell_type": "code",
   "execution_count": 31,
   "id": "ec788b40",
   "metadata": {},
   "outputs": [
    {
     "name": "stdout",
     "output_type": "stream",
     "text": [
      "              precision    recall  f1-score   support\n",
      "\n",
      "          -1       1.00      0.02      0.05       260\n",
      "           0       1.00      0.00      0.01       259\n",
      "           1       0.88      1.00      0.94      3798\n",
      "\n",
      "    accuracy                           0.88      4317\n",
      "   macro avg       0.96      0.34      0.33      4317\n",
      "weighted avg       0.90      0.88      0.83      4317\n",
      "\n"
     ]
    }
   ],
   "source": [
    "x_train, x_test, y_train, y_test = pipeline(['reviewText', 'verified'], 0.25, lem, bow, df_testing)\n",
    "model = SVC(probability=True)\n",
    "model.fit(x_train, y_train)\n",
    "y_pred = model.predict(x_test)\n",
    "print(classification_report(y_test, y_pred))\n",
    "accuracy = accuracy_score(y_test, y_pred)\n",
    "f1 = f1_score(y_test, y_pred, average=\"weighted\")\n",
    "precision = precision_score(y_test, y_pred, average=\"weighted\")\n",
    "y_pred_prob = model.predict_proba(x_test)\n",
    "roc_auc = roc_auc_score(y_test, y_pred_prob, multi_class=\"ovr\")\n",
    "compare_list.loc[len(compare_list)] = [{'col': ['reviewText', 'verified'], 'proc': 'lem', 'vectorizer': 'bow'}, accuracy, f1, precision, roc_auc]"
   ]
  },
  {
   "cell_type": "code",
   "execution_count": 32,
   "id": "366d9174",
   "metadata": {},
   "outputs": [
    {
     "name": "stdout",
     "output_type": "stream",
     "text": [
      "              precision    recall  f1-score   support\n",
      "\n",
      "          -1       0.75      0.05      0.09       260\n",
      "           0       0.60      0.01      0.02       259\n",
      "           1       0.88      1.00      0.94      3798\n",
      "\n",
      "    accuracy                           0.88      4317\n",
      "   macro avg       0.74      0.35      0.35      4317\n",
      "weighted avg       0.86      0.88      0.83      4317\n",
      "\n"
     ]
    }
   ],
   "source": [
    "x_train, x_test, y_train, y_test = pipeline(['reviewText', 'verified'], 0.25, lem, tfidf, df_testing)\n",
    "model = SVC(probability=True)\n",
    "model.fit(x_train, y_train)\n",
    "y_pred = model.predict(x_test)\n",
    "print(classification_report(y_test, y_pred))\n",
    "accuracy = accuracy_score(y_test, y_pred)\n",
    "f1 = f1_score(y_test, y_pred, average=\"weighted\")\n",
    "precision = precision_score(y_test, y_pred, average=\"weighted\")\n",
    "y_pred_prob = model.predict_proba(x_test)\n",
    "roc_auc = roc_auc_score(y_test, y_pred_prob, multi_class=\"ovr\")\n",
    "compare_list.loc[len(compare_list)] = [{'col': ['reviewText', 'verified'], 'proc': 'lem', 'vectorizer': 'tfidf'}, accuracy, f1, precision, roc_auc]"
   ]
  },
  {
   "cell_type": "code",
   "execution_count": 33,
   "id": "ef1954c2",
   "metadata": {},
   "outputs": [
    {
     "name": "stdout",
     "output_type": "stream",
     "text": [
      "              precision    recall  f1-score   support\n",
      "\n",
      "          -1       0.85      0.18      0.30       260\n",
      "           0       0.92      0.25      0.40       259\n",
      "           1       0.91      1.00      0.95      3798\n",
      "\n",
      "    accuracy                           0.90      4317\n",
      "   macro avg       0.89      0.48      0.55      4317\n",
      "weighted avg       0.90      0.90      0.88      4317\n",
      "\n"
     ]
    }
   ],
   "source": [
    "x_train, x_test, y_train, y_test = pipeline(['reviewTextWithSummary'], 0.25, None, bow, df_testing)\n",
    "model = SVC(probability=True)\n",
    "model.fit(x_train, y_train)\n",
    "y_pred = model.predict(x_test)\n",
    "print(classification_report(y_test, y_pred))\n",
    "accuracy = accuracy_score(y_test, y_pred)\n",
    "f1 = f1_score(y_test, y_pred, average=\"weighted\")\n",
    "precision = precision_score(y_test, y_pred, average=\"weighted\")\n",
    "y_pred_prob = model.predict_proba(x_test)\n",
    "roc_auc = roc_auc_score(y_test, y_pred_prob, multi_class=\"ovr\")\n",
    "compare_list.loc[len(compare_list)] = [{'col': ['reviewTextWithSummary'], 'proc': None, 'vectorizer': 'bow'}, accuracy, f1, precision, roc_auc]"
   ]
  },
  {
   "cell_type": "code",
   "execution_count": 34,
   "id": "9df579df",
   "metadata": {},
   "outputs": [
    {
     "name": "stdout",
     "output_type": "stream",
     "text": [
      "              precision    recall  f1-score   support\n",
      "\n",
      "          -1       0.82      0.26      0.40       260\n",
      "           0       0.97      0.22      0.36       259\n",
      "           1       0.91      1.00      0.95      3798\n",
      "\n",
      "    accuracy                           0.91      4317\n",
      "   macro avg       0.90      0.49      0.57      4317\n",
      "weighted avg       0.91      0.91      0.88      4317\n",
      "\n"
     ]
    }
   ],
   "source": [
    "x_train, x_test, y_train, y_test = pipeline(['reviewTextWithSummary'], 0.25, None, tfidf, df_testing)\n",
    "model = SVC(probability=True)\n",
    "model.fit(x_train, y_train)\n",
    "y_pred = model.predict(x_test)\n",
    "print(classification_report(y_test, y_pred))\n",
    "accuracy = accuracy_score(y_test, y_pred)\n",
    "f1 = f1_score(y_test, y_pred, average=\"weighted\")\n",
    "precision = precision_score(y_test, y_pred, average=\"weighted\")\n",
    "y_pred_prob = model.predict_proba(x_test)\n",
    "roc_auc = roc_auc_score(y_test, y_pred_prob, multi_class=\"ovr\")\n",
    "compare_list.loc[len(compare_list)] = [{'col': ['reviewTextWithSummary'], 'proc': None, 'vectorizer': 'tfidf'}, accuracy, f1, precision, roc_auc]"
   ]
  },
  {
   "cell_type": "code",
   "execution_count": 35,
   "id": "791eaa3d",
   "metadata": {},
   "outputs": [
    {
     "name": "stdout",
     "output_type": "stream",
     "text": [
      "              precision    recall  f1-score   support\n",
      "\n",
      "          -1       0.92      0.22      0.35       260\n",
      "           0       0.92      0.25      0.39       259\n",
      "           1       0.91      1.00      0.95      3798\n",
      "\n",
      "    accuracy                           0.91      4317\n",
      "   macro avg       0.91      0.49      0.56      4317\n",
      "weighted avg       0.91      0.91      0.88      4317\n",
      "\n"
     ]
    }
   ],
   "source": [
    "x_train, x_test, y_train, y_test = pipeline(['reviewTextWithSummary'], 0.25, baseline, bow, df_testing)\n",
    "model = SVC(probability=True)\n",
    "model.fit(x_train, y_train)\n",
    "y_pred = model.predict(x_test)\n",
    "print(classification_report(y_test, y_pred))\n",
    "accuracy = accuracy_score(y_test, y_pred)\n",
    "f1 = f1_score(y_test, y_pred, average=\"weighted\")\n",
    "precision = precision_score(y_test, y_pred, average=\"weighted\")\n",
    "y_pred_prob = model.predict_proba(x_test)\n",
    "roc_auc = roc_auc_score(y_test, y_pred_prob, multi_class=\"ovr\")\n",
    "compare_list.loc[len(compare_list)] = [{'col': ['reviewTextWithSummary'], 'proc': 'baseline', 'vectorizer': 'bow'}, accuracy, f1, precision, roc_auc]"
   ]
  },
  {
   "cell_type": "code",
   "execution_count": 36,
   "id": "9ec687c9",
   "metadata": {},
   "outputs": [
    {
     "name": "stdout",
     "output_type": "stream",
     "text": [
      "              precision    recall  f1-score   support\n",
      "\n",
      "          -1       0.91      0.22      0.36       260\n",
      "           0       0.92      0.23      0.37       259\n",
      "           1       0.91      1.00      0.95      3798\n",
      "\n",
      "    accuracy                           0.91      4317\n",
      "   macro avg       0.91      0.48      0.56      4317\n",
      "weighted avg       0.91      0.91      0.88      4317\n",
      "\n"
     ]
    }
   ],
   "source": [
    "x_train, x_test, y_train, y_test = pipeline(['reviewTextWithSummary'], 0.25, baseline, tfidf, df_testing)\n",
    "model = SVC(probability=True)\n",
    "model.fit(x_train, y_train)\n",
    "y_pred = model.predict(x_test)\n",
    "print(classification_report(y_test, y_pred))\n",
    "accuracy = accuracy_score(y_test, y_pred)\n",
    "f1 = f1_score(y_test, y_pred, average=\"weighted\")\n",
    "precision = precision_score(y_test, y_pred, average=\"weighted\")\n",
    "y_pred_prob = model.predict_proba(x_test)\n",
    "roc_auc = roc_auc_score(y_test, y_pred_prob, multi_class=\"ovr\")\n",
    "compare_list.loc[len(compare_list)] = [{'col': ['reviewTextWithSummary'], 'proc': 'baseline', 'vectorizer': 'tfidf'}, accuracy, f1, precision, roc_auc]"
   ]
  },
  {
   "cell_type": "code",
   "execution_count": 37,
   "id": "7b5c638f",
   "metadata": {},
   "outputs": [
    {
     "name": "stdout",
     "output_type": "stream",
     "text": [
      "              precision    recall  f1-score   support\n",
      "\n",
      "          -1       0.87      0.23      0.36       260\n",
      "           0       0.92      0.25      0.39       259\n",
      "           1       0.91      1.00      0.95      3798\n",
      "\n",
      "    accuracy                           0.91      4317\n",
      "   macro avg       0.90      0.49      0.57      4317\n",
      "weighted avg       0.91      0.91      0.88      4317\n",
      "\n"
     ]
    }
   ],
   "source": [
    "x_train, x_test, y_train, y_test = pipeline(['reviewTextWithSummary'], 0.25, stem, bow, df_testing)\n",
    "model = SVC(probability=True)\n",
    "model.fit(x_train, y_train)\n",
    "y_pred = model.predict(x_test)\n",
    "print(classification_report(y_test, y_pred))\n",
    "accuracy = accuracy_score(y_test, y_pred)\n",
    "f1 = f1_score(y_test, y_pred, average=\"weighted\")\n",
    "precision = precision_score(y_test, y_pred, average=\"weighted\")\n",
    "y_pred_prob = model.predict_proba(x_test)\n",
    "roc_auc = roc_auc_score(y_test, y_pred_prob, multi_class=\"ovr\")\n",
    "compare_list.loc[len(compare_list)] = [{'col': ['reviewTextWithSummary'], 'proc': 'stem', 'vectorizer': 'bow'}, accuracy, f1, precision, roc_auc]"
   ]
  },
  {
   "cell_type": "code",
   "execution_count": 38,
   "id": "1c97edea",
   "metadata": {},
   "outputs": [
    {
     "name": "stdout",
     "output_type": "stream",
     "text": [
      "              precision    recall  f1-score   support\n",
      "\n",
      "          -1       0.85      0.21      0.34       260\n",
      "           0       0.90      0.23      0.37       259\n",
      "           1       0.91      1.00      0.95      3798\n",
      "\n",
      "    accuracy                           0.90      4317\n",
      "   macro avg       0.88      0.48      0.55      4317\n",
      "weighted avg       0.90      0.90      0.88      4317\n",
      "\n"
     ]
    }
   ],
   "source": [
    "x_train, x_test, y_train, y_test = pipeline(['reviewTextWithSummary'], 0.25, stem, tfidf, df_testing)\n",
    "model = SVC(probability=True)\n",
    "model.fit(x_train, y_train)\n",
    "y_pred = model.predict(x_test)\n",
    "print(classification_report(y_test, y_pred))\n",
    "accuracy = accuracy_score(y_test, y_pred)\n",
    "f1 = f1_score(y_test, y_pred, average=\"weighted\")\n",
    "precision = precision_score(y_test, y_pred, average=\"weighted\")\n",
    "y_pred_prob = model.predict_proba(x_test)\n",
    "roc_auc = roc_auc_score(y_test, y_pred_prob, multi_class=\"ovr\")\n",
    "compare_list.loc[len(compare_list)] = [{'col': ['reviewTextWithSummary'], 'proc': 'stem', 'vectorizer': 'tfidf'}, accuracy, f1, precision, roc_auc]"
   ]
  },
  {
   "cell_type": "code",
   "execution_count": 39,
   "id": "165a9e68",
   "metadata": {},
   "outputs": [
    {
     "name": "stdout",
     "output_type": "stream",
     "text": [
      "              precision    recall  f1-score   support\n",
      "\n",
      "          -1       0.92      0.21      0.34       260\n",
      "           0       0.92      0.25      0.40       259\n",
      "           1       0.91      1.00      0.95      3798\n",
      "\n",
      "    accuracy                           0.91      4317\n",
      "   macro avg       0.91      0.49      0.56      4317\n",
      "weighted avg       0.91      0.91      0.88      4317\n",
      "\n"
     ]
    }
   ],
   "source": [
    "x_train, x_test, y_train, y_test = pipeline(['reviewTextWithSummary'], 0.25, lem, bow, df_testing)\n",
    "model = SVC(probability=True)\n",
    "model.fit(x_train, y_train)\n",
    "y_pred = model.predict(x_test)\n",
    "print(classification_report(y_test, y_pred))\n",
    "accuracy = accuracy_score(y_test, y_pred)\n",
    "f1 = f1_score(y_test, y_pred, average=\"weighted\")\n",
    "precision = precision_score(y_test, y_pred, average=\"weighted\")\n",
    "y_pred_prob = model.predict_proba(x_test)\n",
    "roc_auc = roc_auc_score(y_test, y_pred_prob, multi_class=\"ovr\")\n",
    "compare_list.loc[len(compare_list)] = [{'col': ['reviewTextWithSummary'], 'proc': 'lem', 'vectorizer': 'bow'}, accuracy, f1, precision, roc_auc]"
   ]
  },
  {
   "cell_type": "code",
   "execution_count": 40,
   "id": "52c0e51e",
   "metadata": {},
   "outputs": [
    {
     "name": "stdout",
     "output_type": "stream",
     "text": [
      "              precision    recall  f1-score   support\n",
      "\n",
      "          -1       0.86      0.19      0.31       260\n",
      "           0       0.90      0.23      0.37       259\n",
      "           1       0.90      1.00      0.95      3798\n",
      "\n",
      "    accuracy                           0.90      4317\n",
      "   macro avg       0.89      0.47      0.54      4317\n",
      "weighted avg       0.90      0.90      0.88      4317\n",
      "\n"
     ]
    }
   ],
   "source": [
    "x_train, x_test, y_train, y_test = pipeline(['reviewTextWithSummary'], 0.25, lem, tfidf, df_testing)\n",
    "model = SVC(probability=True)\n",
    "model.fit(x_train, y_train)\n",
    "y_pred = model.predict(x_test)\n",
    "print(classification_report(y_test, y_pred))\n",
    "accuracy = accuracy_score(y_test, y_pred)\n",
    "f1 = f1_score(y_test, y_pred, average=\"weighted\")\n",
    "precision = precision_score(y_test, y_pred, average=\"weighted\")\n",
    "y_pred_prob = model.predict_proba(x_test)\n",
    "roc_auc = roc_auc_score(y_test, y_pred_prob, multi_class=\"ovr\")\n",
    "compare_list.loc[len(compare_list)] = [{'col': ['reviewTextWithSummary'], 'proc': 'lem', 'vectorizer': 'tfidf'}, accuracy, f1, precision, roc_auc]"
   ]
  },
  {
   "cell_type": "code",
   "execution_count": 41,
   "id": "3c190dbb",
   "metadata": {},
   "outputs": [
    {
     "name": "stdout",
     "output_type": "stream",
     "text": [
      "              precision    recall  f1-score   support\n",
      "\n",
      "          -1       0.84      0.18      0.29       260\n",
      "           0       0.92      0.25      0.40       259\n",
      "           1       0.91      1.00      0.95      3798\n",
      "\n",
      "    accuracy                           0.90      4317\n",
      "   macro avg       0.89      0.48      0.55      4317\n",
      "weighted avg       0.90      0.90      0.88      4317\n",
      "\n"
     ]
    }
   ],
   "source": [
    "x_train, x_test, y_train, y_test = pipeline(['reviewTextWithSummary', 'verified'], 0.25, None, bow, df_testing)\n",
    "model = SVC(probability=True)\n",
    "model.fit(x_train, y_train)\n",
    "y_pred = model.predict(x_test)\n",
    "print(classification_report(y_test, y_pred))\n",
    "accuracy = accuracy_score(y_test, y_pred)\n",
    "f1 = f1_score(y_test, y_pred, average=\"weighted\")\n",
    "precision = precision_score(y_test, y_pred, average=\"weighted\")\n",
    "y_pred_prob = model.predict_proba(x_test)\n",
    "roc_auc = roc_auc_score(y_test, y_pred_prob, multi_class=\"ovr\")\n",
    "compare_list.loc[len(compare_list)] = [{'col': ['reviewTextWithSummary', 'verified'], 'proc': None, 'vectorizer': 'bow'}, accuracy, f1, precision, roc_auc]"
   ]
  },
  {
   "cell_type": "code",
   "execution_count": 42,
   "id": "2cd9078d",
   "metadata": {},
   "outputs": [
    {
     "name": "stdout",
     "output_type": "stream",
     "text": [
      "              precision    recall  f1-score   support\n",
      "\n",
      "          -1       0.83      0.26      0.39       260\n",
      "           0       0.97      0.22      0.36       259\n",
      "           1       0.91      1.00      0.95      3798\n",
      "\n",
      "    accuracy                           0.91      4317\n",
      "   macro avg       0.90      0.49      0.57      4317\n",
      "weighted avg       0.91      0.91      0.88      4317\n",
      "\n"
     ]
    }
   ],
   "source": [
    "x_train, x_test, y_train, y_test = pipeline(['reviewTextWithSummary', 'verified'], 0.25, None, tfidf, df_testing)\n",
    "model = SVC(probability=True)\n",
    "model.fit(x_train, y_train)\n",
    "y_pred = model.predict(x_test)\n",
    "print(classification_report(y_test, y_pred))\n",
    "accuracy = accuracy_score(y_test, y_pred)\n",
    "f1 = f1_score(y_test, y_pred, average=\"weighted\")\n",
    "precision = precision_score(y_test, y_pred, average=\"weighted\")\n",
    "y_pred_prob = model.predict_proba(x_test)\n",
    "roc_auc = roc_auc_score(y_test, y_pred_prob, multi_class=\"ovr\")\n",
    "compare_list.loc[len(compare_list)] = [{'col': ['reviewTextWithSummary', 'verified'], 'proc': None, 'vectorizer': 'tfidf'}, accuracy, f1, precision, roc_auc]"
   ]
  },
  {
   "cell_type": "code",
   "execution_count": 43,
   "id": "dee92a77",
   "metadata": {},
   "outputs": [
    {
     "name": "stdout",
     "output_type": "stream",
     "text": [
      "              precision    recall  f1-score   support\n",
      "\n",
      "          -1       0.92      0.22      0.35       260\n",
      "           0       0.92      0.25      0.40       259\n",
      "           1       0.91      1.00      0.95      3798\n",
      "\n",
      "    accuracy                           0.91      4317\n",
      "   macro avg       0.91      0.49      0.57      4317\n",
      "weighted avg       0.91      0.91      0.88      4317\n",
      "\n"
     ]
    }
   ],
   "source": [
    "x_train, x_test, y_train, y_test = pipeline(['reviewTextWithSummary', 'verified'], 0.25, baseline, bow, df_testing)\n",
    "model = SVC(probability=True)\n",
    "model.fit(x_train, y_train)\n",
    "y_pred = model.predict(x_test)\n",
    "print(classification_report(y_test, y_pred))\n",
    "accuracy = accuracy_score(y_test, y_pred)\n",
    "f1 = f1_score(y_test, y_pred, average=\"weighted\")\n",
    "precision = precision_score(y_test, y_pred, average=\"weighted\")\n",
    "y_pred_prob = model.predict_proba(x_test)\n",
    "roc_auc = roc_auc_score(y_test, y_pred_prob, multi_class=\"ovr\")\n",
    "compare_list.loc[len(compare_list)] = [{'col': ['reviewTextWithSummary', 'verified'], 'proc': 'baseline', 'vectorizer': 'bow'}, accuracy, f1, precision, roc_auc]"
   ]
  },
  {
   "cell_type": "code",
   "execution_count": 44,
   "id": "7567a85a",
   "metadata": {},
   "outputs": [
    {
     "name": "stdout",
     "output_type": "stream",
     "text": [
      "              precision    recall  f1-score   support\n",
      "\n",
      "          -1       0.91      0.22      0.36       260\n",
      "           0       0.94      0.23      0.37       259\n",
      "           1       0.90      1.00      0.95      3798\n",
      "\n",
      "    accuracy                           0.91      4317\n",
      "   macro avg       0.92      0.48      0.56      4317\n",
      "weighted avg       0.91      0.91      0.88      4317\n",
      "\n"
     ]
    }
   ],
   "source": [
    "x_train, x_test, y_train, y_test = pipeline(['reviewTextWithSummary', 'verified'], 0.25, baseline, tfidf, df_testing)\n",
    "model = SVC(probability=True)\n",
    "model.fit(x_train, y_train)\n",
    "y_pred = model.predict(x_test)\n",
    "print(classification_report(y_test, y_pred))\n",
    "accuracy = accuracy_score(y_test, y_pred)\n",
    "f1 = f1_score(y_test, y_pred, average=\"weighted\")\n",
    "precision = precision_score(y_test, y_pred, average=\"weighted\")\n",
    "y_pred_prob = model.predict_proba(x_test)\n",
    "roc_auc = roc_auc_score(y_test, y_pred_prob, multi_class=\"ovr\")\n",
    "compare_list.loc[len(compare_list)] = [{'col': ['reviewTextWithSummary', 'verified'], 'proc': 'baseline', 'vectorizer': 'tfidf'}, accuracy, f1, precision, roc_auc]"
   ]
  },
  {
   "cell_type": "code",
   "execution_count": 45,
   "id": "415f39c2",
   "metadata": {},
   "outputs": [
    {
     "name": "stdout",
     "output_type": "stream",
     "text": [
      "              precision    recall  f1-score   support\n",
      "\n",
      "          -1       0.87      0.23      0.36       260\n",
      "           0       0.92      0.25      0.39       259\n",
      "           1       0.91      1.00      0.95      3798\n",
      "\n",
      "    accuracy                           0.91      4317\n",
      "   macro avg       0.90      0.49      0.57      4317\n",
      "weighted avg       0.91      0.91      0.88      4317\n",
      "\n"
     ]
    }
   ],
   "source": [
    "x_train, x_test, y_train, y_test = pipeline(['reviewTextWithSummary', 'verified'], 0.25, stem, bow, df_testing)\n",
    "model = SVC(probability=True)\n",
    "model.fit(x_train, y_train)\n",
    "y_pred = model.predict(x_test)\n",
    "print(classification_report(y_test, y_pred))\n",
    "accuracy = accuracy_score(y_test, y_pred)\n",
    "f1 = f1_score(y_test, y_pred, average=\"weighted\")\n",
    "precision = precision_score(y_test, y_pred, average=\"weighted\")\n",
    "y_pred_prob = model.predict_proba(x_test)\n",
    "roc_auc = roc_auc_score(y_test, y_pred_prob, multi_class=\"ovr\")\n",
    "compare_list.loc[len(compare_list)] = [{'col': ['reviewTextWithSummary', 'verified'], 'proc': 'stem', 'vectorizer': 'bow'}, accuracy, f1, precision, roc_auc]"
   ]
  },
  {
   "cell_type": "code",
   "execution_count": 46,
   "id": "d093aabc",
   "metadata": {},
   "outputs": [
    {
     "name": "stdout",
     "output_type": "stream",
     "text": [
      "              precision    recall  f1-score   support\n",
      "\n",
      "          -1       0.87      0.22      0.35       260\n",
      "           0       0.92      0.23      0.37       259\n",
      "           1       0.91      1.00      0.95      3798\n",
      "\n",
      "    accuracy                           0.91      4317\n",
      "   macro avg       0.90      0.48      0.56      4317\n",
      "weighted avg       0.90      0.91      0.88      4317\n",
      "\n"
     ]
    }
   ],
   "source": [
    "x_train, x_test, y_train, y_test = pipeline(['reviewTextWithSummary', 'verified'], 0.25, stem, tfidf, df_testing)\n",
    "model = SVC(probability=True)\n",
    "model.fit(x_train, y_train)\n",
    "y_pred = model.predict(x_test)\n",
    "print(classification_report(y_test, y_pred))\n",
    "accuracy = accuracy_score(y_test, y_pred)\n",
    "f1 = f1_score(y_test, y_pred, average=\"weighted\")\n",
    "precision = precision_score(y_test, y_pred, average=\"weighted\")\n",
    "y_pred_prob = model.predict_proba(x_test)\n",
    "roc_auc = roc_auc_score(y_test, y_pred_prob, multi_class=\"ovr\")\n",
    "compare_list.loc[len(compare_list)] = [{'col': ['reviewTextWithSummary', 'verified'], 'proc': 'stem', 'vectorizer': 'tfidf'}, accuracy, f1, precision, roc_auc]"
   ]
  },
  {
   "cell_type": "code",
   "execution_count": 47,
   "id": "b9e8a72f",
   "metadata": {},
   "outputs": [
    {
     "name": "stdout",
     "output_type": "stream",
     "text": [
      "              precision    recall  f1-score   support\n",
      "\n",
      "          -1       0.91      0.20      0.33       260\n",
      "           0       0.92      0.25      0.40       259\n",
      "           1       0.91      1.00      0.95      3798\n",
      "\n",
      "    accuracy                           0.91      4317\n",
      "   macro avg       0.91      0.49      0.56      4317\n",
      "weighted avg       0.91      0.91      0.88      4317\n",
      "\n"
     ]
    }
   ],
   "source": [
    "x_train, x_test, y_train, y_test = pipeline(['reviewTextWithSummary', 'verified'], 0.25, lem, bow, df_testing)\n",
    "model = SVC(probability=True)\n",
    "model.fit(x_train, y_train)\n",
    "y_pred = model.predict(x_test)\n",
    "print(classification_report(y_test, y_pred))\n",
    "accuracy = accuracy_score(y_test, y_pred)\n",
    "f1 = f1_score(y_test, y_pred, average=\"weighted\")\n",
    "precision = precision_score(y_test, y_pred, average=\"weighted\")\n",
    "y_pred_prob = model.predict_proba(x_test)\n",
    "roc_auc = roc_auc_score(y_test, y_pred_prob, multi_class=\"ovr\")\n",
    "compare_list.loc[len(compare_list)] = [{'col': ['reviewTextWithSummary', 'verified'], 'proc': 'lem', 'vectorizer': 'bow'}, accuracy, f1, precision, roc_auc]"
   ]
  },
  {
   "cell_type": "code",
   "execution_count": 48,
   "id": "ddc17034",
   "metadata": {},
   "outputs": [
    {
     "name": "stdout",
     "output_type": "stream",
     "text": [
      "              precision    recall  f1-score   support\n",
      "\n",
      "          -1       0.90      0.20      0.33       260\n",
      "           0       0.92      0.23      0.37       259\n",
      "           1       0.90      1.00      0.95      3798\n",
      "\n",
      "    accuracy                           0.90      4317\n",
      "   macro avg       0.91      0.48      0.55      4317\n",
      "weighted avg       0.90      0.90      0.88      4317\n",
      "\n"
     ]
    }
   ],
   "source": [
    "x_train, x_test, y_train, y_test = pipeline(['reviewTextWithSummary', 'verified'], 0.25, lem, tfidf, df_testing)\n",
    "model = SVC(probability=True)\n",
    "model.fit(x_train, y_train)\n",
    "y_pred = model.predict(x_test)\n",
    "print(classification_report(y_test, y_pred))\n",
    "accuracy = accuracy_score(y_test, y_pred)\n",
    "f1 = f1_score(y_test, y_pred, average=\"weighted\")\n",
    "precision = precision_score(y_test, y_pred, average=\"weighted\")\n",
    "y_pred_prob = model.predict_proba(x_test)\n",
    "roc_auc = roc_auc_score(y_test, y_pred_prob, multi_class=\"ovr\")\n",
    "compare_list.loc[len(compare_list)] = [{'col': ['reviewTextWithSummary', 'verified'], 'proc': 'lem', 'vectorizer': 'tfidf'}, accuracy, f1, precision, roc_auc]\n",
    "#######  END OF GENERATED CODE  #######"
   ]
  },
  {
   "cell_type": "code",
   "execution_count": 49,
   "id": "970d6740",
   "metadata": {},
   "outputs": [
    {
     "data": {
      "text/html": [
       "<div>\n",
       "<style scoped>\n",
       "    .dataframe tbody tr th:only-of-type {\n",
       "        vertical-align: middle;\n",
       "    }\n",
       "\n",
       "    .dataframe tbody tr th {\n",
       "        vertical-align: top;\n",
       "    }\n",
       "\n",
       "    .dataframe thead th {\n",
       "        text-align: right;\n",
       "    }\n",
       "</style>\n",
       "<table border=\"1\" class=\"dataframe\">\n",
       "  <thead>\n",
       "    <tr style=\"text-align: right;\">\n",
       "      <th></th>\n",
       "      <th>Data config and preprocessing</th>\n",
       "      <th>Accuracy</th>\n",
       "      <th>F1 Score</th>\n",
       "      <th>Precision</th>\n",
       "      <th>ROC AUC</th>\n",
       "    </tr>\n",
       "  </thead>\n",
       "  <tbody>\n",
       "    <tr>\n",
       "      <th>0</th>\n",
       "      <td>{'col': ['reviewTextWithSummary'], 'proc': None, 'vectorizer': 'tfidf'}</td>\n",
       "      <td>0.908038</td>\n",
       "      <td>0.883097</td>\n",
       "      <td>0.907021</td>\n",
       "      <td>0.941108</td>\n",
       "    </tr>\n",
       "    <tr>\n",
       "      <th>1</th>\n",
       "      <td>{'col': ['reviewTextWithSummary', 'verified'], 'proc': None, 'vectorizer': 'tfidf'}</td>\n",
       "      <td>0.907111</td>\n",
       "      <td>0.881818</td>\n",
       "      <td>0.906466</td>\n",
       "      <td>0.939225</td>\n",
       "    </tr>\n",
       "    <tr>\n",
       "      <th>2</th>\n",
       "      <td>{'col': ['reviewTextWithSummary'], 'proc': 'stem', 'vectorizer': 'tfidf'}</td>\n",
       "      <td>0.904563</td>\n",
       "      <td>0.877833</td>\n",
       "      <td>0.901429</td>\n",
       "      <td>0.925283</td>\n",
       "    </tr>\n",
       "    <tr>\n",
       "      <th>3</th>\n",
       "      <td>{'col': ['reviewTextWithSummary', 'verified'], 'proc': None, 'vectorizer': 'bow'}</td>\n",
       "      <td>0.904332</td>\n",
       "      <td>0.876798</td>\n",
       "      <td>0.901577</td>\n",
       "      <td>0.924912</td>\n",
       "    </tr>\n",
       "    <tr>\n",
       "      <th>4</th>\n",
       "      <td>{'col': ['reviewTextWithSummary'], 'proc': None, 'vectorizer': 'bow'}</td>\n",
       "      <td>0.904563</td>\n",
       "      <td>0.877180</td>\n",
       "      <td>0.902672</td>\n",
       "      <td>0.924875</td>\n",
       "    </tr>\n",
       "    <tr>\n",
       "      <th>5</th>\n",
       "      <td>{'col': ['reviewTextWithSummary', 'verified'], 'proc': 'stem', 'vectorizer': 'tfidf'}</td>\n",
       "      <td>0.905027</td>\n",
       "      <td>0.878543</td>\n",
       "      <td>0.903995</td>\n",
       "      <td>0.924169</td>\n",
       "    </tr>\n",
       "    <tr>\n",
       "      <th>6</th>\n",
       "      <td>{'col': ['reviewTextWithSummary'], 'proc': 'baseline', 'vectorizer': 'tfidf'}</td>\n",
       "      <td>0.905722</td>\n",
       "      <td>0.879275</td>\n",
       "      <td>0.906551</td>\n",
       "      <td>0.923930</td>\n",
       "    </tr>\n",
       "    <tr>\n",
       "      <th>7</th>\n",
       "      <td>{'col': ['reviewTextWithSummary'], 'proc': 'lem', 'vectorizer': 'tfidf'}</td>\n",
       "      <td>0.903405</td>\n",
       "      <td>0.875656</td>\n",
       "      <td>0.901057</td>\n",
       "      <td>0.923389</td>\n",
       "    </tr>\n",
       "    <tr>\n",
       "      <th>8</th>\n",
       "      <td>{'col': ['reviewTextWithSummary', 'verified'], 'proc': 'baseline', 'vectorizer': 'tfidf'}</td>\n",
       "      <td>0.905490</td>\n",
       "      <td>0.879018</td>\n",
       "      <td>0.907016</td>\n",
       "      <td>0.922264</td>\n",
       "    </tr>\n",
       "    <tr>\n",
       "      <th>9</th>\n",
       "      <td>{'col': ['reviewTextWithSummary', 'verified'], 'proc': 'lem', 'vectorizer': 'tfidf'}</td>\n",
       "      <td>0.904100</td>\n",
       "      <td>0.876574</td>\n",
       "      <td>0.904651</td>\n",
       "      <td>0.921265</td>\n",
       "    </tr>\n",
       "    <tr>\n",
       "      <th>10</th>\n",
       "      <td>{'col': ['reviewTextWithSummary', 'verified'], 'proc': 'baseline', 'vectorizer': 'bow'}</td>\n",
       "      <td>0.906416</td>\n",
       "      <td>0.880629</td>\n",
       "      <td>0.907427</td>\n",
       "      <td>0.913245</td>\n",
       "    </tr>\n",
       "    <tr>\n",
       "      <th>11</th>\n",
       "      <td>{'col': ['reviewTextWithSummary'], 'proc': 'baseline', 'vectorizer': 'bow'}</td>\n",
       "      <td>0.906185</td>\n",
       "      <td>0.880233</td>\n",
       "      <td>0.907166</td>\n",
       "      <td>0.912976</td>\n",
       "    </tr>\n",
       "    <tr>\n",
       "      <th>12</th>\n",
       "      <td>{'col': ['reviewTextWithSummary', 'verified'], 'proc': 'stem', 'vectorizer': 'bow'}</td>\n",
       "      <td>0.907111</td>\n",
       "      <td>0.882025</td>\n",
       "      <td>0.905773</td>\n",
       "      <td>0.912322</td>\n",
       "    </tr>\n",
       "    <tr>\n",
       "      <th>13</th>\n",
       "      <td>{'col': ['reviewTextWithSummary'], 'proc': 'stem', 'vectorizer': 'bow'}</td>\n",
       "      <td>0.907111</td>\n",
       "      <td>0.882025</td>\n",
       "      <td>0.905773</td>\n",
       "      <td>0.912295</td>\n",
       "    </tr>\n",
       "    <tr>\n",
       "      <th>14</th>\n",
       "      <td>{'col': ['reviewTextWithSummary'], 'proc': 'lem', 'vectorizer': 'bow'}</td>\n",
       "      <td>0.905953</td>\n",
       "      <td>0.879796</td>\n",
       "      <td>0.906879</td>\n",
       "      <td>0.910064</td>\n",
       "    </tr>\n",
       "    <tr>\n",
       "      <th>15</th>\n",
       "      <td>{'col': ['reviewTextWithSummary', 'verified'], 'proc': 'lem', 'vectorizer': 'bow'}</td>\n",
       "      <td>0.905953</td>\n",
       "      <td>0.879597</td>\n",
       "      <td>0.906811</td>\n",
       "      <td>0.910044</td>\n",
       "    </tr>\n",
       "    <tr>\n",
       "      <th>16</th>\n",
       "      <td>{'col': ['reviewText'], 'proc': None, 'vectorizer': 'tfidf'}</td>\n",
       "      <td>0.883947</td>\n",
       "      <td>0.834215</td>\n",
       "      <td>0.884056</td>\n",
       "      <td>0.887932</td>\n",
       "    </tr>\n",
       "    <tr>\n",
       "      <th>17</th>\n",
       "      <td>{'col': ['reviewText', 'verified'], 'proc': None, 'vectorizer': 'tfidf'}</td>\n",
       "      <td>0.883716</td>\n",
       "      <td>0.833221</td>\n",
       "      <td>0.827045</td>\n",
       "      <td>0.885258</td>\n",
       "    </tr>\n",
       "    <tr>\n",
       "      <th>18</th>\n",
       "      <td>{'col': ['reviewText'], 'proc': 'baseline', 'vectorizer': 'tfidf'}</td>\n",
       "      <td>0.883021</td>\n",
       "      <td>0.831891</td>\n",
       "      <td>0.889977</td>\n",
       "      <td>0.863978</td>\n",
       "    </tr>\n",
       "    <tr>\n",
       "      <th>19</th>\n",
       "      <td>{'col': ['reviewText', 'verified'], 'proc': 'baseline', 'vectorizer': 'tfidf'}</td>\n",
       "      <td>0.882789</td>\n",
       "      <td>0.831951</td>\n",
       "      <td>0.865191</td>\n",
       "      <td>0.862210</td>\n",
       "    </tr>\n",
       "    <tr>\n",
       "      <th>20</th>\n",
       "      <td>{'col': ['reviewText'], 'proc': 'lem', 'vectorizer': 'tfidf'}</td>\n",
       "      <td>0.883252</td>\n",
       "      <td>0.832403</td>\n",
       "      <td>0.890551</td>\n",
       "      <td>0.861896</td>\n",
       "    </tr>\n",
       "    <tr>\n",
       "      <th>21</th>\n",
       "      <td>{'col': ['reviewText'], 'proc': 'stem', 'vectorizer': 'tfidf'}</td>\n",
       "      <td>0.884642</td>\n",
       "      <td>0.836146</td>\n",
       "      <td>0.827356</td>\n",
       "      <td>0.861267</td>\n",
       "    </tr>\n",
       "    <tr>\n",
       "      <th>22</th>\n",
       "      <td>{'col': ['reviewText', 'verified'], 'proc': 'lem', 'vectorizer': 'tfidf'}</td>\n",
       "      <td>0.882094</td>\n",
       "      <td>0.831161</td>\n",
       "      <td>0.857936</td>\n",
       "      <td>0.860309</td>\n",
       "    </tr>\n",
       "    <tr>\n",
       "      <th>23</th>\n",
       "      <td>{'col': ['reviewText', 'verified'], 'proc': 'stem', 'vectorizer': 'tfidf'}</td>\n",
       "      <td>0.883021</td>\n",
       "      <td>0.833604</td>\n",
       "      <td>0.852999</td>\n",
       "      <td>0.859295</td>\n",
       "    </tr>\n",
       "    <tr>\n",
       "      <th>24</th>\n",
       "      <td>{'col': ['reviewText', 'verified'], 'proc': None, 'vectorizer': 'bow'}</td>\n",
       "      <td>0.880704</td>\n",
       "      <td>0.825753</td>\n",
       "      <td>0.894949</td>\n",
       "      <td>0.852185</td>\n",
       "    </tr>\n",
       "    <tr>\n",
       "      <th>25</th>\n",
       "      <td>{'col': ['reviewText'], 'proc': None, 'vectorizer': 'bow'}</td>\n",
       "      <td>0.880704</td>\n",
       "      <td>0.825753</td>\n",
       "      <td>0.894949</td>\n",
       "      <td>0.852023</td>\n",
       "    </tr>\n",
       "    <tr>\n",
       "      <th>26</th>\n",
       "      <td>{'col': ['reviewText', 'verified'], 'proc': 'baseline', 'vectorizer': 'bow'}</td>\n",
       "      <td>0.881631</td>\n",
       "      <td>0.827943</td>\n",
       "      <td>0.895668</td>\n",
       "      <td>0.835736</td>\n",
       "    </tr>\n",
       "    <tr>\n",
       "      <th>27</th>\n",
       "      <td>{'col': ['reviewText'], 'proc': 'baseline', 'vectorizer': 'bow'}</td>\n",
       "      <td>0.881631</td>\n",
       "      <td>0.827943</td>\n",
       "      <td>0.895668</td>\n",
       "      <td>0.834793</td>\n",
       "    </tr>\n",
       "    <tr>\n",
       "      <th>28</th>\n",
       "      <td>{'col': ['reviewText', 'verified'], 'proc': 'stem', 'vectorizer': 'bow'}</td>\n",
       "      <td>0.882094</td>\n",
       "      <td>0.829983</td>\n",
       "      <td>0.880641</td>\n",
       "      <td>0.834404</td>\n",
       "    </tr>\n",
       "    <tr>\n",
       "      <th>29</th>\n",
       "      <td>{'col': ['reviewText'], 'proc': 'stem', 'vectorizer': 'bow'}</td>\n",
       "      <td>0.882094</td>\n",
       "      <td>0.829983</td>\n",
       "      <td>0.880641</td>\n",
       "      <td>0.833916</td>\n",
       "    </tr>\n",
       "    <tr>\n",
       "      <th>30</th>\n",
       "      <td>{'col': ['reviewText', 'verified'], 'proc': 'lem', 'vectorizer': 'bow'}</td>\n",
       "      <td>0.881399</td>\n",
       "      <td>0.827400</td>\n",
       "      <td>0.895488</td>\n",
       "      <td>0.831323</td>\n",
       "    </tr>\n",
       "    <tr>\n",
       "      <th>31</th>\n",
       "      <td>{'col': ['reviewText'], 'proc': 'lem', 'vectorizer': 'bow'}</td>\n",
       "      <td>0.881399</td>\n",
       "      <td>0.827400</td>\n",
       "      <td>0.895488</td>\n",
       "      <td>0.830769</td>\n",
       "    </tr>\n",
       "  </tbody>\n",
       "</table>\n",
       "</div>"
      ],
      "text/plain": [
       "                                                                Data config and preprocessing  \\\n",
       "0                     {'col': ['reviewTextWithSummary'], 'proc': None, 'vectorizer': 'tfidf'}   \n",
       "1         {'col': ['reviewTextWithSummary', 'verified'], 'proc': None, 'vectorizer': 'tfidf'}   \n",
       "2                   {'col': ['reviewTextWithSummary'], 'proc': 'stem', 'vectorizer': 'tfidf'}   \n",
       "3           {'col': ['reviewTextWithSummary', 'verified'], 'proc': None, 'vectorizer': 'bow'}   \n",
       "4                       {'col': ['reviewTextWithSummary'], 'proc': None, 'vectorizer': 'bow'}   \n",
       "5       {'col': ['reviewTextWithSummary', 'verified'], 'proc': 'stem', 'vectorizer': 'tfidf'}   \n",
       "6               {'col': ['reviewTextWithSummary'], 'proc': 'baseline', 'vectorizer': 'tfidf'}   \n",
       "7                    {'col': ['reviewTextWithSummary'], 'proc': 'lem', 'vectorizer': 'tfidf'}   \n",
       "8   {'col': ['reviewTextWithSummary', 'verified'], 'proc': 'baseline', 'vectorizer': 'tfidf'}   \n",
       "9        {'col': ['reviewTextWithSummary', 'verified'], 'proc': 'lem', 'vectorizer': 'tfidf'}   \n",
       "10    {'col': ['reviewTextWithSummary', 'verified'], 'proc': 'baseline', 'vectorizer': 'bow'}   \n",
       "11                {'col': ['reviewTextWithSummary'], 'proc': 'baseline', 'vectorizer': 'bow'}   \n",
       "12        {'col': ['reviewTextWithSummary', 'verified'], 'proc': 'stem', 'vectorizer': 'bow'}   \n",
       "13                    {'col': ['reviewTextWithSummary'], 'proc': 'stem', 'vectorizer': 'bow'}   \n",
       "14                     {'col': ['reviewTextWithSummary'], 'proc': 'lem', 'vectorizer': 'bow'}   \n",
       "15         {'col': ['reviewTextWithSummary', 'verified'], 'proc': 'lem', 'vectorizer': 'bow'}   \n",
       "16                               {'col': ['reviewText'], 'proc': None, 'vectorizer': 'tfidf'}   \n",
       "17                   {'col': ['reviewText', 'verified'], 'proc': None, 'vectorizer': 'tfidf'}   \n",
       "18                         {'col': ['reviewText'], 'proc': 'baseline', 'vectorizer': 'tfidf'}   \n",
       "19             {'col': ['reviewText', 'verified'], 'proc': 'baseline', 'vectorizer': 'tfidf'}   \n",
       "20                              {'col': ['reviewText'], 'proc': 'lem', 'vectorizer': 'tfidf'}   \n",
       "21                             {'col': ['reviewText'], 'proc': 'stem', 'vectorizer': 'tfidf'}   \n",
       "22                  {'col': ['reviewText', 'verified'], 'proc': 'lem', 'vectorizer': 'tfidf'}   \n",
       "23                 {'col': ['reviewText', 'verified'], 'proc': 'stem', 'vectorizer': 'tfidf'}   \n",
       "24                     {'col': ['reviewText', 'verified'], 'proc': None, 'vectorizer': 'bow'}   \n",
       "25                                 {'col': ['reviewText'], 'proc': None, 'vectorizer': 'bow'}   \n",
       "26               {'col': ['reviewText', 'verified'], 'proc': 'baseline', 'vectorizer': 'bow'}   \n",
       "27                           {'col': ['reviewText'], 'proc': 'baseline', 'vectorizer': 'bow'}   \n",
       "28                   {'col': ['reviewText', 'verified'], 'proc': 'stem', 'vectorizer': 'bow'}   \n",
       "29                               {'col': ['reviewText'], 'proc': 'stem', 'vectorizer': 'bow'}   \n",
       "30                    {'col': ['reviewText', 'verified'], 'proc': 'lem', 'vectorizer': 'bow'}   \n",
       "31                                {'col': ['reviewText'], 'proc': 'lem', 'vectorizer': 'bow'}   \n",
       "\n",
       "    Accuracy  F1 Score  Precision   ROC AUC  \n",
       "0   0.908038  0.883097   0.907021  0.941108  \n",
       "1   0.907111  0.881818   0.906466  0.939225  \n",
       "2   0.904563  0.877833   0.901429  0.925283  \n",
       "3   0.904332  0.876798   0.901577  0.924912  \n",
       "4   0.904563  0.877180   0.902672  0.924875  \n",
       "5   0.905027  0.878543   0.903995  0.924169  \n",
       "6   0.905722  0.879275   0.906551  0.923930  \n",
       "7   0.903405  0.875656   0.901057  0.923389  \n",
       "8   0.905490  0.879018   0.907016  0.922264  \n",
       "9   0.904100  0.876574   0.904651  0.921265  \n",
       "10  0.906416  0.880629   0.907427  0.913245  \n",
       "11  0.906185  0.880233   0.907166  0.912976  \n",
       "12  0.907111  0.882025   0.905773  0.912322  \n",
       "13  0.907111  0.882025   0.905773  0.912295  \n",
       "14  0.905953  0.879796   0.906879  0.910064  \n",
       "15  0.905953  0.879597   0.906811  0.910044  \n",
       "16  0.883947  0.834215   0.884056  0.887932  \n",
       "17  0.883716  0.833221   0.827045  0.885258  \n",
       "18  0.883021  0.831891   0.889977  0.863978  \n",
       "19  0.882789  0.831951   0.865191  0.862210  \n",
       "20  0.883252  0.832403   0.890551  0.861896  \n",
       "21  0.884642  0.836146   0.827356  0.861267  \n",
       "22  0.882094  0.831161   0.857936  0.860309  \n",
       "23  0.883021  0.833604   0.852999  0.859295  \n",
       "24  0.880704  0.825753   0.894949  0.852185  \n",
       "25  0.880704  0.825753   0.894949  0.852023  \n",
       "26  0.881631  0.827943   0.895668  0.835736  \n",
       "27  0.881631  0.827943   0.895668  0.834793  \n",
       "28  0.882094  0.829983   0.880641  0.834404  \n",
       "29  0.882094  0.829983   0.880641  0.833916  \n",
       "30  0.881399  0.827400   0.895488  0.831323  \n",
       "31  0.881399  0.827400   0.895488  0.830769  "
      ]
     },
     "metadata": {},
     "output_type": "display_data"
    }
   ],
   "source": [
    "pd.set_option(\"display.max_colwidth\", None)\n",
    "compare_list = compare_list.sort_values(by=\"ROC AUC\", ascending=False).reset_index(drop=True)\n",
    "display(compare_list)\n",
    "compare_list.to_csv(\"./svm_testing_results.csv\", index=False)",
    "compare_list.to_csv(\"../results/svm_testing_results.csv\", index=False)"
   ]
  },
  {
   "cell_type": "markdown",
   "id": "bdfe6285",
   "metadata": {},
   "source": [
    "- Further testing can be done on using the \"reviewTextWithSummary\" column over the \"reviewText\" as it is universally better\n",
    "- Of the top 10 configurations, 8 of them use TF-IDF vectorizer\n",
    "- Including the \"verified\" column does not seem to have a significant, if only a slight negative, impact on the model. Will not be used in further tesing\n",
    "- Further testing will be done on all of the preprocessing methods (None, Baseline, Stemming, Lemmatization)\n",
    "- Models for further analysis are as follows:\n",
    "    - reviewTextWithSummary, None, TF-IDF\n",
    "    - reviewTextWithSummary, Baseline, TF-IDF\n",
    "    - reviewTextWithSummary, Stem, TF-IDF\n",
    "    - reviewTextWithSummary, Lem, TF-IDF"
   ]
  }
 ],
 "metadata": {
  "kernelspec": {
   "display_name": "Python 3 (ipykernel)",
   "language": "python",
   "name": "python3"
  },
  "language_info": {
   "codemirror_mode": {
    "name": "ipython",
    "version": 3
   },
   "file_extension": ".py",
   "mimetype": "text/x-python",
   "name": "python",
   "nbconvert_exporter": "python",
   "pygments_lexer": "ipython3",
   "version": "3.10.12"
  },
  "varInspector": {
   "cols": {
    "lenName": 16,
    "lenType": 16,
    "lenVar": 40
   },
   "kernels_config": {
    "python": {
     "delete_cmd_postfix": "",
     "delete_cmd_prefix": "del ",
     "library": "var_list.py",
     "varRefreshCmd": "print(var_dic_list())"
    },
    "r": {
     "delete_cmd_postfix": ") ",
     "delete_cmd_prefix": "rm(",
     "library": "var_list.r",
     "varRefreshCmd": "cat(var_dic_list()) "
    }
   },
   "types_to_exclude": [
    "module",
    "function",
    "builtin_function_or_method",
    "instance",
    "_Feature"
   ],
   "window_display": false
  }
 },
 "nbformat": 4,
 "nbformat_minor": 5
}
