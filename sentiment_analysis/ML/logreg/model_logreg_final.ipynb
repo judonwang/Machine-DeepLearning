{
  "nbformat": 4,
  "nbformat_minor": 0,
  "metadata": {
    "colab": {
      "provenance": []
    },
    "kernelspec": {
      "name": "python3",
      "display_name": "Python 3"
    },
    "language_info": {
      "name": "python"
    }
  },
  "cells": [
    {
      "cell_type": "code",
      "execution_count": 1,
      "metadata": {
        "colab": {
          "base_uri": "https://localhost:8080/"
        },
        "id": "G8u00U9ccKZv",
        "outputId": "4239ec96-0aa1-43f8-938a-4b6ca6d37c13"
      },
      "outputs": [
        {
          "output_type": "stream",
          "name": "stdout",
          "text": [
            "Mounted at /content/drive\n"
          ]
        }
      ],
      "source": [
        "from google.colab import drive\n",
        "drive.mount('/content/drive')"
      ]
    },
    {
      "cell_type": "code",
      "source": [
        "import pandas as pd\n",
        "import numpy as np\n",
        "import gzip\n",
        "import json\n",
        "import nltk\n",
        "import re\n",
        "import matplotlib.pyplot as plt\n",
        "from sklearn.model_selection import train_test_split\n",
        "from sklearn.model_selection import RandomizedSearchCV\n",
        "from sklearn.model_selection import GridSearchCV\n",
        "from sklearn.neighbors import KNeighborsClassifier\n",
        "from sklearn.linear_model import LogisticRegression\n",
        "from sklearn.linear_model import LogisticRegressionCV\n",
        "from sklearn.metrics import accuracy_score\n",
        "from sklearn.metrics import classification_report\n",
        "from sklearn.feature_extraction.text import CountVectorizer\n",
        "from sklearn.feature_extraction.text import TfidfVectorizer\n",
        "from nltk.corpus import stopwords\n",
        "from nltk.stem import PorterStemmer\n",
        "from nltk.stem import WordNetLemmatizer\n",
        "from PIL import Image\n",
        "from wordcloud import WordCloud, STOPWORDS, ImageColorGenerator\n",
        "nltk.download('punkt')\n",
        "nltk.download('stopwords')\n",
        "nltk.download('wordnet')"
      ],
      "metadata": {
        "colab": {
          "base_uri": "https://localhost:8080/"
        },
        "id": "jku9v9_HdEiZ",
        "outputId": "99aa8f85-0eb3-453d-ca14-4f803a856233"
      },
      "execution_count": 2,
      "outputs": [
        {
          "output_type": "stream",
          "name": "stderr",
          "text": [
            "[nltk_data] Downloading package punkt to /root/nltk_data...\n",
            "[nltk_data]   Unzipping tokenizers/punkt.zip.\n",
            "[nltk_data] Downloading package stopwords to /root/nltk_data...\n",
            "[nltk_data]   Unzipping corpora/stopwords.zip.\n",
            "[nltk_data] Downloading package wordnet to /root/nltk_data...\n"
          ]
        },
        {
          "output_type": "execute_result",
          "data": {
            "text/plain": [
              "True"
            ]
          },
          "metadata": {},
          "execution_count": 2
        }
      ]
    },
    {
      "cell_type": "markdown",
      "source": [
        "# Exploring Data"
      ],
      "metadata": {
        "id": "0LGw3IwLdGUt"
      }
    },
    {
      "cell_type": "code",
      "source": [
        "df = pd.read_csv('./drive/MyDrive/datasets/combined.csv', low_memory=False)"
      ],
      "metadata": {
        "id": "lborWj2jdFfx"
      },
      "execution_count": 3,
      "outputs": []
    },
    {
      "cell_type": "code",
      "source": [
        "display(df)"
      ],
      "metadata": {
        "colab": {
          "base_uri": "https://localhost:8080/",
          "height": 424
        },
        "id": "boj0VbbYdIw8",
        "outputId": "44367212-d9b8-4cde-d92c-9a6cd6e7b840"
      },
      "execution_count": null,
      "outputs": [
        {
          "output_type": "display_data",
          "data": {
            "text/plain": [
              "        overall  verified   reviewTime      reviewerID        asin  \\\n",
              "0           5.0      True  10 30, 2016  A3FO5AKVTFRCRJ  0739079891   \n",
              "1           5.0      True  06 30, 2016  A3UCGC1DHFMBCE  0739079891   \n",
              "2           5.0      True   05 9, 2016  A2S9SLRYLPGYZB  0739079891   \n",
              "3           4.0      True  04 10, 2016  A15RTJWPG8OKOE  0739079891   \n",
              "4           1.0      True   02 6, 2016  A12ET1WO3OAVU7  0739079891   \n",
              "...         ...       ...          ...             ...         ...   \n",
              "749399      4.0     False  07 16, 2016  A1E50L7PCVXLN4  B01FFVDY9M   \n",
              "749400      3.0     False  06 17, 2017   AVU1ILDDYW301  B01HAP3NUG   \n",
              "749401      4.0     False  01 24, 2017  A2LW5AL0KQ9P1M  B01HAP3NUG   \n",
              "749402      3.0     False  06 14, 2018   AZ515FFZ7I2P7  B01HAP47PQ   \n",
              "749403      4.0     False  04 16, 2018  A2WPL6Y08K6ZQH  B01HAP47PQ   \n",
              "\n",
              "             reviewerName                                         reviewText  \\\n",
              "0               francisco                            It's good for beginners   \n",
              "1          Eb Jack Murray  I recommend this starter Ukulele kit.  I has e...   \n",
              "2            Clara LaMarr  G'daughter received this for Christmas present...   \n",
              "3                 Eagle80  According to my order history, I bought this t...   \n",
              "4         Amazon Customer  Please pay attention better than I did to the ...   \n",
              "...                   ...                                                ...   \n",
              "749399            Colinda  When I ordered this it was listed as Photo Edi...   \n",
              "749400           G. Hearn  This software has SO much going on.  Theres a ...   \n",
              "749401              Dr. E  I have used both more complex and less complex...   \n",
              "749402  Jerry Jackson Jr.  Pinnacle Studio 20 Ultimate is a perfectly ser...   \n",
              "749403        Narut Ujnat  A program that is fairly easy to use and provi...   \n",
              "\n",
              "                                                  summary  unixReviewTime  \\\n",
              "0                                              Five Stars      1477785600   \n",
              "1                                              Five Stars      1467244800   \n",
              "2                    Learning new songs to play regularly      1462752000   \n",
              "3       A bargain-bin good-enough ukulele that's held ...      1460246400   \n",
              "4                                   Poor Quality product.      1454716800   \n",
              "...                                                   ...             ...   \n",
              "749399  File Management Software with Basic Editing Ca...      1468627200   \n",
              "749400                      Might not be for the \"novice\"      1497657600   \n",
              "749401  Great, Inexpensive Software for Those Who Have...      1485216000   \n",
              "749402  Gets the job done ... but not as easy as it sh...      1528934400   \n",
              "749403                              Good overall program.      1523836800   \n",
              "\n",
              "       vote                       style image  \n",
              "0       NaN                         NaN   NaN  \n",
              "1       NaN                         NaN   NaN  \n",
              "2       NaN                         NaN   NaN  \n",
              "3       NaN                         NaN   NaN  \n",
              "4       NaN                         NaN   NaN  \n",
              "...     ...                         ...   ...  \n",
              "749399  NaN  {'Platform:': ' Key Card'}   NaN  \n",
              "749400  NaN                         NaN   NaN  \n",
              "749401  NaN                         NaN   NaN  \n",
              "749402  NaN   {'Platform:': ' PC Disc'}   NaN  \n",
              "749403  NaN   {'Platform:': ' PC Disc'}   NaN  \n",
              "\n",
              "[749404 rows x 12 columns]"
            ],
            "text/html": [
              "\n",
              "  <div id=\"df-b958f0a1-038a-4dc8-8cb9-6206ccdad8f6\" class=\"colab-df-container\">\n",
              "    <div>\n",
              "<style scoped>\n",
              "    .dataframe tbody tr th:only-of-type {\n",
              "        vertical-align: middle;\n",
              "    }\n",
              "\n",
              "    .dataframe tbody tr th {\n",
              "        vertical-align: top;\n",
              "    }\n",
              "\n",
              "    .dataframe thead th {\n",
              "        text-align: right;\n",
              "    }\n",
              "</style>\n",
              "<table border=\"1\" class=\"dataframe\">\n",
              "  <thead>\n",
              "    <tr style=\"text-align: right;\">\n",
              "      <th></th>\n",
              "      <th>overall</th>\n",
              "      <th>verified</th>\n",
              "      <th>reviewTime</th>\n",
              "      <th>reviewerID</th>\n",
              "      <th>asin</th>\n",
              "      <th>reviewerName</th>\n",
              "      <th>reviewText</th>\n",
              "      <th>summary</th>\n",
              "      <th>unixReviewTime</th>\n",
              "      <th>vote</th>\n",
              "      <th>style</th>\n",
              "      <th>image</th>\n",
              "    </tr>\n",
              "  </thead>\n",
              "  <tbody>\n",
              "    <tr>\n",
              "      <th>0</th>\n",
              "      <td>5.0</td>\n",
              "      <td>True</td>\n",
              "      <td>10 30, 2016</td>\n",
              "      <td>A3FO5AKVTFRCRJ</td>\n",
              "      <td>0739079891</td>\n",
              "      <td>francisco</td>\n",
              "      <td>It's good for beginners</td>\n",
              "      <td>Five Stars</td>\n",
              "      <td>1477785600</td>\n",
              "      <td>NaN</td>\n",
              "      <td>NaN</td>\n",
              "      <td>NaN</td>\n",
              "    </tr>\n",
              "    <tr>\n",
              "      <th>1</th>\n",
              "      <td>5.0</td>\n",
              "      <td>True</td>\n",
              "      <td>06 30, 2016</td>\n",
              "      <td>A3UCGC1DHFMBCE</td>\n",
              "      <td>0739079891</td>\n",
              "      <td>Eb Jack Murray</td>\n",
              "      <td>I recommend this starter Ukulele kit.  I has e...</td>\n",
              "      <td>Five Stars</td>\n",
              "      <td>1467244800</td>\n",
              "      <td>NaN</td>\n",
              "      <td>NaN</td>\n",
              "      <td>NaN</td>\n",
              "    </tr>\n",
              "    <tr>\n",
              "      <th>2</th>\n",
              "      <td>5.0</td>\n",
              "      <td>True</td>\n",
              "      <td>05 9, 2016</td>\n",
              "      <td>A2S9SLRYLPGYZB</td>\n",
              "      <td>0739079891</td>\n",
              "      <td>Clara LaMarr</td>\n",
              "      <td>G'daughter received this for Christmas present...</td>\n",
              "      <td>Learning new songs to play regularly</td>\n",
              "      <td>1462752000</td>\n",
              "      <td>NaN</td>\n",
              "      <td>NaN</td>\n",
              "      <td>NaN</td>\n",
              "    </tr>\n",
              "    <tr>\n",
              "      <th>3</th>\n",
              "      <td>4.0</td>\n",
              "      <td>True</td>\n",
              "      <td>04 10, 2016</td>\n",
              "      <td>A15RTJWPG8OKOE</td>\n",
              "      <td>0739079891</td>\n",
              "      <td>Eagle80</td>\n",
              "      <td>According to my order history, I bought this t...</td>\n",
              "      <td>A bargain-bin good-enough ukulele that's held ...</td>\n",
              "      <td>1460246400</td>\n",
              "      <td>NaN</td>\n",
              "      <td>NaN</td>\n",
              "      <td>NaN</td>\n",
              "    </tr>\n",
              "    <tr>\n",
              "      <th>4</th>\n",
              "      <td>1.0</td>\n",
              "      <td>True</td>\n",
              "      <td>02 6, 2016</td>\n",
              "      <td>A12ET1WO3OAVU7</td>\n",
              "      <td>0739079891</td>\n",
              "      <td>Amazon Customer</td>\n",
              "      <td>Please pay attention better than I did to the ...</td>\n",
              "      <td>Poor Quality product.</td>\n",
              "      <td>1454716800</td>\n",
              "      <td>NaN</td>\n",
              "      <td>NaN</td>\n",
              "      <td>NaN</td>\n",
              "    </tr>\n",
              "    <tr>\n",
              "      <th>...</th>\n",
              "      <td>...</td>\n",
              "      <td>...</td>\n",
              "      <td>...</td>\n",
              "      <td>...</td>\n",
              "      <td>...</td>\n",
              "      <td>...</td>\n",
              "      <td>...</td>\n",
              "      <td>...</td>\n",
              "      <td>...</td>\n",
              "      <td>...</td>\n",
              "      <td>...</td>\n",
              "      <td>...</td>\n",
              "    </tr>\n",
              "    <tr>\n",
              "      <th>749399</th>\n",
              "      <td>4.0</td>\n",
              "      <td>False</td>\n",
              "      <td>07 16, 2016</td>\n",
              "      <td>A1E50L7PCVXLN4</td>\n",
              "      <td>B01FFVDY9M</td>\n",
              "      <td>Colinda</td>\n",
              "      <td>When I ordered this it was listed as Photo Edi...</td>\n",
              "      <td>File Management Software with Basic Editing Ca...</td>\n",
              "      <td>1468627200</td>\n",
              "      <td>NaN</td>\n",
              "      <td>{'Platform:': ' Key Card'}</td>\n",
              "      <td>NaN</td>\n",
              "    </tr>\n",
              "    <tr>\n",
              "      <th>749400</th>\n",
              "      <td>3.0</td>\n",
              "      <td>False</td>\n",
              "      <td>06 17, 2017</td>\n",
              "      <td>AVU1ILDDYW301</td>\n",
              "      <td>B01HAP3NUG</td>\n",
              "      <td>G. Hearn</td>\n",
              "      <td>This software has SO much going on.  Theres a ...</td>\n",
              "      <td>Might not be for the \"novice\"</td>\n",
              "      <td>1497657600</td>\n",
              "      <td>NaN</td>\n",
              "      <td>NaN</td>\n",
              "      <td>NaN</td>\n",
              "    </tr>\n",
              "    <tr>\n",
              "      <th>749401</th>\n",
              "      <td>4.0</td>\n",
              "      <td>False</td>\n",
              "      <td>01 24, 2017</td>\n",
              "      <td>A2LW5AL0KQ9P1M</td>\n",
              "      <td>B01HAP3NUG</td>\n",
              "      <td>Dr. E</td>\n",
              "      <td>I have used both more complex and less complex...</td>\n",
              "      <td>Great, Inexpensive Software for Those Who Have...</td>\n",
              "      <td>1485216000</td>\n",
              "      <td>NaN</td>\n",
              "      <td>NaN</td>\n",
              "      <td>NaN</td>\n",
              "    </tr>\n",
              "    <tr>\n",
              "      <th>749402</th>\n",
              "      <td>3.0</td>\n",
              "      <td>False</td>\n",
              "      <td>06 14, 2018</td>\n",
              "      <td>AZ515FFZ7I2P7</td>\n",
              "      <td>B01HAP47PQ</td>\n",
              "      <td>Jerry Jackson Jr.</td>\n",
              "      <td>Pinnacle Studio 20 Ultimate is a perfectly ser...</td>\n",
              "      <td>Gets the job done ... but not as easy as it sh...</td>\n",
              "      <td>1528934400</td>\n",
              "      <td>NaN</td>\n",
              "      <td>{'Platform:': ' PC Disc'}</td>\n",
              "      <td>NaN</td>\n",
              "    </tr>\n",
              "    <tr>\n",
              "      <th>749403</th>\n",
              "      <td>4.0</td>\n",
              "      <td>False</td>\n",
              "      <td>04 16, 2018</td>\n",
              "      <td>A2WPL6Y08K6ZQH</td>\n",
              "      <td>B01HAP47PQ</td>\n",
              "      <td>Narut Ujnat</td>\n",
              "      <td>A program that is fairly easy to use and provi...</td>\n",
              "      <td>Good overall program.</td>\n",
              "      <td>1523836800</td>\n",
              "      <td>NaN</td>\n",
              "      <td>{'Platform:': ' PC Disc'}</td>\n",
              "      <td>NaN</td>\n",
              "    </tr>\n",
              "  </tbody>\n",
              "</table>\n",
              "<p>749404 rows × 12 columns</p>\n",
              "</div>\n",
              "    <div class=\"colab-df-buttons\">\n",
              "\n",
              "  <div class=\"colab-df-container\">\n",
              "    <button class=\"colab-df-convert\" onclick=\"convertToInteractive('df-b958f0a1-038a-4dc8-8cb9-6206ccdad8f6')\"\n",
              "            title=\"Convert this dataframe to an interactive table.\"\n",
              "            style=\"display:none;\">\n",
              "\n",
              "  <svg xmlns=\"http://www.w3.org/2000/svg\" height=\"24px\" viewBox=\"0 -960 960 960\">\n",
              "    <path d=\"M120-120v-720h720v720H120Zm60-500h600v-160H180v160Zm220 220h160v-160H400v160Zm0 220h160v-160H400v160ZM180-400h160v-160H180v160Zm440 0h160v-160H620v160ZM180-180h160v-160H180v160Zm440 0h160v-160H620v160Z\"/>\n",
              "  </svg>\n",
              "    </button>\n",
              "\n",
              "  <style>\n",
              "    .colab-df-container {\n",
              "      display:flex;\n",
              "      gap: 12px;\n",
              "    }\n",
              "\n",
              "    .colab-df-convert {\n",
              "      background-color: #E8F0FE;\n",
              "      border: none;\n",
              "      border-radius: 50%;\n",
              "      cursor: pointer;\n",
              "      display: none;\n",
              "      fill: #1967D2;\n",
              "      height: 32px;\n",
              "      padding: 0 0 0 0;\n",
              "      width: 32px;\n",
              "    }\n",
              "\n",
              "    .colab-df-convert:hover {\n",
              "      background-color: #E2EBFA;\n",
              "      box-shadow: 0px 1px 2px rgba(60, 64, 67, 0.3), 0px 1px 3px 1px rgba(60, 64, 67, 0.15);\n",
              "      fill: #174EA6;\n",
              "    }\n",
              "\n",
              "    .colab-df-buttons div {\n",
              "      margin-bottom: 4px;\n",
              "    }\n",
              "\n",
              "    [theme=dark] .colab-df-convert {\n",
              "      background-color: #3B4455;\n",
              "      fill: #D2E3FC;\n",
              "    }\n",
              "\n",
              "    [theme=dark] .colab-df-convert:hover {\n",
              "      background-color: #434B5C;\n",
              "      box-shadow: 0px 1px 3px 1px rgba(0, 0, 0, 0.15);\n",
              "      filter: drop-shadow(0px 1px 2px rgba(0, 0, 0, 0.3));\n",
              "      fill: #FFFFFF;\n",
              "    }\n",
              "  </style>\n",
              "\n",
              "    <script>\n",
              "      const buttonEl =\n",
              "        document.querySelector('#df-b958f0a1-038a-4dc8-8cb9-6206ccdad8f6 button.colab-df-convert');\n",
              "      buttonEl.style.display =\n",
              "        google.colab.kernel.accessAllowed ? 'block' : 'none';\n",
              "\n",
              "      async function convertToInteractive(key) {\n",
              "        const element = document.querySelector('#df-b958f0a1-038a-4dc8-8cb9-6206ccdad8f6');\n",
              "        const dataTable =\n",
              "          await google.colab.kernel.invokeFunction('convertToInteractive',\n",
              "                                                    [key], {});\n",
              "        if (!dataTable) return;\n",
              "\n",
              "        const docLinkHtml = 'Like what you see? Visit the ' +\n",
              "          '<a target=\"_blank\" href=https://colab.research.google.com/notebooks/data_table.ipynb>data table notebook</a>'\n",
              "          + ' to learn more about interactive tables.';\n",
              "        element.innerHTML = '';\n",
              "        dataTable['output_type'] = 'display_data';\n",
              "        await google.colab.output.renderOutput(dataTable, element);\n",
              "        const docLink = document.createElement('div');\n",
              "        docLink.innerHTML = docLinkHtml;\n",
              "        element.appendChild(docLink);\n",
              "      }\n",
              "    </script>\n",
              "  </div>\n",
              "\n",
              "\n",
              "<div id=\"df-8d40e60d-e798-4bb3-9eb5-476f13aef4a0\">\n",
              "  <button class=\"colab-df-quickchart\" onclick=\"quickchart('df-8d40e60d-e798-4bb3-9eb5-476f13aef4a0')\"\n",
              "            title=\"Suggest charts\"\n",
              "            style=\"display:none;\">\n",
              "\n",
              "<svg xmlns=\"http://www.w3.org/2000/svg\" height=\"24px\"viewBox=\"0 0 24 24\"\n",
              "     width=\"24px\">\n",
              "    <g>\n",
              "        <path d=\"M19 3H5c-1.1 0-2 .9-2 2v14c0 1.1.9 2 2 2h14c1.1 0 2-.9 2-2V5c0-1.1-.9-2-2-2zM9 17H7v-7h2v7zm4 0h-2V7h2v10zm4 0h-2v-4h2v4z\"/>\n",
              "    </g>\n",
              "</svg>\n",
              "  </button>\n",
              "\n",
              "<style>\n",
              "  .colab-df-quickchart {\n",
              "      --bg-color: #E8F0FE;\n",
              "      --fill-color: #1967D2;\n",
              "      --hover-bg-color: #E2EBFA;\n",
              "      --hover-fill-color: #174EA6;\n",
              "      --disabled-fill-color: #AAA;\n",
              "      --disabled-bg-color: #DDD;\n",
              "  }\n",
              "\n",
              "  [theme=dark] .colab-df-quickchart {\n",
              "      --bg-color: #3B4455;\n",
              "      --fill-color: #D2E3FC;\n",
              "      --hover-bg-color: #434B5C;\n",
              "      --hover-fill-color: #FFFFFF;\n",
              "      --disabled-bg-color: #3B4455;\n",
              "      --disabled-fill-color: #666;\n",
              "  }\n",
              "\n",
              "  .colab-df-quickchart {\n",
              "    background-color: var(--bg-color);\n",
              "    border: none;\n",
              "    border-radius: 50%;\n",
              "    cursor: pointer;\n",
              "    display: none;\n",
              "    fill: var(--fill-color);\n",
              "    height: 32px;\n",
              "    padding: 0;\n",
              "    width: 32px;\n",
              "  }\n",
              "\n",
              "  .colab-df-quickchart:hover {\n",
              "    background-color: var(--hover-bg-color);\n",
              "    box-shadow: 0 1px 2px rgba(60, 64, 67, 0.3), 0 1px 3px 1px rgba(60, 64, 67, 0.15);\n",
              "    fill: var(--button-hover-fill-color);\n",
              "  }\n",
              "\n",
              "  .colab-df-quickchart-complete:disabled,\n",
              "  .colab-df-quickchart-complete:disabled:hover {\n",
              "    background-color: var(--disabled-bg-color);\n",
              "    fill: var(--disabled-fill-color);\n",
              "    box-shadow: none;\n",
              "  }\n",
              "\n",
              "  .colab-df-spinner {\n",
              "    border: 2px solid var(--fill-color);\n",
              "    border-color: transparent;\n",
              "    border-bottom-color: var(--fill-color);\n",
              "    animation:\n",
              "      spin 1s steps(1) infinite;\n",
              "  }\n",
              "\n",
              "  @keyframes spin {\n",
              "    0% {\n",
              "      border-color: transparent;\n",
              "      border-bottom-color: var(--fill-color);\n",
              "      border-left-color: var(--fill-color);\n",
              "    }\n",
              "    20% {\n",
              "      border-color: transparent;\n",
              "      border-left-color: var(--fill-color);\n",
              "      border-top-color: var(--fill-color);\n",
              "    }\n",
              "    30% {\n",
              "      border-color: transparent;\n",
              "      border-left-color: var(--fill-color);\n",
              "      border-top-color: var(--fill-color);\n",
              "      border-right-color: var(--fill-color);\n",
              "    }\n",
              "    40% {\n",
              "      border-color: transparent;\n",
              "      border-right-color: var(--fill-color);\n",
              "      border-top-color: var(--fill-color);\n",
              "    }\n",
              "    60% {\n",
              "      border-color: transparent;\n",
              "      border-right-color: var(--fill-color);\n",
              "    }\n",
              "    80% {\n",
              "      border-color: transparent;\n",
              "      border-right-color: var(--fill-color);\n",
              "      border-bottom-color: var(--fill-color);\n",
              "    }\n",
              "    90% {\n",
              "      border-color: transparent;\n",
              "      border-bottom-color: var(--fill-color);\n",
              "    }\n",
              "  }\n",
              "</style>\n",
              "\n",
              "  <script>\n",
              "    async function quickchart(key) {\n",
              "      const quickchartButtonEl =\n",
              "        document.querySelector('#' + key + ' button');\n",
              "      quickchartButtonEl.disabled = true;  // To prevent multiple clicks.\n",
              "      quickchartButtonEl.classList.add('colab-df-spinner');\n",
              "      try {\n",
              "        const charts = await google.colab.kernel.invokeFunction(\n",
              "            'suggestCharts', [key], {});\n",
              "      } catch (error) {\n",
              "        console.error('Error during call to suggestCharts:', error);\n",
              "      }\n",
              "      quickchartButtonEl.classList.remove('colab-df-spinner');\n",
              "      quickchartButtonEl.classList.add('colab-df-quickchart-complete');\n",
              "    }\n",
              "    (() => {\n",
              "      let quickchartButtonEl =\n",
              "        document.querySelector('#df-8d40e60d-e798-4bb3-9eb5-476f13aef4a0 button');\n",
              "      quickchartButtonEl.style.display =\n",
              "        google.colab.kernel.accessAllowed ? 'block' : 'none';\n",
              "    })();\n",
              "  </script>\n",
              "</div>\n",
              "    </div>\n",
              "  </div>\n"
            ],
            "application/vnd.google.colaboratory.intrinsic+json": {
              "type": "dataframe",
              "variable_name": "df"
            }
          },
          "metadata": {}
        }
      ]
    },
    {
      "cell_type": "code",
      "source": [
        "df.dtypes"
      ],
      "metadata": {
        "colab": {
          "base_uri": "https://localhost:8080/"
        },
        "id": "WKLg0Z_n9_45",
        "outputId": "9b71bde0-d8d7-48c6-9df1-404def5c45fc"
      },
      "execution_count": null,
      "outputs": [
        {
          "output_type": "execute_result",
          "data": {
            "text/plain": [
              "overall           float64\n",
              "verified             bool\n",
              "reviewTime         object\n",
              "reviewerID         object\n",
              "asin               object\n",
              "reviewerName       object\n",
              "reviewText         object\n",
              "summary            object\n",
              "unixReviewTime      int64\n",
              "vote               object\n",
              "style              object\n",
              "image              object\n",
              "dtype: object"
            ]
          },
          "metadata": {},
          "execution_count": 5
        }
      ]
    },
    {
      "cell_type": "code",
      "source": [
        "df.duplicated().sum()"
      ],
      "metadata": {
        "colab": {
          "base_uri": "https://localhost:8080/"
        },
        "id": "n9Xaq0r39exk",
        "outputId": "a9a8b0bf-224a-4944-be7a-e9a3ad7492bb"
      },
      "execution_count": null,
      "outputs": [
        {
          "output_type": "execute_result",
          "data": {
            "text/plain": [
              "58255"
            ]
          },
          "metadata": {},
          "execution_count": 6
        }
      ]
    },
    {
      "cell_type": "code",
      "source": [
        "df = df.drop_duplicates()\n",
        "display(df)"
      ],
      "metadata": {
        "colab": {
          "base_uri": "https://localhost:8080/",
          "height": 424
        },
        "id": "ZBD01BlM8lRy",
        "outputId": "98c42fe5-c12e-4fcf-d35a-1e73539308e7"
      },
      "execution_count": 4,
      "outputs": [
        {
          "output_type": "display_data",
          "data": {
            "text/plain": [
              "        overall  verified   reviewTime      reviewerID        asin  \\\n",
              "0           5.0      True  10 30, 2016  A3FO5AKVTFRCRJ  0739079891   \n",
              "1           5.0      True  06 30, 2016  A3UCGC1DHFMBCE  0739079891   \n",
              "2           5.0      True   05 9, 2016  A2S9SLRYLPGYZB  0739079891   \n",
              "3           4.0      True  04 10, 2016  A15RTJWPG8OKOE  0739079891   \n",
              "4           1.0      True   02 6, 2016  A12ET1WO3OAVU7  0739079891   \n",
              "...         ...       ...          ...             ...         ...   \n",
              "749399      4.0     False  07 16, 2016  A1E50L7PCVXLN4  B01FFVDY9M   \n",
              "749400      3.0     False  06 17, 2017   AVU1ILDDYW301  B01HAP3NUG   \n",
              "749401      4.0     False  01 24, 2017  A2LW5AL0KQ9P1M  B01HAP3NUG   \n",
              "749402      3.0     False  06 14, 2018   AZ515FFZ7I2P7  B01HAP47PQ   \n",
              "749403      4.0     False  04 16, 2018  A2WPL6Y08K6ZQH  B01HAP47PQ   \n",
              "\n",
              "             reviewerName                                         reviewText  \\\n",
              "0               francisco                            It's good for beginners   \n",
              "1          Eb Jack Murray  I recommend this starter Ukulele kit.  I has e...   \n",
              "2            Clara LaMarr  G'daughter received this for Christmas present...   \n",
              "3                 Eagle80  According to my order history, I bought this t...   \n",
              "4         Amazon Customer  Please pay attention better than I did to the ...   \n",
              "...                   ...                                                ...   \n",
              "749399            Colinda  When I ordered this it was listed as Photo Edi...   \n",
              "749400           G. Hearn  This software has SO much going on.  Theres a ...   \n",
              "749401              Dr. E  I have used both more complex and less complex...   \n",
              "749402  Jerry Jackson Jr.  Pinnacle Studio 20 Ultimate is a perfectly ser...   \n",
              "749403        Narut Ujnat  A program that is fairly easy to use and provi...   \n",
              "\n",
              "                                                  summary  unixReviewTime  \\\n",
              "0                                              Five Stars      1477785600   \n",
              "1                                              Five Stars      1467244800   \n",
              "2                    Learning new songs to play regularly      1462752000   \n",
              "3       A bargain-bin good-enough ukulele that's held ...      1460246400   \n",
              "4                                   Poor Quality product.      1454716800   \n",
              "...                                                   ...             ...   \n",
              "749399  File Management Software with Basic Editing Ca...      1468627200   \n",
              "749400                      Might not be for the \"novice\"      1497657600   \n",
              "749401  Great, Inexpensive Software for Those Who Have...      1485216000   \n",
              "749402  Gets the job done ... but not as easy as it sh...      1528934400   \n",
              "749403                              Good overall program.      1523836800   \n",
              "\n",
              "       vote                       style image  \n",
              "0       NaN                         NaN   NaN  \n",
              "1       NaN                         NaN   NaN  \n",
              "2       NaN                         NaN   NaN  \n",
              "3       NaN                         NaN   NaN  \n",
              "4       NaN                         NaN   NaN  \n",
              "...     ...                         ...   ...  \n",
              "749399  NaN  {'Platform:': ' Key Card'}   NaN  \n",
              "749400  NaN                         NaN   NaN  \n",
              "749401  NaN                         NaN   NaN  \n",
              "749402  NaN   {'Platform:': ' PC Disc'}   NaN  \n",
              "749403  NaN   {'Platform:': ' PC Disc'}   NaN  \n",
              "\n",
              "[691149 rows x 12 columns]"
            ],
            "text/html": [
              "\n",
              "  <div id=\"df-29a5aa2e-1f50-4e07-8682-6f61e2918fbd\" class=\"colab-df-container\">\n",
              "    <div>\n",
              "<style scoped>\n",
              "    .dataframe tbody tr th:only-of-type {\n",
              "        vertical-align: middle;\n",
              "    }\n",
              "\n",
              "    .dataframe tbody tr th {\n",
              "        vertical-align: top;\n",
              "    }\n",
              "\n",
              "    .dataframe thead th {\n",
              "        text-align: right;\n",
              "    }\n",
              "</style>\n",
              "<table border=\"1\" class=\"dataframe\">\n",
              "  <thead>\n",
              "    <tr style=\"text-align: right;\">\n",
              "      <th></th>\n",
              "      <th>overall</th>\n",
              "      <th>verified</th>\n",
              "      <th>reviewTime</th>\n",
              "      <th>reviewerID</th>\n",
              "      <th>asin</th>\n",
              "      <th>reviewerName</th>\n",
              "      <th>reviewText</th>\n",
              "      <th>summary</th>\n",
              "      <th>unixReviewTime</th>\n",
              "      <th>vote</th>\n",
              "      <th>style</th>\n",
              "      <th>image</th>\n",
              "    </tr>\n",
              "  </thead>\n",
              "  <tbody>\n",
              "    <tr>\n",
              "      <th>0</th>\n",
              "      <td>5.0</td>\n",
              "      <td>True</td>\n",
              "      <td>10 30, 2016</td>\n",
              "      <td>A3FO5AKVTFRCRJ</td>\n",
              "      <td>0739079891</td>\n",
              "      <td>francisco</td>\n",
              "      <td>It's good for beginners</td>\n",
              "      <td>Five Stars</td>\n",
              "      <td>1477785600</td>\n",
              "      <td>NaN</td>\n",
              "      <td>NaN</td>\n",
              "      <td>NaN</td>\n",
              "    </tr>\n",
              "    <tr>\n",
              "      <th>1</th>\n",
              "      <td>5.0</td>\n",
              "      <td>True</td>\n",
              "      <td>06 30, 2016</td>\n",
              "      <td>A3UCGC1DHFMBCE</td>\n",
              "      <td>0739079891</td>\n",
              "      <td>Eb Jack Murray</td>\n",
              "      <td>I recommend this starter Ukulele kit.  I has e...</td>\n",
              "      <td>Five Stars</td>\n",
              "      <td>1467244800</td>\n",
              "      <td>NaN</td>\n",
              "      <td>NaN</td>\n",
              "      <td>NaN</td>\n",
              "    </tr>\n",
              "    <tr>\n",
              "      <th>2</th>\n",
              "      <td>5.0</td>\n",
              "      <td>True</td>\n",
              "      <td>05 9, 2016</td>\n",
              "      <td>A2S9SLRYLPGYZB</td>\n",
              "      <td>0739079891</td>\n",
              "      <td>Clara LaMarr</td>\n",
              "      <td>G'daughter received this for Christmas present...</td>\n",
              "      <td>Learning new songs to play regularly</td>\n",
              "      <td>1462752000</td>\n",
              "      <td>NaN</td>\n",
              "      <td>NaN</td>\n",
              "      <td>NaN</td>\n",
              "    </tr>\n",
              "    <tr>\n",
              "      <th>3</th>\n",
              "      <td>4.0</td>\n",
              "      <td>True</td>\n",
              "      <td>04 10, 2016</td>\n",
              "      <td>A15RTJWPG8OKOE</td>\n",
              "      <td>0739079891</td>\n",
              "      <td>Eagle80</td>\n",
              "      <td>According to my order history, I bought this t...</td>\n",
              "      <td>A bargain-bin good-enough ukulele that's held ...</td>\n",
              "      <td>1460246400</td>\n",
              "      <td>NaN</td>\n",
              "      <td>NaN</td>\n",
              "      <td>NaN</td>\n",
              "    </tr>\n",
              "    <tr>\n",
              "      <th>4</th>\n",
              "      <td>1.0</td>\n",
              "      <td>True</td>\n",
              "      <td>02 6, 2016</td>\n",
              "      <td>A12ET1WO3OAVU7</td>\n",
              "      <td>0739079891</td>\n",
              "      <td>Amazon Customer</td>\n",
              "      <td>Please pay attention better than I did to the ...</td>\n",
              "      <td>Poor Quality product.</td>\n",
              "      <td>1454716800</td>\n",
              "      <td>NaN</td>\n",
              "      <td>NaN</td>\n",
              "      <td>NaN</td>\n",
              "    </tr>\n",
              "    <tr>\n",
              "      <th>...</th>\n",
              "      <td>...</td>\n",
              "      <td>...</td>\n",
              "      <td>...</td>\n",
              "      <td>...</td>\n",
              "      <td>...</td>\n",
              "      <td>...</td>\n",
              "      <td>...</td>\n",
              "      <td>...</td>\n",
              "      <td>...</td>\n",
              "      <td>...</td>\n",
              "      <td>...</td>\n",
              "      <td>...</td>\n",
              "    </tr>\n",
              "    <tr>\n",
              "      <th>749399</th>\n",
              "      <td>4.0</td>\n",
              "      <td>False</td>\n",
              "      <td>07 16, 2016</td>\n",
              "      <td>A1E50L7PCVXLN4</td>\n",
              "      <td>B01FFVDY9M</td>\n",
              "      <td>Colinda</td>\n",
              "      <td>When I ordered this it was listed as Photo Edi...</td>\n",
              "      <td>File Management Software with Basic Editing Ca...</td>\n",
              "      <td>1468627200</td>\n",
              "      <td>NaN</td>\n",
              "      <td>{'Platform:': ' Key Card'}</td>\n",
              "      <td>NaN</td>\n",
              "    </tr>\n",
              "    <tr>\n",
              "      <th>749400</th>\n",
              "      <td>3.0</td>\n",
              "      <td>False</td>\n",
              "      <td>06 17, 2017</td>\n",
              "      <td>AVU1ILDDYW301</td>\n",
              "      <td>B01HAP3NUG</td>\n",
              "      <td>G. Hearn</td>\n",
              "      <td>This software has SO much going on.  Theres a ...</td>\n",
              "      <td>Might not be for the \"novice\"</td>\n",
              "      <td>1497657600</td>\n",
              "      <td>NaN</td>\n",
              "      <td>NaN</td>\n",
              "      <td>NaN</td>\n",
              "    </tr>\n",
              "    <tr>\n",
              "      <th>749401</th>\n",
              "      <td>4.0</td>\n",
              "      <td>False</td>\n",
              "      <td>01 24, 2017</td>\n",
              "      <td>A2LW5AL0KQ9P1M</td>\n",
              "      <td>B01HAP3NUG</td>\n",
              "      <td>Dr. E</td>\n",
              "      <td>I have used both more complex and less complex...</td>\n",
              "      <td>Great, Inexpensive Software for Those Who Have...</td>\n",
              "      <td>1485216000</td>\n",
              "      <td>NaN</td>\n",
              "      <td>NaN</td>\n",
              "      <td>NaN</td>\n",
              "    </tr>\n",
              "    <tr>\n",
              "      <th>749402</th>\n",
              "      <td>3.0</td>\n",
              "      <td>False</td>\n",
              "      <td>06 14, 2018</td>\n",
              "      <td>AZ515FFZ7I2P7</td>\n",
              "      <td>B01HAP47PQ</td>\n",
              "      <td>Jerry Jackson Jr.</td>\n",
              "      <td>Pinnacle Studio 20 Ultimate is a perfectly ser...</td>\n",
              "      <td>Gets the job done ... but not as easy as it sh...</td>\n",
              "      <td>1528934400</td>\n",
              "      <td>NaN</td>\n",
              "      <td>{'Platform:': ' PC Disc'}</td>\n",
              "      <td>NaN</td>\n",
              "    </tr>\n",
              "    <tr>\n",
              "      <th>749403</th>\n",
              "      <td>4.0</td>\n",
              "      <td>False</td>\n",
              "      <td>04 16, 2018</td>\n",
              "      <td>A2WPL6Y08K6ZQH</td>\n",
              "      <td>B01HAP47PQ</td>\n",
              "      <td>Narut Ujnat</td>\n",
              "      <td>A program that is fairly easy to use and provi...</td>\n",
              "      <td>Good overall program.</td>\n",
              "      <td>1523836800</td>\n",
              "      <td>NaN</td>\n",
              "      <td>{'Platform:': ' PC Disc'}</td>\n",
              "      <td>NaN</td>\n",
              "    </tr>\n",
              "  </tbody>\n",
              "</table>\n",
              "<p>691149 rows × 12 columns</p>\n",
              "</div>\n",
              "    <div class=\"colab-df-buttons\">\n",
              "\n",
              "  <div class=\"colab-df-container\">\n",
              "    <button class=\"colab-df-convert\" onclick=\"convertToInteractive('df-29a5aa2e-1f50-4e07-8682-6f61e2918fbd')\"\n",
              "            title=\"Convert this dataframe to an interactive table.\"\n",
              "            style=\"display:none;\">\n",
              "\n",
              "  <svg xmlns=\"http://www.w3.org/2000/svg\" height=\"24px\" viewBox=\"0 -960 960 960\">\n",
              "    <path d=\"M120-120v-720h720v720H120Zm60-500h600v-160H180v160Zm220 220h160v-160H400v160Zm0 220h160v-160H400v160ZM180-400h160v-160H180v160Zm440 0h160v-160H620v160ZM180-180h160v-160H180v160Zm440 0h160v-160H620v160Z\"/>\n",
              "  </svg>\n",
              "    </button>\n",
              "\n",
              "  <style>\n",
              "    .colab-df-container {\n",
              "      display:flex;\n",
              "      gap: 12px;\n",
              "    }\n",
              "\n",
              "    .colab-df-convert {\n",
              "      background-color: #E8F0FE;\n",
              "      border: none;\n",
              "      border-radius: 50%;\n",
              "      cursor: pointer;\n",
              "      display: none;\n",
              "      fill: #1967D2;\n",
              "      height: 32px;\n",
              "      padding: 0 0 0 0;\n",
              "      width: 32px;\n",
              "    }\n",
              "\n",
              "    .colab-df-convert:hover {\n",
              "      background-color: #E2EBFA;\n",
              "      box-shadow: 0px 1px 2px rgba(60, 64, 67, 0.3), 0px 1px 3px 1px rgba(60, 64, 67, 0.15);\n",
              "      fill: #174EA6;\n",
              "    }\n",
              "\n",
              "    .colab-df-buttons div {\n",
              "      margin-bottom: 4px;\n",
              "    }\n",
              "\n",
              "    [theme=dark] .colab-df-convert {\n",
              "      background-color: #3B4455;\n",
              "      fill: #D2E3FC;\n",
              "    }\n",
              "\n",
              "    [theme=dark] .colab-df-convert:hover {\n",
              "      background-color: #434B5C;\n",
              "      box-shadow: 0px 1px 3px 1px rgba(0, 0, 0, 0.15);\n",
              "      filter: drop-shadow(0px 1px 2px rgba(0, 0, 0, 0.3));\n",
              "      fill: #FFFFFF;\n",
              "    }\n",
              "  </style>\n",
              "\n",
              "    <script>\n",
              "      const buttonEl =\n",
              "        document.querySelector('#df-29a5aa2e-1f50-4e07-8682-6f61e2918fbd button.colab-df-convert');\n",
              "      buttonEl.style.display =\n",
              "        google.colab.kernel.accessAllowed ? 'block' : 'none';\n",
              "\n",
              "      async function convertToInteractive(key) {\n",
              "        const element = document.querySelector('#df-29a5aa2e-1f50-4e07-8682-6f61e2918fbd');\n",
              "        const dataTable =\n",
              "          await google.colab.kernel.invokeFunction('convertToInteractive',\n",
              "                                                    [key], {});\n",
              "        if (!dataTable) return;\n",
              "\n",
              "        const docLinkHtml = 'Like what you see? Visit the ' +\n",
              "          '<a target=\"_blank\" href=https://colab.research.google.com/notebooks/data_table.ipynb>data table notebook</a>'\n",
              "          + ' to learn more about interactive tables.';\n",
              "        element.innerHTML = '';\n",
              "        dataTable['output_type'] = 'display_data';\n",
              "        await google.colab.output.renderOutput(dataTable, element);\n",
              "        const docLink = document.createElement('div');\n",
              "        docLink.innerHTML = docLinkHtml;\n",
              "        element.appendChild(docLink);\n",
              "      }\n",
              "    </script>\n",
              "  </div>\n",
              "\n",
              "\n",
              "<div id=\"df-fb34123e-e60d-480d-85b5-e5c87cf47865\">\n",
              "  <button class=\"colab-df-quickchart\" onclick=\"quickchart('df-fb34123e-e60d-480d-85b5-e5c87cf47865')\"\n",
              "            title=\"Suggest charts\"\n",
              "            style=\"display:none;\">\n",
              "\n",
              "<svg xmlns=\"http://www.w3.org/2000/svg\" height=\"24px\"viewBox=\"0 0 24 24\"\n",
              "     width=\"24px\">\n",
              "    <g>\n",
              "        <path d=\"M19 3H5c-1.1 0-2 .9-2 2v14c0 1.1.9 2 2 2h14c1.1 0 2-.9 2-2V5c0-1.1-.9-2-2-2zM9 17H7v-7h2v7zm4 0h-2V7h2v10zm4 0h-2v-4h2v4z\"/>\n",
              "    </g>\n",
              "</svg>\n",
              "  </button>\n",
              "\n",
              "<style>\n",
              "  .colab-df-quickchart {\n",
              "      --bg-color: #E8F0FE;\n",
              "      --fill-color: #1967D2;\n",
              "      --hover-bg-color: #E2EBFA;\n",
              "      --hover-fill-color: #174EA6;\n",
              "      --disabled-fill-color: #AAA;\n",
              "      --disabled-bg-color: #DDD;\n",
              "  }\n",
              "\n",
              "  [theme=dark] .colab-df-quickchart {\n",
              "      --bg-color: #3B4455;\n",
              "      --fill-color: #D2E3FC;\n",
              "      --hover-bg-color: #434B5C;\n",
              "      --hover-fill-color: #FFFFFF;\n",
              "      --disabled-bg-color: #3B4455;\n",
              "      --disabled-fill-color: #666;\n",
              "  }\n",
              "\n",
              "  .colab-df-quickchart {\n",
              "    background-color: var(--bg-color);\n",
              "    border: none;\n",
              "    border-radius: 50%;\n",
              "    cursor: pointer;\n",
              "    display: none;\n",
              "    fill: var(--fill-color);\n",
              "    height: 32px;\n",
              "    padding: 0;\n",
              "    width: 32px;\n",
              "  }\n",
              "\n",
              "  .colab-df-quickchart:hover {\n",
              "    background-color: var(--hover-bg-color);\n",
              "    box-shadow: 0 1px 2px rgba(60, 64, 67, 0.3), 0 1px 3px 1px rgba(60, 64, 67, 0.15);\n",
              "    fill: var(--button-hover-fill-color);\n",
              "  }\n",
              "\n",
              "  .colab-df-quickchart-complete:disabled,\n",
              "  .colab-df-quickchart-complete:disabled:hover {\n",
              "    background-color: var(--disabled-bg-color);\n",
              "    fill: var(--disabled-fill-color);\n",
              "    box-shadow: none;\n",
              "  }\n",
              "\n",
              "  .colab-df-spinner {\n",
              "    border: 2px solid var(--fill-color);\n",
              "    border-color: transparent;\n",
              "    border-bottom-color: var(--fill-color);\n",
              "    animation:\n",
              "      spin 1s steps(1) infinite;\n",
              "  }\n",
              "\n",
              "  @keyframes spin {\n",
              "    0% {\n",
              "      border-color: transparent;\n",
              "      border-bottom-color: var(--fill-color);\n",
              "      border-left-color: var(--fill-color);\n",
              "    }\n",
              "    20% {\n",
              "      border-color: transparent;\n",
              "      border-left-color: var(--fill-color);\n",
              "      border-top-color: var(--fill-color);\n",
              "    }\n",
              "    30% {\n",
              "      border-color: transparent;\n",
              "      border-left-color: var(--fill-color);\n",
              "      border-top-color: var(--fill-color);\n",
              "      border-right-color: var(--fill-color);\n",
              "    }\n",
              "    40% {\n",
              "      border-color: transparent;\n",
              "      border-right-color: var(--fill-color);\n",
              "      border-top-color: var(--fill-color);\n",
              "    }\n",
              "    60% {\n",
              "      border-color: transparent;\n",
              "      border-right-color: var(--fill-color);\n",
              "    }\n",
              "    80% {\n",
              "      border-color: transparent;\n",
              "      border-right-color: var(--fill-color);\n",
              "      border-bottom-color: var(--fill-color);\n",
              "    }\n",
              "    90% {\n",
              "      border-color: transparent;\n",
              "      border-bottom-color: var(--fill-color);\n",
              "    }\n",
              "  }\n",
              "</style>\n",
              "\n",
              "  <script>\n",
              "    async function quickchart(key) {\n",
              "      const quickchartButtonEl =\n",
              "        document.querySelector('#' + key + ' button');\n",
              "      quickchartButtonEl.disabled = true;  // To prevent multiple clicks.\n",
              "      quickchartButtonEl.classList.add('colab-df-spinner');\n",
              "      try {\n",
              "        const charts = await google.colab.kernel.invokeFunction(\n",
              "            'suggestCharts', [key], {});\n",
              "      } catch (error) {\n",
              "        console.error('Error during call to suggestCharts:', error);\n",
              "      }\n",
              "      quickchartButtonEl.classList.remove('colab-df-spinner');\n",
              "      quickchartButtonEl.classList.add('colab-df-quickchart-complete');\n",
              "    }\n",
              "    (() => {\n",
              "      let quickchartButtonEl =\n",
              "        document.querySelector('#df-fb34123e-e60d-480d-85b5-e5c87cf47865 button');\n",
              "      quickchartButtonEl.style.display =\n",
              "        google.colab.kernel.accessAllowed ? 'block' : 'none';\n",
              "    })();\n",
              "  </script>\n",
              "</div>\n",
              "    </div>\n",
              "  </div>\n"
            ],
            "application/vnd.google.colaboratory.intrinsic+json": {
              "type": "dataframe",
              "variable_name": "df"
            }
          },
          "metadata": {}
        }
      ]
    },
    {
      "cell_type": "code",
      "source": [
        "# Dropping the unnecessary columns\n",
        "drop_col = [col for col in df.columns if col not in ['overall', 'verified', 'reviewText', 'summary']] # Getting all column names that are unneeded\n",
        "df.drop(drop_col, axis=1, inplace=True) # Dropping them from our df"
      ],
      "metadata": {
        "id": "tcKwWAS-dJut",
        "colab": {
          "base_uri": "https://localhost:8080/"
        },
        "outputId": "6ce918df-89f7-4e85-8a39-243bbd437075"
      },
      "execution_count": 5,
      "outputs": [
        {
          "output_type": "stream",
          "name": "stderr",
          "text": [
            "<ipython-input-5-8b467537d64a>:3: SettingWithCopyWarning: \n",
            "A value is trying to be set on a copy of a slice from a DataFrame\n",
            "\n",
            "See the caveats in the documentation: https://pandas.pydata.org/pandas-docs/stable/user_guide/indexing.html#returning-a-view-versus-a-copy\n",
            "  df.drop(drop_col, axis=1, inplace=True) # Dropping them from our df\n"
          ]
        }
      ]
    },
    {
      "cell_type": "code",
      "source": [
        "df.isna().sum()"
      ],
      "metadata": {
        "colab": {
          "base_uri": "https://localhost:8080/"
        },
        "id": "fz46hQcKdK95",
        "outputId": "6a1fee46-bd84-4085-de94-b7cbd8d7b103"
      },
      "execution_count": 6,
      "outputs": [
        {
          "output_type": "execute_result",
          "data": {
            "text/plain": [
              "overall         0\n",
              "verified        0\n",
              "reviewText    349\n",
              "summary       183\n",
              "dtype: int64"
            ]
          },
          "metadata": {},
          "execution_count": 6
        }
      ]
    },
    {
      "cell_type": "code",
      "source": [
        "# Dropping the null values in the reviewText and summary columns\n",
        "\n",
        "# Maybe instead of droppping null from summary, just make them empty ''\n",
        "df.dropna(subset=['reviewText', 'summary'], inplace=True)"
      ],
      "metadata": {
        "id": "A-rUn4_cdL5W"
      },
      "execution_count": 7,
      "outputs": []
    },
    {
      "cell_type": "code",
      "source": [
        "df.isna().sum()"
      ],
      "metadata": {
        "colab": {
          "base_uri": "https://localhost:8080/"
        },
        "id": "eXqu0f87AAyS",
        "outputId": "2e56ab73-d72b-42b4-9f8a-f5b4859c69fe"
      },
      "execution_count": 8,
      "outputs": [
        {
          "output_type": "execute_result",
          "data": {
            "text/plain": [
              "overall       0\n",
              "verified      0\n",
              "reviewText    0\n",
              "summary       0\n",
              "dtype: int64"
            ]
          },
          "metadata": {},
          "execution_count": 8
        }
      ]
    },
    {
      "cell_type": "code",
      "source": [
        "# Checking the distribution of ratings\n",
        "df['overall'].value_counts()"
      ],
      "metadata": {
        "colab": {
          "base_uri": "https://localhost:8080/"
        },
        "id": "XKtO7VPhdM71",
        "outputId": "c493f03b-3fb0-4ba6-e816-c86fe1d9efe7"
      },
      "execution_count": 9,
      "outputs": [
        {
          "output_type": "execute_result",
          "data": {
            "text/plain": [
              "overall\n",
              "5.0    510020\n",
              "4.0     96238\n",
              "3.0     43210\n",
              "1.0     21768\n",
              "2.0     19390\n",
              "Name: count, dtype: int64"
            ]
          },
          "metadata": {},
          "execution_count": 9
        }
      ]
    },
    {
      "cell_type": "markdown",
      "source": [
        "# Data Preprocessing + Transformation"
      ],
      "metadata": {
        "id": "FDMtGqmudUef"
      }
    },
    {
      "cell_type": "markdown",
      "source": [
        "### Adding sentiment column"
      ],
      "metadata": {
        "id": "v1S3g2ngdYi2"
      }
    },
    {
      "cell_type": "code",
      "source": [
        "# Creating a sentiment column by converting the numeric rating to postive, neutral, negative\n",
        "conditions = [\n",
        "    (df['overall']<=2.0),\n",
        "    (df['overall']==3.0),\n",
        "    (df['overall']>=4.0)\n",
        "]\n",
        "vals = ['negative', 'neutral', 'positive']\n",
        "df['sentiment'] = np.select(conditions, vals)\n",
        "display(df)"
      ],
      "metadata": {
        "colab": {
          "base_uri": "https://localhost:8080/",
          "height": 424
        },
        "id": "XnoHnHFhdXTd",
        "outputId": "80977db5-2b92-4eec-de24-ae509edbbc34"
      },
      "execution_count": 10,
      "outputs": [
        {
          "output_type": "display_data",
          "data": {
            "text/plain": [
              "        overall  verified                                         reviewText  \\\n",
              "0           5.0      True                            It's good for beginners   \n",
              "1           5.0      True  I recommend this starter Ukulele kit.  I has e...   \n",
              "2           5.0      True  G'daughter received this for Christmas present...   \n",
              "3           4.0      True  According to my order history, I bought this t...   \n",
              "4           1.0      True  Please pay attention better than I did to the ...   \n",
              "...         ...       ...                                                ...   \n",
              "749399      4.0     False  When I ordered this it was listed as Photo Edi...   \n",
              "749400      3.0     False  This software has SO much going on.  Theres a ...   \n",
              "749401      4.0     False  I have used both more complex and less complex...   \n",
              "749402      3.0     False  Pinnacle Studio 20 Ultimate is a perfectly ser...   \n",
              "749403      4.0     False  A program that is fairly easy to use and provi...   \n",
              "\n",
              "                                                  summary sentiment  \n",
              "0                                              Five Stars  positive  \n",
              "1                                              Five Stars  positive  \n",
              "2                    Learning new songs to play regularly  positive  \n",
              "3       A bargain-bin good-enough ukulele that's held ...  positive  \n",
              "4                                   Poor Quality product.  negative  \n",
              "...                                                   ...       ...  \n",
              "749399  File Management Software with Basic Editing Ca...  positive  \n",
              "749400                      Might not be for the \"novice\"   neutral  \n",
              "749401  Great, Inexpensive Software for Those Who Have...  positive  \n",
              "749402  Gets the job done ... but not as easy as it sh...   neutral  \n",
              "749403                              Good overall program.  positive  \n",
              "\n",
              "[690626 rows x 5 columns]"
            ],
            "text/html": [
              "\n",
              "  <div id=\"df-cec823ea-a8cb-48e3-bd69-057783aa3a6f\" class=\"colab-df-container\">\n",
              "    <div>\n",
              "<style scoped>\n",
              "    .dataframe tbody tr th:only-of-type {\n",
              "        vertical-align: middle;\n",
              "    }\n",
              "\n",
              "    .dataframe tbody tr th {\n",
              "        vertical-align: top;\n",
              "    }\n",
              "\n",
              "    .dataframe thead th {\n",
              "        text-align: right;\n",
              "    }\n",
              "</style>\n",
              "<table border=\"1\" class=\"dataframe\">\n",
              "  <thead>\n",
              "    <tr style=\"text-align: right;\">\n",
              "      <th></th>\n",
              "      <th>overall</th>\n",
              "      <th>verified</th>\n",
              "      <th>reviewText</th>\n",
              "      <th>summary</th>\n",
              "      <th>sentiment</th>\n",
              "    </tr>\n",
              "  </thead>\n",
              "  <tbody>\n",
              "    <tr>\n",
              "      <th>0</th>\n",
              "      <td>5.0</td>\n",
              "      <td>True</td>\n",
              "      <td>It's good for beginners</td>\n",
              "      <td>Five Stars</td>\n",
              "      <td>positive</td>\n",
              "    </tr>\n",
              "    <tr>\n",
              "      <th>1</th>\n",
              "      <td>5.0</td>\n",
              "      <td>True</td>\n",
              "      <td>I recommend this starter Ukulele kit.  I has e...</td>\n",
              "      <td>Five Stars</td>\n",
              "      <td>positive</td>\n",
              "    </tr>\n",
              "    <tr>\n",
              "      <th>2</th>\n",
              "      <td>5.0</td>\n",
              "      <td>True</td>\n",
              "      <td>G'daughter received this for Christmas present...</td>\n",
              "      <td>Learning new songs to play regularly</td>\n",
              "      <td>positive</td>\n",
              "    </tr>\n",
              "    <tr>\n",
              "      <th>3</th>\n",
              "      <td>4.0</td>\n",
              "      <td>True</td>\n",
              "      <td>According to my order history, I bought this t...</td>\n",
              "      <td>A bargain-bin good-enough ukulele that's held ...</td>\n",
              "      <td>positive</td>\n",
              "    </tr>\n",
              "    <tr>\n",
              "      <th>4</th>\n",
              "      <td>1.0</td>\n",
              "      <td>True</td>\n",
              "      <td>Please pay attention better than I did to the ...</td>\n",
              "      <td>Poor Quality product.</td>\n",
              "      <td>negative</td>\n",
              "    </tr>\n",
              "    <tr>\n",
              "      <th>...</th>\n",
              "      <td>...</td>\n",
              "      <td>...</td>\n",
              "      <td>...</td>\n",
              "      <td>...</td>\n",
              "      <td>...</td>\n",
              "    </tr>\n",
              "    <tr>\n",
              "      <th>749399</th>\n",
              "      <td>4.0</td>\n",
              "      <td>False</td>\n",
              "      <td>When I ordered this it was listed as Photo Edi...</td>\n",
              "      <td>File Management Software with Basic Editing Ca...</td>\n",
              "      <td>positive</td>\n",
              "    </tr>\n",
              "    <tr>\n",
              "      <th>749400</th>\n",
              "      <td>3.0</td>\n",
              "      <td>False</td>\n",
              "      <td>This software has SO much going on.  Theres a ...</td>\n",
              "      <td>Might not be for the \"novice\"</td>\n",
              "      <td>neutral</td>\n",
              "    </tr>\n",
              "    <tr>\n",
              "      <th>749401</th>\n",
              "      <td>4.0</td>\n",
              "      <td>False</td>\n",
              "      <td>I have used both more complex and less complex...</td>\n",
              "      <td>Great, Inexpensive Software for Those Who Have...</td>\n",
              "      <td>positive</td>\n",
              "    </tr>\n",
              "    <tr>\n",
              "      <th>749402</th>\n",
              "      <td>3.0</td>\n",
              "      <td>False</td>\n",
              "      <td>Pinnacle Studio 20 Ultimate is a perfectly ser...</td>\n",
              "      <td>Gets the job done ... but not as easy as it sh...</td>\n",
              "      <td>neutral</td>\n",
              "    </tr>\n",
              "    <tr>\n",
              "      <th>749403</th>\n",
              "      <td>4.0</td>\n",
              "      <td>False</td>\n",
              "      <td>A program that is fairly easy to use and provi...</td>\n",
              "      <td>Good overall program.</td>\n",
              "      <td>positive</td>\n",
              "    </tr>\n",
              "  </tbody>\n",
              "</table>\n",
              "<p>690626 rows × 5 columns</p>\n",
              "</div>\n",
              "    <div class=\"colab-df-buttons\">\n",
              "\n",
              "  <div class=\"colab-df-container\">\n",
              "    <button class=\"colab-df-convert\" onclick=\"convertToInteractive('df-cec823ea-a8cb-48e3-bd69-057783aa3a6f')\"\n",
              "            title=\"Convert this dataframe to an interactive table.\"\n",
              "            style=\"display:none;\">\n",
              "\n",
              "  <svg xmlns=\"http://www.w3.org/2000/svg\" height=\"24px\" viewBox=\"0 -960 960 960\">\n",
              "    <path d=\"M120-120v-720h720v720H120Zm60-500h600v-160H180v160Zm220 220h160v-160H400v160Zm0 220h160v-160H400v160ZM180-400h160v-160H180v160Zm440 0h160v-160H620v160ZM180-180h160v-160H180v160Zm440 0h160v-160H620v160Z\"/>\n",
              "  </svg>\n",
              "    </button>\n",
              "\n",
              "  <style>\n",
              "    .colab-df-container {\n",
              "      display:flex;\n",
              "      gap: 12px;\n",
              "    }\n",
              "\n",
              "    .colab-df-convert {\n",
              "      background-color: #E8F0FE;\n",
              "      border: none;\n",
              "      border-radius: 50%;\n",
              "      cursor: pointer;\n",
              "      display: none;\n",
              "      fill: #1967D2;\n",
              "      height: 32px;\n",
              "      padding: 0 0 0 0;\n",
              "      width: 32px;\n",
              "    }\n",
              "\n",
              "    .colab-df-convert:hover {\n",
              "      background-color: #E2EBFA;\n",
              "      box-shadow: 0px 1px 2px rgba(60, 64, 67, 0.3), 0px 1px 3px 1px rgba(60, 64, 67, 0.15);\n",
              "      fill: #174EA6;\n",
              "    }\n",
              "\n",
              "    .colab-df-buttons div {\n",
              "      margin-bottom: 4px;\n",
              "    }\n",
              "\n",
              "    [theme=dark] .colab-df-convert {\n",
              "      background-color: #3B4455;\n",
              "      fill: #D2E3FC;\n",
              "    }\n",
              "\n",
              "    [theme=dark] .colab-df-convert:hover {\n",
              "      background-color: #434B5C;\n",
              "      box-shadow: 0px 1px 3px 1px rgba(0, 0, 0, 0.15);\n",
              "      filter: drop-shadow(0px 1px 2px rgba(0, 0, 0, 0.3));\n",
              "      fill: #FFFFFF;\n",
              "    }\n",
              "  </style>\n",
              "\n",
              "    <script>\n",
              "      const buttonEl =\n",
              "        document.querySelector('#df-cec823ea-a8cb-48e3-bd69-057783aa3a6f button.colab-df-convert');\n",
              "      buttonEl.style.display =\n",
              "        google.colab.kernel.accessAllowed ? 'block' : 'none';\n",
              "\n",
              "      async function convertToInteractive(key) {\n",
              "        const element = document.querySelector('#df-cec823ea-a8cb-48e3-bd69-057783aa3a6f');\n",
              "        const dataTable =\n",
              "          await google.colab.kernel.invokeFunction('convertToInteractive',\n",
              "                                                    [key], {});\n",
              "        if (!dataTable) return;\n",
              "\n",
              "        const docLinkHtml = 'Like what you see? Visit the ' +\n",
              "          '<a target=\"_blank\" href=https://colab.research.google.com/notebooks/data_table.ipynb>data table notebook</a>'\n",
              "          + ' to learn more about interactive tables.';\n",
              "        element.innerHTML = '';\n",
              "        dataTable['output_type'] = 'display_data';\n",
              "        await google.colab.output.renderOutput(dataTable, element);\n",
              "        const docLink = document.createElement('div');\n",
              "        docLink.innerHTML = docLinkHtml;\n",
              "        element.appendChild(docLink);\n",
              "      }\n",
              "    </script>\n",
              "  </div>\n",
              "\n",
              "\n",
              "<div id=\"df-fc01cf8b-ddf3-4ccf-9903-d56c3addf791\">\n",
              "  <button class=\"colab-df-quickchart\" onclick=\"quickchart('df-fc01cf8b-ddf3-4ccf-9903-d56c3addf791')\"\n",
              "            title=\"Suggest charts\"\n",
              "            style=\"display:none;\">\n",
              "\n",
              "<svg xmlns=\"http://www.w3.org/2000/svg\" height=\"24px\"viewBox=\"0 0 24 24\"\n",
              "     width=\"24px\">\n",
              "    <g>\n",
              "        <path d=\"M19 3H5c-1.1 0-2 .9-2 2v14c0 1.1.9 2 2 2h14c1.1 0 2-.9 2-2V5c0-1.1-.9-2-2-2zM9 17H7v-7h2v7zm4 0h-2V7h2v10zm4 0h-2v-4h2v4z\"/>\n",
              "    </g>\n",
              "</svg>\n",
              "  </button>\n",
              "\n",
              "<style>\n",
              "  .colab-df-quickchart {\n",
              "      --bg-color: #E8F0FE;\n",
              "      --fill-color: #1967D2;\n",
              "      --hover-bg-color: #E2EBFA;\n",
              "      --hover-fill-color: #174EA6;\n",
              "      --disabled-fill-color: #AAA;\n",
              "      --disabled-bg-color: #DDD;\n",
              "  }\n",
              "\n",
              "  [theme=dark] .colab-df-quickchart {\n",
              "      --bg-color: #3B4455;\n",
              "      --fill-color: #D2E3FC;\n",
              "      --hover-bg-color: #434B5C;\n",
              "      --hover-fill-color: #FFFFFF;\n",
              "      --disabled-bg-color: #3B4455;\n",
              "      --disabled-fill-color: #666;\n",
              "  }\n",
              "\n",
              "  .colab-df-quickchart {\n",
              "    background-color: var(--bg-color);\n",
              "    border: none;\n",
              "    border-radius: 50%;\n",
              "    cursor: pointer;\n",
              "    display: none;\n",
              "    fill: var(--fill-color);\n",
              "    height: 32px;\n",
              "    padding: 0;\n",
              "    width: 32px;\n",
              "  }\n",
              "\n",
              "  .colab-df-quickchart:hover {\n",
              "    background-color: var(--hover-bg-color);\n",
              "    box-shadow: 0 1px 2px rgba(60, 64, 67, 0.3), 0 1px 3px 1px rgba(60, 64, 67, 0.15);\n",
              "    fill: var(--button-hover-fill-color);\n",
              "  }\n",
              "\n",
              "  .colab-df-quickchart-complete:disabled,\n",
              "  .colab-df-quickchart-complete:disabled:hover {\n",
              "    background-color: var(--disabled-bg-color);\n",
              "    fill: var(--disabled-fill-color);\n",
              "    box-shadow: none;\n",
              "  }\n",
              "\n",
              "  .colab-df-spinner {\n",
              "    border: 2px solid var(--fill-color);\n",
              "    border-color: transparent;\n",
              "    border-bottom-color: var(--fill-color);\n",
              "    animation:\n",
              "      spin 1s steps(1) infinite;\n",
              "  }\n",
              "\n",
              "  @keyframes spin {\n",
              "    0% {\n",
              "      border-color: transparent;\n",
              "      border-bottom-color: var(--fill-color);\n",
              "      border-left-color: var(--fill-color);\n",
              "    }\n",
              "    20% {\n",
              "      border-color: transparent;\n",
              "      border-left-color: var(--fill-color);\n",
              "      border-top-color: var(--fill-color);\n",
              "    }\n",
              "    30% {\n",
              "      border-color: transparent;\n",
              "      border-left-color: var(--fill-color);\n",
              "      border-top-color: var(--fill-color);\n",
              "      border-right-color: var(--fill-color);\n",
              "    }\n",
              "    40% {\n",
              "      border-color: transparent;\n",
              "      border-right-color: var(--fill-color);\n",
              "      border-top-color: var(--fill-color);\n",
              "    }\n",
              "    60% {\n",
              "      border-color: transparent;\n",
              "      border-right-color: var(--fill-color);\n",
              "    }\n",
              "    80% {\n",
              "      border-color: transparent;\n",
              "      border-right-color: var(--fill-color);\n",
              "      border-bottom-color: var(--fill-color);\n",
              "    }\n",
              "    90% {\n",
              "      border-color: transparent;\n",
              "      border-bottom-color: var(--fill-color);\n",
              "    }\n",
              "  }\n",
              "</style>\n",
              "\n",
              "  <script>\n",
              "    async function quickchart(key) {\n",
              "      const quickchartButtonEl =\n",
              "        document.querySelector('#' + key + ' button');\n",
              "      quickchartButtonEl.disabled = true;  // To prevent multiple clicks.\n",
              "      quickchartButtonEl.classList.add('colab-df-spinner');\n",
              "      try {\n",
              "        const charts = await google.colab.kernel.invokeFunction(\n",
              "            'suggestCharts', [key], {});\n",
              "      } catch (error) {\n",
              "        console.error('Error during call to suggestCharts:', error);\n",
              "      }\n",
              "      quickchartButtonEl.classList.remove('colab-df-spinner');\n",
              "      quickchartButtonEl.classList.add('colab-df-quickchart-complete');\n",
              "    }\n",
              "    (() => {\n",
              "      let quickchartButtonEl =\n",
              "        document.querySelector('#df-fc01cf8b-ddf3-4ccf-9903-d56c3addf791 button');\n",
              "      quickchartButtonEl.style.display =\n",
              "        google.colab.kernel.accessAllowed ? 'block' : 'none';\n",
              "    })();\n",
              "  </script>\n",
              "</div>\n",
              "    </div>\n",
              "  </div>\n"
            ],
            "application/vnd.google.colaboratory.intrinsic+json": {
              "type": "dataframe",
              "variable_name": "df"
            }
          },
          "metadata": {}
        }
      ]
    },
    {
      "cell_type": "code",
      "source": [
        "# Combining reviewText and Summary\n",
        "df['reviewTextSumm'] = df['reviewText'] + \" \" + df['summary']\n",
        "display(df)"
      ],
      "metadata": {
        "colab": {
          "base_uri": "https://localhost:8080/",
          "height": 424
        },
        "id": "N1Oea1xKdbdt",
        "outputId": "81ab3a98-9ee2-419f-e43d-520173df951f"
      },
      "execution_count": 11,
      "outputs": [
        {
          "output_type": "display_data",
          "data": {
            "text/plain": [
              "        overall  verified                                         reviewText  \\\n",
              "0           5.0      True                            It's good for beginners   \n",
              "1           5.0      True  I recommend this starter Ukulele kit.  I has e...   \n",
              "2           5.0      True  G'daughter received this for Christmas present...   \n",
              "3           4.0      True  According to my order history, I bought this t...   \n",
              "4           1.0      True  Please pay attention better than I did to the ...   \n",
              "...         ...       ...                                                ...   \n",
              "749399      4.0     False  When I ordered this it was listed as Photo Edi...   \n",
              "749400      3.0     False  This software has SO much going on.  Theres a ...   \n",
              "749401      4.0     False  I have used both more complex and less complex...   \n",
              "749402      3.0     False  Pinnacle Studio 20 Ultimate is a perfectly ser...   \n",
              "749403      4.0     False  A program that is fairly easy to use and provi...   \n",
              "\n",
              "                                                  summary sentiment  \\\n",
              "0                                              Five Stars  positive   \n",
              "1                                              Five Stars  positive   \n",
              "2                    Learning new songs to play regularly  positive   \n",
              "3       A bargain-bin good-enough ukulele that's held ...  positive   \n",
              "4                                   Poor Quality product.  negative   \n",
              "...                                                   ...       ...   \n",
              "749399  File Management Software with Basic Editing Ca...  positive   \n",
              "749400                      Might not be for the \"novice\"   neutral   \n",
              "749401  Great, Inexpensive Software for Those Who Have...  positive   \n",
              "749402  Gets the job done ... but not as easy as it sh...   neutral   \n",
              "749403                              Good overall program.  positive   \n",
              "\n",
              "                                           reviewTextSumm  \n",
              "0                      It's good for beginners Five Stars  \n",
              "1       I recommend this starter Ukulele kit.  I has e...  \n",
              "2       G'daughter received this for Christmas present...  \n",
              "3       According to my order history, I bought this t...  \n",
              "4       Please pay attention better than I did to the ...  \n",
              "...                                                   ...  \n",
              "749399  When I ordered this it was listed as Photo Edi...  \n",
              "749400  This software has SO much going on.  Theres a ...  \n",
              "749401  I have used both more complex and less complex...  \n",
              "749402  Pinnacle Studio 20 Ultimate is a perfectly ser...  \n",
              "749403  A program that is fairly easy to use and provi...  \n",
              "\n",
              "[690626 rows x 6 columns]"
            ],
            "text/html": [
              "\n",
              "  <div id=\"df-c949211f-bd48-41e2-b28a-d66266d6b892\" class=\"colab-df-container\">\n",
              "    <div>\n",
              "<style scoped>\n",
              "    .dataframe tbody tr th:only-of-type {\n",
              "        vertical-align: middle;\n",
              "    }\n",
              "\n",
              "    .dataframe tbody tr th {\n",
              "        vertical-align: top;\n",
              "    }\n",
              "\n",
              "    .dataframe thead th {\n",
              "        text-align: right;\n",
              "    }\n",
              "</style>\n",
              "<table border=\"1\" class=\"dataframe\">\n",
              "  <thead>\n",
              "    <tr style=\"text-align: right;\">\n",
              "      <th></th>\n",
              "      <th>overall</th>\n",
              "      <th>verified</th>\n",
              "      <th>reviewText</th>\n",
              "      <th>summary</th>\n",
              "      <th>sentiment</th>\n",
              "      <th>reviewTextSumm</th>\n",
              "    </tr>\n",
              "  </thead>\n",
              "  <tbody>\n",
              "    <tr>\n",
              "      <th>0</th>\n",
              "      <td>5.0</td>\n",
              "      <td>True</td>\n",
              "      <td>It's good for beginners</td>\n",
              "      <td>Five Stars</td>\n",
              "      <td>positive</td>\n",
              "      <td>It's good for beginners Five Stars</td>\n",
              "    </tr>\n",
              "    <tr>\n",
              "      <th>1</th>\n",
              "      <td>5.0</td>\n",
              "      <td>True</td>\n",
              "      <td>I recommend this starter Ukulele kit.  I has e...</td>\n",
              "      <td>Five Stars</td>\n",
              "      <td>positive</td>\n",
              "      <td>I recommend this starter Ukulele kit.  I has e...</td>\n",
              "    </tr>\n",
              "    <tr>\n",
              "      <th>2</th>\n",
              "      <td>5.0</td>\n",
              "      <td>True</td>\n",
              "      <td>G'daughter received this for Christmas present...</td>\n",
              "      <td>Learning new songs to play regularly</td>\n",
              "      <td>positive</td>\n",
              "      <td>G'daughter received this for Christmas present...</td>\n",
              "    </tr>\n",
              "    <tr>\n",
              "      <th>3</th>\n",
              "      <td>4.0</td>\n",
              "      <td>True</td>\n",
              "      <td>According to my order history, I bought this t...</td>\n",
              "      <td>A bargain-bin good-enough ukulele that's held ...</td>\n",
              "      <td>positive</td>\n",
              "      <td>According to my order history, I bought this t...</td>\n",
              "    </tr>\n",
              "    <tr>\n",
              "      <th>4</th>\n",
              "      <td>1.0</td>\n",
              "      <td>True</td>\n",
              "      <td>Please pay attention better than I did to the ...</td>\n",
              "      <td>Poor Quality product.</td>\n",
              "      <td>negative</td>\n",
              "      <td>Please pay attention better than I did to the ...</td>\n",
              "    </tr>\n",
              "    <tr>\n",
              "      <th>...</th>\n",
              "      <td>...</td>\n",
              "      <td>...</td>\n",
              "      <td>...</td>\n",
              "      <td>...</td>\n",
              "      <td>...</td>\n",
              "      <td>...</td>\n",
              "    </tr>\n",
              "    <tr>\n",
              "      <th>749399</th>\n",
              "      <td>4.0</td>\n",
              "      <td>False</td>\n",
              "      <td>When I ordered this it was listed as Photo Edi...</td>\n",
              "      <td>File Management Software with Basic Editing Ca...</td>\n",
              "      <td>positive</td>\n",
              "      <td>When I ordered this it was listed as Photo Edi...</td>\n",
              "    </tr>\n",
              "    <tr>\n",
              "      <th>749400</th>\n",
              "      <td>3.0</td>\n",
              "      <td>False</td>\n",
              "      <td>This software has SO much going on.  Theres a ...</td>\n",
              "      <td>Might not be for the \"novice\"</td>\n",
              "      <td>neutral</td>\n",
              "      <td>This software has SO much going on.  Theres a ...</td>\n",
              "    </tr>\n",
              "    <tr>\n",
              "      <th>749401</th>\n",
              "      <td>4.0</td>\n",
              "      <td>False</td>\n",
              "      <td>I have used both more complex and less complex...</td>\n",
              "      <td>Great, Inexpensive Software for Those Who Have...</td>\n",
              "      <td>positive</td>\n",
              "      <td>I have used both more complex and less complex...</td>\n",
              "    </tr>\n",
              "    <tr>\n",
              "      <th>749402</th>\n",
              "      <td>3.0</td>\n",
              "      <td>False</td>\n",
              "      <td>Pinnacle Studio 20 Ultimate is a perfectly ser...</td>\n",
              "      <td>Gets the job done ... but not as easy as it sh...</td>\n",
              "      <td>neutral</td>\n",
              "      <td>Pinnacle Studio 20 Ultimate is a perfectly ser...</td>\n",
              "    </tr>\n",
              "    <tr>\n",
              "      <th>749403</th>\n",
              "      <td>4.0</td>\n",
              "      <td>False</td>\n",
              "      <td>A program that is fairly easy to use and provi...</td>\n",
              "      <td>Good overall program.</td>\n",
              "      <td>positive</td>\n",
              "      <td>A program that is fairly easy to use and provi...</td>\n",
              "    </tr>\n",
              "  </tbody>\n",
              "</table>\n",
              "<p>690626 rows × 6 columns</p>\n",
              "</div>\n",
              "    <div class=\"colab-df-buttons\">\n",
              "\n",
              "  <div class=\"colab-df-container\">\n",
              "    <button class=\"colab-df-convert\" onclick=\"convertToInteractive('df-c949211f-bd48-41e2-b28a-d66266d6b892')\"\n",
              "            title=\"Convert this dataframe to an interactive table.\"\n",
              "            style=\"display:none;\">\n",
              "\n",
              "  <svg xmlns=\"http://www.w3.org/2000/svg\" height=\"24px\" viewBox=\"0 -960 960 960\">\n",
              "    <path d=\"M120-120v-720h720v720H120Zm60-500h600v-160H180v160Zm220 220h160v-160H400v160Zm0 220h160v-160H400v160ZM180-400h160v-160H180v160Zm440 0h160v-160H620v160ZM180-180h160v-160H180v160Zm440 0h160v-160H620v160Z\"/>\n",
              "  </svg>\n",
              "    </button>\n",
              "\n",
              "  <style>\n",
              "    .colab-df-container {\n",
              "      display:flex;\n",
              "      gap: 12px;\n",
              "    }\n",
              "\n",
              "    .colab-df-convert {\n",
              "      background-color: #E8F0FE;\n",
              "      border: none;\n",
              "      border-radius: 50%;\n",
              "      cursor: pointer;\n",
              "      display: none;\n",
              "      fill: #1967D2;\n",
              "      height: 32px;\n",
              "      padding: 0 0 0 0;\n",
              "      width: 32px;\n",
              "    }\n",
              "\n",
              "    .colab-df-convert:hover {\n",
              "      background-color: #E2EBFA;\n",
              "      box-shadow: 0px 1px 2px rgba(60, 64, 67, 0.3), 0px 1px 3px 1px rgba(60, 64, 67, 0.15);\n",
              "      fill: #174EA6;\n",
              "    }\n",
              "\n",
              "    .colab-df-buttons div {\n",
              "      margin-bottom: 4px;\n",
              "    }\n",
              "\n",
              "    [theme=dark] .colab-df-convert {\n",
              "      background-color: #3B4455;\n",
              "      fill: #D2E3FC;\n",
              "    }\n",
              "\n",
              "    [theme=dark] .colab-df-convert:hover {\n",
              "      background-color: #434B5C;\n",
              "      box-shadow: 0px 1px 3px 1px rgba(0, 0, 0, 0.15);\n",
              "      filter: drop-shadow(0px 1px 2px rgba(0, 0, 0, 0.3));\n",
              "      fill: #FFFFFF;\n",
              "    }\n",
              "  </style>\n",
              "\n",
              "    <script>\n",
              "      const buttonEl =\n",
              "        document.querySelector('#df-c949211f-bd48-41e2-b28a-d66266d6b892 button.colab-df-convert');\n",
              "      buttonEl.style.display =\n",
              "        google.colab.kernel.accessAllowed ? 'block' : 'none';\n",
              "\n",
              "      async function convertToInteractive(key) {\n",
              "        const element = document.querySelector('#df-c949211f-bd48-41e2-b28a-d66266d6b892');\n",
              "        const dataTable =\n",
              "          await google.colab.kernel.invokeFunction('convertToInteractive',\n",
              "                                                    [key], {});\n",
              "        if (!dataTable) return;\n",
              "\n",
              "        const docLinkHtml = 'Like what you see? Visit the ' +\n",
              "          '<a target=\"_blank\" href=https://colab.research.google.com/notebooks/data_table.ipynb>data table notebook</a>'\n",
              "          + ' to learn more about interactive tables.';\n",
              "        element.innerHTML = '';\n",
              "        dataTable['output_type'] = 'display_data';\n",
              "        await google.colab.output.renderOutput(dataTable, element);\n",
              "        const docLink = document.createElement('div');\n",
              "        docLink.innerHTML = docLinkHtml;\n",
              "        element.appendChild(docLink);\n",
              "      }\n",
              "    </script>\n",
              "  </div>\n",
              "\n",
              "\n",
              "<div id=\"df-7a07e763-4ed2-4f9f-ab2d-4dfb68697c1b\">\n",
              "  <button class=\"colab-df-quickchart\" onclick=\"quickchart('df-7a07e763-4ed2-4f9f-ab2d-4dfb68697c1b')\"\n",
              "            title=\"Suggest charts\"\n",
              "            style=\"display:none;\">\n",
              "\n",
              "<svg xmlns=\"http://www.w3.org/2000/svg\" height=\"24px\"viewBox=\"0 0 24 24\"\n",
              "     width=\"24px\">\n",
              "    <g>\n",
              "        <path d=\"M19 3H5c-1.1 0-2 .9-2 2v14c0 1.1.9 2 2 2h14c1.1 0 2-.9 2-2V5c0-1.1-.9-2-2-2zM9 17H7v-7h2v7zm4 0h-2V7h2v10zm4 0h-2v-4h2v4z\"/>\n",
              "    </g>\n",
              "</svg>\n",
              "  </button>\n",
              "\n",
              "<style>\n",
              "  .colab-df-quickchart {\n",
              "      --bg-color: #E8F0FE;\n",
              "      --fill-color: #1967D2;\n",
              "      --hover-bg-color: #E2EBFA;\n",
              "      --hover-fill-color: #174EA6;\n",
              "      --disabled-fill-color: #AAA;\n",
              "      --disabled-bg-color: #DDD;\n",
              "  }\n",
              "\n",
              "  [theme=dark] .colab-df-quickchart {\n",
              "      --bg-color: #3B4455;\n",
              "      --fill-color: #D2E3FC;\n",
              "      --hover-bg-color: #434B5C;\n",
              "      --hover-fill-color: #FFFFFF;\n",
              "      --disabled-bg-color: #3B4455;\n",
              "      --disabled-fill-color: #666;\n",
              "  }\n",
              "\n",
              "  .colab-df-quickchart {\n",
              "    background-color: var(--bg-color);\n",
              "    border: none;\n",
              "    border-radius: 50%;\n",
              "    cursor: pointer;\n",
              "    display: none;\n",
              "    fill: var(--fill-color);\n",
              "    height: 32px;\n",
              "    padding: 0;\n",
              "    width: 32px;\n",
              "  }\n",
              "\n",
              "  .colab-df-quickchart:hover {\n",
              "    background-color: var(--hover-bg-color);\n",
              "    box-shadow: 0 1px 2px rgba(60, 64, 67, 0.3), 0 1px 3px 1px rgba(60, 64, 67, 0.15);\n",
              "    fill: var(--button-hover-fill-color);\n",
              "  }\n",
              "\n",
              "  .colab-df-quickchart-complete:disabled,\n",
              "  .colab-df-quickchart-complete:disabled:hover {\n",
              "    background-color: var(--disabled-bg-color);\n",
              "    fill: var(--disabled-fill-color);\n",
              "    box-shadow: none;\n",
              "  }\n",
              "\n",
              "  .colab-df-spinner {\n",
              "    border: 2px solid var(--fill-color);\n",
              "    border-color: transparent;\n",
              "    border-bottom-color: var(--fill-color);\n",
              "    animation:\n",
              "      spin 1s steps(1) infinite;\n",
              "  }\n",
              "\n",
              "  @keyframes spin {\n",
              "    0% {\n",
              "      border-color: transparent;\n",
              "      border-bottom-color: var(--fill-color);\n",
              "      border-left-color: var(--fill-color);\n",
              "    }\n",
              "    20% {\n",
              "      border-color: transparent;\n",
              "      border-left-color: var(--fill-color);\n",
              "      border-top-color: var(--fill-color);\n",
              "    }\n",
              "    30% {\n",
              "      border-color: transparent;\n",
              "      border-left-color: var(--fill-color);\n",
              "      border-top-color: var(--fill-color);\n",
              "      border-right-color: var(--fill-color);\n",
              "    }\n",
              "    40% {\n",
              "      border-color: transparent;\n",
              "      border-right-color: var(--fill-color);\n",
              "      border-top-color: var(--fill-color);\n",
              "    }\n",
              "    60% {\n",
              "      border-color: transparent;\n",
              "      border-right-color: var(--fill-color);\n",
              "    }\n",
              "    80% {\n",
              "      border-color: transparent;\n",
              "      border-right-color: var(--fill-color);\n",
              "      border-bottom-color: var(--fill-color);\n",
              "    }\n",
              "    90% {\n",
              "      border-color: transparent;\n",
              "      border-bottom-color: var(--fill-color);\n",
              "    }\n",
              "  }\n",
              "</style>\n",
              "\n",
              "  <script>\n",
              "    async function quickchart(key) {\n",
              "      const quickchartButtonEl =\n",
              "        document.querySelector('#' + key + ' button');\n",
              "      quickchartButtonEl.disabled = true;  // To prevent multiple clicks.\n",
              "      quickchartButtonEl.classList.add('colab-df-spinner');\n",
              "      try {\n",
              "        const charts = await google.colab.kernel.invokeFunction(\n",
              "            'suggestCharts', [key], {});\n",
              "      } catch (error) {\n",
              "        console.error('Error during call to suggestCharts:', error);\n",
              "      }\n",
              "      quickchartButtonEl.classList.remove('colab-df-spinner');\n",
              "      quickchartButtonEl.classList.add('colab-df-quickchart-complete');\n",
              "    }\n",
              "    (() => {\n",
              "      let quickchartButtonEl =\n",
              "        document.querySelector('#df-7a07e763-4ed2-4f9f-ab2d-4dfb68697c1b button');\n",
              "      quickchartButtonEl.style.display =\n",
              "        google.colab.kernel.accessAllowed ? 'block' : 'none';\n",
              "    })();\n",
              "  </script>\n",
              "</div>\n",
              "    </div>\n",
              "  </div>\n"
            ],
            "application/vnd.google.colaboratory.intrinsic+json": {
              "type": "dataframe",
              "variable_name": "df"
            }
          },
          "metadata": {}
        }
      ]
    },
    {
      "cell_type": "markdown",
      "source": [
        "### Creating train/val/test splits"
      ],
      "metadata": {
        "id": "EKugcFC0d9RF"
      }
    },
    {
      "cell_type": "code",
      "source": [
        "# 70:15:15 split\n",
        "x_train, x_test, y_train, y_test = train_test_split(df['reviewTextSumm'], df['sentiment'], test_size=0.3, random_state=42, stratify=df['sentiment'])\n",
        "x_val, x_test, y_val, y_test = train_test_split(x_test, y_test, test_size=0.5, random_state=42, stratify=y_test)\n",
        "print('train shape: ', x_train.shape, y_train.shape)\n",
        "print('val shape: ', x_val.shape, y_val.shape)\n",
        "print('test shape: ', x_test.shape, y_test.shape)\n"
      ],
      "metadata": {
        "colab": {
          "base_uri": "https://localhost:8080/"
        },
        "id": "5fhmpIuPeAhR",
        "outputId": "02252a88-181e-4cf1-88ff-fc1c246be1bc"
      },
      "execution_count": 12,
      "outputs": [
        {
          "output_type": "stream",
          "name": "stdout",
          "text": [
            "train shape:  (483438,) (483438,)\n",
            "val shape:  (103594,) (103594,)\n",
            "test shape:  (103594,) (103594,)\n"
          ]
        }
      ]
    },
    {
      "cell_type": "code",
      "source": [
        "STOP_WORDS = set(stopwords.words('english'))\n",
        "\n",
        "def preprocess_text(sentence, stop, type_proc=None):  # Maybe set default type to None; maybe set default to stop\n",
        "  \"\"\"\n",
        "  Applied to the dataframe to preprocess reviewText\n",
        "  Parameters:\n",
        "    stop: Set of stopwords\n",
        "    type: Defines if the sentence is only preprocessed, or includes stemming, or lemmatization\n",
        "    - Acceptable inputs: \"None\", \"stem\", \"lem\"\n",
        "  \"\"\"\n",
        "  words = []\n",
        "  for word in sentence.lower().replace('\\n', '').strip().split():  # Could also just use a tokenizer here\n",
        "\n",
        "    # Could add more filtering\n",
        "    word = re.sub('\\d', '', word)        # Removes digits from the word\n",
        "    word = re.sub('[^\\w\\s]', '', word)   # Removes non-characters from the word\n",
        "\n",
        "    if word not in stop and word != '':  # Check if the word is in the stop words and should be excluded (don't know if the word != '' is needed)\n",
        "      words.append(preprocess_type(word, type_proc))\n",
        "\n",
        "  return ' '.join(words)                 # Converting back into a sentence\n",
        "\n",
        "def preprocess_type(word, type_proc):\n",
        "  \"\"\"\n",
        "  Helper function for preprocess_text\n",
        "  Depending on the type: None, stem, or lem\n",
        "  Returns the word, a stemmed word, or a lemmatized word\n",
        "  \"\"\"\n",
        "  match type_proc:\n",
        "    case None:\n",
        "      return word\n",
        "    case \"stem\":\n",
        "      return PorterStemmer().stem(word)\n",
        "    case \"lem\":\n",
        "      return WordNetLemmatizer().lemmatize(word)\n",
        "\n",
        "\n",
        "# Applying the preprocessing\n",
        "\n",
        "x_train_proc = list(map(lambda x: preprocess_text(x, STOP_WORDS), x_train))\n",
        "x_val_proc = list(map(lambda x: preprocess_text(x, STOP_WORDS), x_val))\n",
        "x_test_proc = list(map(lambda x: preprocess_text(x, STOP_WORDS), x_test))\n",
        "\n",
        "x_train_stem = list(map(lambda x: preprocess_text(x, STOP_WORDS, \"stem\"), x_train))\n",
        "x_val_stem = list(map(lambda x: preprocess_text(x, STOP_WORDS, \"stem\"), x_val))\n",
        "x_test_stem = list(map(lambda x: preprocess_text(x, STOP_WORDS, \"stem\"), x_test))\n",
        "\n",
        "x_train_lem = list(map(lambda x: preprocess_text(x, STOP_WORDS, \"lem\"), x_train))\n",
        "x_val_lem = list(map(lambda x: preprocess_text(x, STOP_WORDS, \"lem\"), x_val))\n",
        "x_test_lem = list(map(lambda x: preprocess_text(x, STOP_WORDS, \"lem\"), x_test))"
      ],
      "metadata": {
        "id": "dZH1zESYdvp5"
      },
      "execution_count": 13,
      "outputs": []
    },
    {
      "cell_type": "markdown",
      "source": [
        "### Transforming with tfidf/countvectorizer"
      ],
      "metadata": {
        "id": "cRMrErCHetY9"
      }
    },
    {
      "cell_type": "code",
      "source": [
        "# CountVectorizer (Bag of Words)\n",
        "vectorizer = CountVectorizer()\n",
        "x_train_bow = vectorizer.fit_transform(x_train)\n",
        "x_val_bow = vectorizer.transform(x_val)\n",
        "x_test_bow = vectorizer.transform(x_test)\n",
        "\n",
        "\n",
        "vectorizer = CountVectorizer()\n",
        "x_train_proc_bow = vectorizer.fit_transform(x_train_proc)\n",
        "x_val_proc_bow = vectorizer.transform(x_val_proc)\n",
        "x_test_proc_bow = vectorizer.transform(x_test_proc)\n",
        "\n",
        "\n",
        "vectorizer = CountVectorizer()\n",
        "x_train_stem_bow = vectorizer.fit_transform(x_train_stem)\n",
        "x_val_stem_bow = vectorizer.transform(x_val_stem)\n",
        "x_test_stem_bow = vectorizer.transform(x_test_stem)\n",
        "\n",
        "\n",
        "\n",
        "vectorizer = CountVectorizer()\n",
        "x_train_lem_bow = vectorizer.fit_transform(x_train_lem)\n",
        "x_val_lem_bow = vectorizer.transform(x_val_lem)\n",
        "x_test_lem_bow = vectorizer.transform(x_test_lem)\n",
        "\n",
        "\n",
        "### Apply tfidf vectorizer (Term Frequency - Inverse Document Frequency)\n",
        "tf_vector = TfidfVectorizer()\n",
        "x_train_tf = tf_vector.fit_transform(x_train)\n",
        "x_val_tf = tf_vector.transform(x_val)\n",
        "x_test_tf = tf_vector.transform(x_test)\n",
        "\n",
        "\n",
        "\n",
        "tf_vector = TfidfVectorizer()\n",
        "x_train_proc_tf = tf_vector.fit_transform(x_train_proc)\n",
        "x_val_proc_tf = tf_vector.transform(x_val_proc)\n",
        "x_test_proc_tf = tf_vector.transform(x_test_proc)\n",
        "\n",
        "\n",
        "tf_vector = TfidfVectorizer()\n",
        "x_train_stem_tf = tf_vector.fit_transform(x_train_stem)\n",
        "x_val_stem_tf = tf_vector.transform(x_val_stem)\n",
        "x_test_stem_tf = tf_vector.transform(x_test_stem)\n",
        "\n",
        "\n",
        "\n",
        "tf_vector = TfidfVectorizer()\n",
        "x_train_lem_tf = tf_vector.fit_transform(x_train_lem)\n",
        "x_val_lem_tf = tf_vector.transform(x_val_lem)\n",
        "x_test_lem_tf = tf_vector.transform(x_test_lem)\n"
      ],
      "metadata": {
        "id": "rCpA1kr_evUL"
      },
      "execution_count": 14,
      "outputs": []
    },
    {
      "cell_type": "markdown",
      "source": [
        "# Modeling"
      ],
      "metadata": {
        "id": "KBEkdoYie__K"
      }
    },
    {
      "cell_type": "markdown",
      "source": [
        "### Baseline"
      ],
      "metadata": {
        "id": "aWkPB06pfA_6"
      }
    },
    {
      "cell_type": "code",
      "source": [
        "# Baseline model that trains on train, and tests on validation\n",
        "print(\"Baseline Logistic Regression\")\n",
        "print()\n",
        "############ Count Vectorizer tests ############\n",
        "\n",
        "print(\"CountVectorized words\")\n",
        "# Baseline\n",
        "log_model = LogisticRegression(max_iter = 2500)\n",
        "log_model.fit(x_train_bow, y_train)\n",
        "log_sent = log_model.predict(x_val_bow)\n",
        "print(\"Base Accuracy: \", accuracy_score(y_val, log_sent))\n",
        "\n",
        "print(classification_report(y_val, log_sent))\n",
        "\n",
        "print('########################################################')\n",
        "# Preprocess\n",
        "log_model_proc = LogisticRegression(max_iter = 2500)\n",
        "log_model_proc.fit(x_train_proc_bow, y_train)\n",
        "log_sent = log_model_proc.predict(x_val_proc_bow)\n",
        "print(\"Preprocess Accuracy: \", accuracy_score(y_val, log_sent))\n",
        "\n",
        "print(classification_report(y_val, log_sent))\n",
        "\n",
        "print('########################################################')\n",
        "\n",
        "# Stem\n",
        "log_model_stem = LogisticRegression(max_iter = 2500)\n",
        "log_model_stem.fit(x_train_stem_bow, y_train)\n",
        "log_sent = log_model_stem.predict(x_val_stem_bow)\n",
        "print(\"Stem Accuracy: \", accuracy_score(y_val, log_sent))\n",
        "\n",
        "print(classification_report(y_val, log_sent))\n",
        "\n",
        "print('########################################################')\n",
        "\n",
        "# Lemmatize\n",
        "log_model_lem = LogisticRegression(max_iter = 2500)\n",
        "log_model_lem.fit(x_train_lem_bow, y_train)\n",
        "log_sent = log_model_lem.predict(x_val_lem_bow)\n",
        "print(\"Lem Accuracy: \", accuracy_score(y_val, log_sent))\n",
        "\n",
        "print(classification_report(y_val, log_sent))\n",
        "\n",
        "print('########################################################')\n",
        "############ Tfidf Vectorizer tests ############\n",
        "print()\n",
        "print(\"Tfidf words\")\n",
        "\n",
        "# Baseline\n",
        "log_model_tf = LogisticRegression(max_iter = 2500)\n",
        "log_model_tf.fit(x_train_tf, y_train)\n",
        "log_sent = log_model_tf.predict(x_val_tf)\n",
        "print(\"Base Accuracy: \", accuracy_score(y_val, log_sent))\n",
        "print(classification_report(y_val, log_sent))\n",
        "\n",
        "print('########################################################')\n",
        "\n",
        "# Preprocess\n",
        "log_model_tfproc = LogisticRegression(max_iter = 2500)\n",
        "log_model_tfproc.fit(x_train_proc_tf, y_train)\n",
        "log_sent = log_model_tfproc.predict(x_val_proc_tf)\n",
        "print(\"Preprocess Accuracy: \", accuracy_score(y_val, log_sent))\n",
        "print(classification_report(y_val, log_sent))\n",
        "\n",
        "print('########################################################')\n",
        "\n",
        "# Stem\n",
        "log_model_tfstem = LogisticRegression(max_iter = 2500)\n",
        "log_model_tfstem.fit(x_train_stem_tf, y_train)\n",
        "log_sent = log_model_tfstem.predict(x_val_stem_tf)\n",
        "print(\"Stem Accuracy: \", accuracy_score(y_val, log_sent))\n",
        "print(classification_report(y_val, log_sent))\n",
        "\n",
        "print('########################################################')\n",
        "\n",
        "# Lemmatize\n",
        "log_model_tflem = LogisticRegression(max_iter = 2500)\n",
        "log_model_tflem.fit(x_train_lem_tf, y_train)\n",
        "log_sent = log_model_tflem.predict(x_val_lem_tf)\n",
        "print(\"Lem Accuracy: \", accuracy_score(y_val, log_sent))\n",
        "print(classification_report(y_val, log_sent))\n",
        "\n",
        "#print('########################################################')"
      ],
      "metadata": {
        "colab": {
          "base_uri": "https://localhost:8080/"
        },
        "id": "nAuESUw0e76f",
        "outputId": "135437cb-d3bf-4987-c8b7-7771b1d4d470"
      },
      "execution_count": null,
      "outputs": [
        {
          "output_type": "stream",
          "name": "stdout",
          "text": [
            "Baseline Logistic Regression\n",
            "\n",
            "CountVectorized words\n"
          ]
        },
        {
          "output_type": "stream",
          "name": "stderr",
          "text": [
            "/usr/local/lib/python3.10/dist-packages/sklearn/linear_model/_logistic.py:458: ConvergenceWarning: lbfgs failed to converge (status=1):\n",
            "STOP: TOTAL NO. of ITERATIONS REACHED LIMIT.\n",
            "\n",
            "Increase the number of iterations (max_iter) or scale the data as shown in:\n",
            "    https://scikit-learn.org/stable/modules/preprocessing.html\n",
            "Please also refer to the documentation for alternative solver options:\n",
            "    https://scikit-learn.org/stable/modules/linear_model.html#logistic-regression\n",
            "  n_iter_i = _check_optimize_result(\n"
          ]
        },
        {
          "output_type": "stream",
          "name": "stdout",
          "text": [
            "Base Accuracy:  0.9275247601212425\n",
            "              precision    recall  f1-score   support\n",
            "\n",
            "    negative       0.73      0.68      0.70      6173\n",
            "     neutral       0.60      0.45      0.52      6482\n",
            "    positive       0.96      0.98      0.97     90939\n",
            "\n",
            "    accuracy                           0.93    103594\n",
            "   macro avg       0.76      0.70      0.73    103594\n",
            "weighted avg       0.92      0.93      0.92    103594\n",
            "\n",
            "########################################################\n",
            "Preprocess Accuracy:  0.9244743904087109\n",
            "              precision    recall  f1-score   support\n",
            "\n",
            "    negative       0.72      0.65      0.68      6173\n",
            "     neutral       0.60      0.43      0.50      6482\n",
            "    positive       0.95      0.98      0.97     90939\n",
            "\n",
            "    accuracy                           0.92    103594\n",
            "   macro avg       0.76      0.68      0.72    103594\n",
            "weighted avg       0.92      0.92      0.92    103594\n",
            "\n",
            "########################################################\n",
            "Stem Accuracy:  0.9222445315365755\n",
            "              precision    recall  f1-score   support\n",
            "\n",
            "    negative       0.72      0.63      0.67      6173\n",
            "     neutral       0.61      0.41      0.49      6482\n",
            "    positive       0.95      0.98      0.96     90939\n",
            "\n",
            "    accuracy                           0.92    103594\n",
            "   macro avg       0.76      0.67      0.71    103594\n",
            "weighted avg       0.91      0.92      0.92    103594\n",
            "\n",
            "########################################################\n",
            "Lem Accuracy:  0.9233160221634458\n",
            "              precision    recall  f1-score   support\n",
            "\n",
            "    negative       0.72      0.63      0.68      6173\n",
            "     neutral       0.60      0.42      0.50      6482\n",
            "    positive       0.95      0.98      0.96     90939\n",
            "\n",
            "    accuracy                           0.92    103594\n",
            "   macro avg       0.76      0.68      0.71    103594\n",
            "weighted avg       0.92      0.92      0.92    103594\n",
            "\n",
            "########################################################\n",
            "\n",
            "Tfidf words\n",
            "Base Accuracy:  0.9312218854373805\n",
            "              precision    recall  f1-score   support\n",
            "\n",
            "    negative       0.78      0.67      0.72      6173\n",
            "     neutral       0.68      0.40      0.50      6482\n",
            "    positive       0.95      0.99      0.97     90939\n",
            "\n",
            "    accuracy                           0.93    103594\n",
            "   macro avg       0.80      0.68      0.73    103594\n",
            "weighted avg       0.92      0.93      0.92    103594\n",
            "\n",
            "########################################################\n",
            "Preprocess Accuracy:  0.9279688012819275\n",
            "              precision    recall  f1-score   support\n",
            "\n",
            "    negative       0.77      0.63      0.69      6173\n",
            "     neutral       0.70      0.37      0.48      6482\n",
            "    positive       0.94      0.99      0.97     90939\n",
            "\n",
            "    accuracy                           0.93    103594\n",
            "   macro avg       0.80      0.66      0.71    103594\n",
            "weighted avg       0.92      0.93      0.92    103594\n",
            "\n",
            "########################################################\n",
            "Stem Accuracy:  0.9260381875398189\n",
            "              precision    recall  f1-score   support\n",
            "\n",
            "    negative       0.76      0.61      0.68      6173\n",
            "     neutral       0.70      0.36      0.48      6482\n",
            "    positive       0.94      0.99      0.96     90939\n",
            "\n",
            "    accuracy                           0.93    103594\n",
            "   macro avg       0.80      0.65      0.71    103594\n",
            "weighted avg       0.92      0.93      0.92    103594\n",
            "\n",
            "########################################################\n",
            "Lem Accuracy:  0.9273027395409\n",
            "              precision    recall  f1-score   support\n",
            "\n",
            "    negative       0.77      0.62      0.69      6173\n",
            "     neutral       0.70      0.37      0.48      6482\n",
            "    positive       0.94      0.99      0.97     90939\n",
            "\n",
            "    accuracy                           0.93    103594\n",
            "   macro avg       0.80      0.66      0.71    103594\n",
            "weighted avg       0.92      0.93      0.92    103594\n",
            "\n"
          ]
        }
      ]
    },
    {
      "cell_type": "markdown",
      "source": [
        "### Hyperparameter"
      ],
      "metadata": {
        "id": "8V_1aqu1fH41"
      }
    },
    {
      "cell_type": "markdown",
      "source": [
        "### Countvectorizer"
      ],
      "metadata": {
        "id": "QLkhpxFNh0mz"
      }
    },
    {
      "cell_type": "code",
      "source": [
        "# Many parameters in log regression  apply to specific solvers, so we excluded them\n",
        "# Only two of the solvers use l1 penalty, so we just ignored it for now\n",
        "\n",
        "# Bag of words baseline\n",
        "log_test = LogisticRegression(max_iter=2500)\n",
        "param_grid = [{'C':[0.001, 0.01, 0.1, 1, 10, 100], 'solver':['lbfgs', 'newton-cg', 'sag', 'saga']}]\n",
        "clf = RandomizedSearchCV(log_test, param_grid, n_jobs=-1, cv=5, n_iter=20)\n",
        "clf.fit(x_val_bow, y_val)\n",
        "\n",
        "display(clf.best_params_)\n",
        "#display(clf.cv_results_)"
      ],
      "metadata": {
        "colab": {
          "base_uri": "https://localhost:8080/",
          "height": 35
        },
        "id": "x9tk8PvyfJzo",
        "outputId": "2adccb8f-5e08-4ff6-e6bc-1f23d7e504d4"
      },
      "execution_count": null,
      "outputs": [
        {
          "output_type": "display_data",
          "data": {
            "text/plain": [
              "{'solver': 'sag', 'C': 0.1}"
            ]
          },
          "metadata": {}
        }
      ]
    },
    {
      "cell_type": "code",
      "source": [
        "# preprocess\n",
        "log_test = LogisticRegression(max_iter=2500)\n",
        "param_grid = [{'C':[0.001, 0.01, 0.1, 1, 10, 100], 'solver':['lbfgs', 'newton-cg', 'sag', 'saga']}]\n",
        "clf = RandomizedSearchCV(log_test, param_grid, n_jobs=-1, cv=3, n_iter=20)\n",
        "clf.fit(x_val_proc_bow, y_val)\n",
        "\n",
        "display(clf.best_params_)"
      ],
      "metadata": {
        "id": "m6bEXGyvhywi",
        "colab": {
          "base_uri": "https://localhost:8080/",
          "height": 34
        },
        "outputId": "6ada294b-4408-4e6a-fddc-0579bd93867c"
      },
      "execution_count": null,
      "outputs": [
        {
          "output_type": "display_data",
          "data": {
            "text/plain": [
              "{'solver': 'saga', 'C': 0.1}"
            ]
          },
          "metadata": {}
        }
      ]
    },
    {
      "cell_type": "code",
      "source": [
        "# stem\n",
        "log_test = LogisticRegression(max_iter=2500)\n",
        "param_grid = [{'C':[0.001, 0.01, 0.1, 1, 10, 100], 'solver':['lbfgs', 'newton-cg', 'sag', 'saga']}]\n",
        "clf = RandomizedSearchCV(log_test, param_grid, n_jobs=-1, cv=3, n_iter=20)\n",
        "clf.fit(x_val_stem_bow, y_val)\n",
        "\n",
        "display(clf.best_params_)"
      ],
      "metadata": {
        "id": "ACAVG1LHifMI",
        "colab": {
          "base_uri": "https://localhost:8080/",
          "height": 34
        },
        "outputId": "c4c9ab4c-0cab-4433-f16e-6b6ef4613633"
      },
      "execution_count": null,
      "outputs": [
        {
          "output_type": "display_data",
          "data": {
            "text/plain": [
              "{'solver': 'saga', 'C': 0.1}"
            ]
          },
          "metadata": {}
        }
      ]
    },
    {
      "cell_type": "code",
      "source": [
        "# lem\n",
        "log_test = LogisticRegression(max_iter=2500)\n",
        "param_grid = [{'C':[0.001, 0.01, 0.1, 1, 10, 100], 'solver':['lbfgs', 'newton-cg', 'sag', 'saga']}]\n",
        "clf = RandomizedSearchCV(log_test, param_grid, n_jobs=-1, cv=3, n_iter=20)\n",
        "clf.fit(x_val_lem_bow, y_val)\n",
        "\n",
        "display(clf.best_params_)"
      ],
      "metadata": {
        "id": "rQIgCqfWiklY",
        "colab": {
          "base_uri": "https://localhost:8080/",
          "height": 34
        },
        "outputId": "7452a702-607d-49cc-cd5e-b12bf7b1e8a6"
      },
      "execution_count": null,
      "outputs": [
        {
          "output_type": "display_data",
          "data": {
            "text/plain": [
              "{'solver': 'saga', 'C': 0.1}"
            ]
          },
          "metadata": {}
        }
      ]
    },
    {
      "cell_type": "markdown",
      "source": [
        "### TF-IDF"
      ],
      "metadata": {
        "id": "vWJAIJcqin1h"
      }
    },
    {
      "cell_type": "code",
      "source": [
        "# These randomsaerches ran faster than the others\n",
        "# took 9 minutes"
      ],
      "metadata": {
        "id": "MIe-I-DSqiYN"
      },
      "execution_count": null,
      "outputs": []
    },
    {
      "cell_type": "code",
      "source": [
        "# baseline tfidf\n",
        "\n",
        "log_test = LogisticRegression(max_iter=2500)\n",
        "param_grid = [{'penalty':['l2'], 'C':[0.001, 0.01, 0.1, 1, 10, 100], 'solver':['lbfgs', 'newton-cg', 'sag', 'saga']}]\n",
        "clf = RandomizedSearchCV(log_test, param_grid, n_jobs=-1, cv=3, n_iter=20)\n",
        "clf.fit(x_val_tf, y_val)\n",
        "\n",
        "display(clf.best_params_)"
      ],
      "metadata": {
        "id": "IBcEfOrHipOA",
        "colab": {
          "base_uri": "https://localhost:8080/",
          "height": 35
        },
        "outputId": "c25f35aa-d681-44f5-9224-28581c09aa34"
      },
      "execution_count": null,
      "outputs": [
        {
          "output_type": "display_data",
          "data": {
            "text/plain": [
              "{'solver': 'sag', 'penalty': 'l2', 'C': 1}"
            ]
          },
          "metadata": {}
        }
      ]
    },
    {
      "cell_type": "code",
      "source": [
        "# preprocess\n",
        "\n",
        "log_test = LogisticRegression(max_iter=2500)\n",
        "param_grid = [{'penalty':['l2'], 'C':[0.001, 0.01, 0.1, 1, 10, 100], 'solver':['lbfgs', 'newton-cg', 'sag', 'saga']}]\n",
        "clf = RandomizedSearchCV(log_test, param_grid, n_jobs=-1, cv=3, n_iter=20)\n",
        "clf.fit(x_val_proc_tf, y_val)\n",
        "\n",
        "display(clf.best_params_)"
      ],
      "metadata": {
        "id": "2e8wikbeiugS",
        "colab": {
          "base_uri": "https://localhost:8080/",
          "height": 35
        },
        "outputId": "7537761e-fa4a-4c25-c79d-7bd6865672a1"
      },
      "execution_count": null,
      "outputs": [
        {
          "output_type": "display_data",
          "data": {
            "text/plain": [
              "{'solver': 'lbfgs', 'penalty': 'l2', 'C': 1}"
            ]
          },
          "metadata": {}
        }
      ]
    },
    {
      "cell_type": "code",
      "source": [
        "# stem\n",
        "\n",
        "log_test = LogisticRegression(max_iter=2500)\n",
        "param_grid = [{'penalty':['l2'], 'C':[0.001, 0.01, 0.1, 1, 10, 100], 'solver':['lbfgs', 'newton-cg', 'sag', 'saga']}]\n",
        "clf = RandomizedSearchCV(log_test, param_grid, n_jobs=-1, cv=3, n_iter=20)\n",
        "clf.fit(x_val_stem_tf, y_val)\n",
        "\n",
        "display(clf.best_params_)"
      ],
      "metadata": {
        "id": "g7o3pkpOi2Nm",
        "colab": {
          "base_uri": "https://localhost:8080/",
          "height": 34
        },
        "outputId": "98ca0621-1b33-46f1-95d8-455b553c4b39"
      },
      "execution_count": null,
      "outputs": [
        {
          "output_type": "display_data",
          "data": {
            "text/plain": [
              "{'solver': 'saga', 'penalty': 'l2', 'C': 1}"
            ]
          },
          "metadata": {}
        }
      ]
    },
    {
      "cell_type": "code",
      "source": [
        "# lem\n",
        "\n",
        "log_test = LogisticRegression(max_iter=2500)\n",
        "param_grid = [{'penalty':['l2'], 'C':[0.001, 0.01, 0.1, 1, 10, 100], 'solver':['lbfgs', 'newton-cg', 'sag', 'saga']}]\n",
        "clf = RandomizedSearchCV(log_test, param_grid, n_jobs=-1, cv=3, n_iter=20)\n",
        "clf.fit(x_val_lem_tf, y_val)\n",
        "\n",
        "display(clf.best_params_)"
      ],
      "metadata": {
        "id": "juGWMi-Vi5PI",
        "colab": {
          "base_uri": "https://localhost:8080/",
          "height": 34
        },
        "outputId": "4940d289-2009-4b13-faf2-3376ad1f8669"
      },
      "execution_count": null,
      "outputs": [
        {
          "output_type": "display_data",
          "data": {
            "text/plain": [
              "{'solver': 'saga', 'penalty': 'l2', 'C': 1}"
            ]
          },
          "metadata": {}
        }
      ]
    },
    {
      "cell_type": "markdown",
      "source": [
        "### Final Models"
      ],
      "metadata": {
        "id": "GCJNIoXCtv5r"
      }
    },
    {
      "cell_type": "markdown",
      "source": [
        "### Countvectorizer"
      ],
      "metadata": {
        "id": "-AirVt7TiC5O"
      }
    },
    {
      "cell_type": "markdown",
      "source": [
        "Each model took roughly 20 to 30 minutes to run"
      ],
      "metadata": {
        "id": "OZ5HYvKAg1FL"
      }
    },
    {
      "cell_type": "code",
      "source": [
        "# Manually input the parameters to save time (don't have to rerun notebook)\n",
        "# Best model for countvectorizer baseline\n",
        "model = LogisticRegression(max_iter=2500, C=0.1, solver='sag')\n",
        "model.fit(x_train_bow, y_train)\n",
        "pred = model.predict(x_test_bow)\n",
        "print(\"Base Accuracy: \", accuracy_score(y_test, pred))\n",
        "print(classification_report(y_test, pred))"
      ],
      "metadata": {
        "id": "qT7oqv6Ctyr7",
        "colab": {
          "base_uri": "https://localhost:8080/"
        },
        "outputId": "670181b8-430d-4b6f-fbfc-ffa3dcf520b6"
      },
      "execution_count": null,
      "outputs": [
        {
          "output_type": "stream",
          "name": "stdout",
          "text": [
            "Base Accuracy:  0.9283838832364809\n",
            "              precision    recall  f1-score   support\n",
            "\n",
            "    negative       0.74      0.66      0.70      6174\n",
            "     neutral       0.66      0.40      0.50      6481\n",
            "    positive       0.95      0.98      0.97     90939\n",
            "\n",
            "    accuracy                           0.93    103594\n",
            "   macro avg       0.78      0.68      0.72    103594\n",
            "weighted avg       0.92      0.93      0.92    103594\n",
            "\n"
          ]
        }
      ]
    },
    {
      "cell_type": "code",
      "source": [
        "# Best model for countvectorizer preprocess\n",
        "model = LogisticRegression(max_iter=2500, C=0.1, solver='saga')\n",
        "model.fit(x_train_proc_bow, y_train)\n",
        "pred = model.predict(x_test_proc_bow)\n",
        "print(\"Preproc Accuracy: \", accuracy_score(y_test, pred))\n",
        "print(classification_report(y_test, pred))"
      ],
      "metadata": {
        "id": "E-LEHTT9i8-0",
        "colab": {
          "base_uri": "https://localhost:8080/"
        },
        "outputId": "2b3d40d0-6916-40e5-b3a9-041d74a5244d"
      },
      "execution_count": null,
      "outputs": [
        {
          "output_type": "stream",
          "name": "stdout",
          "text": [
            "Preproc Accuracy:  0.9249860030503697\n",
            "              precision    recall  f1-score   support\n",
            "\n",
            "    negative       0.74      0.62      0.67      6174\n",
            "     neutral       0.66      0.39      0.49      6481\n",
            "    positive       0.95      0.98      0.96     90939\n",
            "\n",
            "    accuracy                           0.92    103594\n",
            "   macro avg       0.78      0.66      0.71    103594\n",
            "weighted avg       0.92      0.92      0.92    103594\n",
            "\n"
          ]
        }
      ]
    },
    {
      "cell_type": "code",
      "source": [
        "# Best model for countvectorizer stem\n",
        "model = LogisticRegression(max_iter=2500, C=0.1, solver='saga')\n",
        "model.fit(x_train_stem_bow, y_train)\n",
        "pred = model.predict(x_test_stem_bow)\n",
        "print(\"Stem Accuracy: \", accuracy_score(y_test, pred))\n",
        "print(classification_report(y_test, pred))"
      ],
      "metadata": {
        "id": "jzutbjdHjCwO",
        "colab": {
          "base_uri": "https://localhost:8080/"
        },
        "outputId": "d3bc0baf-58c6-42b6-f379-ac5bee157c62"
      },
      "execution_count": null,
      "outputs": [
        {
          "output_type": "stream",
          "name": "stdout",
          "text": [
            "Stem Accuracy:  0.923267756819893\n",
            "              precision    recall  f1-score   support\n",
            "\n",
            "    negative       0.73      0.60      0.66      6174\n",
            "     neutral       0.67      0.38      0.48      6481\n",
            "    positive       0.94      0.98      0.96     90939\n",
            "\n",
            "    accuracy                           0.92    103594\n",
            "   macro avg       0.78      0.65      0.70    103594\n",
            "weighted avg       0.91      0.92      0.92    103594\n",
            "\n"
          ]
        }
      ]
    },
    {
      "cell_type": "code",
      "source": [
        "# Best model for countvectorizer lem\n",
        "model = LogisticRegression(max_iter=2500, C=0.1, solver='saga')\n",
        "model.fit(x_train_lem_bow, y_train)\n",
        "pred = model.predict(x_test_lem_bow)\n",
        "print(\"Lem Accuracy: \", accuracy_score(y_test, pred))\n",
        "print(classification_report(y_test, pred))"
      ],
      "metadata": {
        "id": "UNjY_DE-jFyV",
        "colab": {
          "base_uri": "https://localhost:8080/"
        },
        "outputId": "cfa5189e-02c8-4e6e-8449-349de1765ba0"
      },
      "execution_count": null,
      "outputs": [
        {
          "output_type": "stream",
          "name": "stdout",
          "text": [
            "Lem Accuracy:  0.9239434716296311\n",
            "              precision    recall  f1-score   support\n",
            "\n",
            "    negative       0.74      0.61      0.67      6174\n",
            "     neutral       0.66      0.38      0.48      6481\n",
            "    positive       0.94      0.98      0.96     90939\n",
            "\n",
            "    accuracy                           0.92    103594\n",
            "   macro avg       0.78      0.66      0.70    103594\n",
            "weighted avg       0.91      0.92      0.92    103594\n",
            "\n"
          ]
        }
      ]
    },
    {
      "cell_type": "markdown",
      "source": [
        "### TF-IDF"
      ],
      "metadata": {
        "id": "zMipD5e0jIfz"
      }
    },
    {
      "cell_type": "markdown",
      "source": [
        "Each model only took around 1 to 3 minutes to run"
      ],
      "metadata": {
        "id": "WzaM_WvZcIhW"
      }
    },
    {
      "cell_type": "code",
      "source": [
        "# Best model for tfidf baseline\n",
        "\n",
        "### BEST ###\n",
        "model = LogisticRegression(max_iter=2500, C=1, solver='sag')\n",
        "model.fit(x_train_tf, y_train)\n",
        "pred = model.predict(x_test_tf)\n",
        "print(\"Tf Base Accuracy: \", accuracy_score(y_test, pred))\n",
        "print(classification_report(y_test, pred))"
      ],
      "metadata": {
        "id": "6z9qgZufjKQH",
        "colab": {
          "base_uri": "https://localhost:8080/"
        },
        "outputId": "c266b948-8ea5-4d1b-c6f1-f8f5104a9ed7"
      },
      "execution_count": null,
      "outputs": [
        {
          "output_type": "stream",
          "name": "stdout",
          "text": [
            "Tf Base Accuracy:  0.931530783636118\n",
            "              precision    recall  f1-score   support\n",
            "\n",
            "    negative       0.77      0.67      0.72      6174\n",
            "     neutral       0.69      0.39      0.50      6481\n",
            "    positive       0.95      0.99      0.97     90939\n",
            "\n",
            "    accuracy                           0.93    103594\n",
            "   macro avg       0.80      0.68      0.73    103594\n",
            "weighted avg       0.92      0.93      0.92    103594\n",
            "\n"
          ]
        }
      ]
    },
    {
      "cell_type": "code",
      "source": [
        "# Best model for tfidf preprocess\n",
        "model = LogisticRegression(max_iter=2500, C=1, solver='lbfgs')\n",
        "model.fit(x_train_proc_tf, y_train)\n",
        "pred = model.predict(x_test_proc_tf)\n",
        "print(\"Tf Preproc Accuracy: \", accuracy_score(y_test, pred))\n",
        "print(classification_report(y_test, pred))"
      ],
      "metadata": {
        "id": "6ZjMF1YMjPOj",
        "colab": {
          "base_uri": "https://localhost:8080/"
        },
        "outputId": "4baa7092-93a6-4104-bdd3-c2a3fcb861de"
      },
      "execution_count": null,
      "outputs": [
        {
          "output_type": "stream",
          "name": "stdout",
          "text": [
            "Tf Preproc Accuracy:  0.9280460258316119\n",
            "              precision    recall  f1-score   support\n",
            "\n",
            "    negative       0.77      0.63      0.69      6174\n",
            "     neutral       0.70      0.37      0.48      6481\n",
            "    positive       0.95      0.99      0.97     90939\n",
            "\n",
            "    accuracy                           0.93    103594\n",
            "   macro avg       0.80      0.66      0.71    103594\n",
            "weighted avg       0.92      0.93      0.92    103594\n",
            "\n"
          ]
        }
      ]
    },
    {
      "cell_type": "code",
      "source": [
        "# Best model for tfidf stem\n",
        "model = LogisticRegression(max_iter=2500, C=1, solver='saga')\n",
        "model.fit(x_train_stem_tf, y_train)\n",
        "pred = model.predict(x_test_stem_tf)\n",
        "print(\"Tf Stem Accuracy: \", accuracy_score(y_test, pred))\n",
        "print(classification_report(y_test, pred))"
      ],
      "metadata": {
        "id": "A8bDeNhTjRZF",
        "colab": {
          "base_uri": "https://localhost:8080/"
        },
        "outputId": "87912167-f71e-44c5-b65e-a3d8a9e10503"
      },
      "execution_count": null,
      "outputs": [
        {
          "output_type": "stream",
          "name": "stdout",
          "text": [
            "Tf Stem Accuracy:  0.9260285344711083\n",
            "              precision    recall  f1-score   support\n",
            "\n",
            "    negative       0.75      0.61      0.68      6174\n",
            "     neutral       0.70      0.37      0.48      6481\n",
            "    positive       0.94      0.99      0.96     90939\n",
            "\n",
            "    accuracy                           0.93    103594\n",
            "   macro avg       0.80      0.66      0.71    103594\n",
            "weighted avg       0.92      0.93      0.92    103594\n",
            "\n"
          ]
        }
      ]
    },
    {
      "cell_type": "code",
      "source": [
        "# Best model for tfidf lem\n",
        "model = LogisticRegression(max_iter=2500, C=1, solver='newton-cg')\n",
        "model.fit(x_train_lem_tf, y_train)\n",
        "pred = model.predict(x_test_lem_tf)\n",
        "print(\"Tf Lem Accuracy: \", accuracy_score(y_test, pred))\n",
        "print(classification_report(y_test, pred))"
      ],
      "metadata": {
        "id": "izv22b16jTO5",
        "colab": {
          "base_uri": "https://localhost:8080/"
        },
        "outputId": "34ed96e1-e411-4d7f-d878-d7f70795f2ba"
      },
      "execution_count": null,
      "outputs": [
        {
          "output_type": "stream",
          "name": "stdout",
          "text": [
            "Tf Lem Accuracy:  0.9264918817692145\n",
            "              precision    recall  f1-score   support\n",
            "\n",
            "    negative       0.76      0.62      0.68      6174\n",
            "     neutral       0.69      0.36      0.48      6481\n",
            "    positive       0.94      0.99      0.97     90939\n",
            "\n",
            "    accuracy                           0.93    103594\n",
            "   macro avg       0.80      0.66      0.71    103594\n",
            "weighted avg       0.92      0.93      0.92    103594\n",
            "\n"
          ]
        }
      ]
    },
    {
      "cell_type": "markdown",
      "source": [
        "TFIDF was significantly faster in both the randomsearch and the training"
      ],
      "metadata": {
        "id": "CrweQi3QiZHX"
      }
    },
    {
      "cell_type": "markdown",
      "source": [
        "# Best Model"
      ],
      "metadata": {
        "id": "evGc3xLcik7z"
      }
    },
    {
      "cell_type": "code",
      "source": [
        "from sklearn.metrics import roc_auc_score\n",
        "best_model = LogisticRegression(max_iter=2500, C=1, solver='sag')\n",
        "best_model.fit(x_train_tf, y_train)\n"
      ],
      "metadata": {
        "colab": {
          "base_uri": "https://localhost:8080/",
          "height": 75
        },
        "id": "Sfp45nQ8iiJd",
        "outputId": "f06935d1-e30a-4b3a-a568-be6598d25e47"
      },
      "execution_count": 18,
      "outputs": [
        {
          "output_type": "execute_result",
          "data": {
            "text/plain": [
              "LogisticRegression(C=1, max_iter=2500, solver='sag')"
            ],
            "text/html": [
              "<style>#sk-container-id-2 {color: black;background-color: white;}#sk-container-id-2 pre{padding: 0;}#sk-container-id-2 div.sk-toggleable {background-color: white;}#sk-container-id-2 label.sk-toggleable__label {cursor: pointer;display: block;width: 100%;margin-bottom: 0;padding: 0.3em;box-sizing: border-box;text-align: center;}#sk-container-id-2 label.sk-toggleable__label-arrow:before {content: \"▸\";float: left;margin-right: 0.25em;color: #696969;}#sk-container-id-2 label.sk-toggleable__label-arrow:hover:before {color: black;}#sk-container-id-2 div.sk-estimator:hover label.sk-toggleable__label-arrow:before {color: black;}#sk-container-id-2 div.sk-toggleable__content {max-height: 0;max-width: 0;overflow: hidden;text-align: left;background-color: #f0f8ff;}#sk-container-id-2 div.sk-toggleable__content pre {margin: 0.2em;color: black;border-radius: 0.25em;background-color: #f0f8ff;}#sk-container-id-2 input.sk-toggleable__control:checked~div.sk-toggleable__content {max-height: 200px;max-width: 100%;overflow: auto;}#sk-container-id-2 input.sk-toggleable__control:checked~label.sk-toggleable__label-arrow:before {content: \"▾\";}#sk-container-id-2 div.sk-estimator input.sk-toggleable__control:checked~label.sk-toggleable__label {background-color: #d4ebff;}#sk-container-id-2 div.sk-label input.sk-toggleable__control:checked~label.sk-toggleable__label {background-color: #d4ebff;}#sk-container-id-2 input.sk-hidden--visually {border: 0;clip: rect(1px 1px 1px 1px);clip: rect(1px, 1px, 1px, 1px);height: 1px;margin: -1px;overflow: hidden;padding: 0;position: absolute;width: 1px;}#sk-container-id-2 div.sk-estimator {font-family: monospace;background-color: #f0f8ff;border: 1px dotted black;border-radius: 0.25em;box-sizing: border-box;margin-bottom: 0.5em;}#sk-container-id-2 div.sk-estimator:hover {background-color: #d4ebff;}#sk-container-id-2 div.sk-parallel-item::after {content: \"\";width: 100%;border-bottom: 1px solid gray;flex-grow: 1;}#sk-container-id-2 div.sk-label:hover label.sk-toggleable__label {background-color: #d4ebff;}#sk-container-id-2 div.sk-serial::before {content: \"\";position: absolute;border-left: 1px solid gray;box-sizing: border-box;top: 0;bottom: 0;left: 50%;z-index: 0;}#sk-container-id-2 div.sk-serial {display: flex;flex-direction: column;align-items: center;background-color: white;padding-right: 0.2em;padding-left: 0.2em;position: relative;}#sk-container-id-2 div.sk-item {position: relative;z-index: 1;}#sk-container-id-2 div.sk-parallel {display: flex;align-items: stretch;justify-content: center;background-color: white;position: relative;}#sk-container-id-2 div.sk-item::before, #sk-container-id-2 div.sk-parallel-item::before {content: \"\";position: absolute;border-left: 1px solid gray;box-sizing: border-box;top: 0;bottom: 0;left: 50%;z-index: -1;}#sk-container-id-2 div.sk-parallel-item {display: flex;flex-direction: column;z-index: 1;position: relative;background-color: white;}#sk-container-id-2 div.sk-parallel-item:first-child::after {align-self: flex-end;width: 50%;}#sk-container-id-2 div.sk-parallel-item:last-child::after {align-self: flex-start;width: 50%;}#sk-container-id-2 div.sk-parallel-item:only-child::after {width: 0;}#sk-container-id-2 div.sk-dashed-wrapped {border: 1px dashed gray;margin: 0 0.4em 0.5em 0.4em;box-sizing: border-box;padding-bottom: 0.4em;background-color: white;}#sk-container-id-2 div.sk-label label {font-family: monospace;font-weight: bold;display: inline-block;line-height: 1.2em;}#sk-container-id-2 div.sk-label-container {text-align: center;}#sk-container-id-2 div.sk-container {/* jupyter's `normalize.less` sets `[hidden] { display: none; }` but bootstrap.min.css set `[hidden] { display: none !important; }` so we also need the `!important` here to be able to override the default hidden behavior on the sphinx rendered scikit-learn.org. See: https://github.com/scikit-learn/scikit-learn/issues/21755 */display: inline-block !important;position: relative;}#sk-container-id-2 div.sk-text-repr-fallback {display: none;}</style><div id=\"sk-container-id-2\" class=\"sk-top-container\"><div class=\"sk-text-repr-fallback\"><pre>LogisticRegression(C=1, max_iter=2500, solver=&#x27;sag&#x27;)</pre><b>In a Jupyter environment, please rerun this cell to show the HTML representation or trust the notebook. <br />On GitHub, the HTML representation is unable to render, please try loading this page with nbviewer.org.</b></div><div class=\"sk-container\" hidden><div class=\"sk-item\"><div class=\"sk-estimator sk-toggleable\"><input class=\"sk-toggleable__control sk-hidden--visually\" id=\"sk-estimator-id-2\" type=\"checkbox\" checked><label for=\"sk-estimator-id-2\" class=\"sk-toggleable__label sk-toggleable__label-arrow\">LogisticRegression</label><div class=\"sk-toggleable__content\"><pre>LogisticRegression(C=1, max_iter=2500, solver=&#x27;sag&#x27;)</pre></div></div></div></div></div>"
            ]
          },
          "metadata": {},
          "execution_count": 18
        }
      ]
    },
    {
      "cell_type": "code",
      "source": [
        "pred = best_model.predict(x_test_tf)\n",
        "pred_proba = best_model.predict_proba(x_test_tf)\n"
      ],
      "metadata": {
        "id": "yoX1mcXInJbO"
      },
      "execution_count": 19,
      "outputs": []
    },
    {
      "cell_type": "code",
      "source": [
        "print(\"Tf Base Accuracy: \", accuracy_score(y_test, pred))\n",
        "print('ROC AUC Score: ', roc_auc_score(y_test, pred_proba, multi_class='ovr'))\n",
        "print('ROC AUC Score (Macro): ', roc_auc_score(y_test, pred_proba, multi_class='ovr', average='macro'))\n",
        "print('ROC AUC Score (Micro): ', roc_auc_score(y_test, pred_proba, multi_class='ovr', average='micro'))\n",
        "print(classification_report(y_test, pred))"
      ],
      "metadata": {
        "colab": {
          "base_uri": "https://localhost:8080/"
        },
        "id": "RcbKgErEnK-F",
        "outputId": "e191f43e-4f3e-4ece-82d1-5b178c9b8da5"
      },
      "execution_count": 20,
      "outputs": [
        {
          "output_type": "stream",
          "name": "stdout",
          "text": [
            "Tf Base Accuracy:  0.931530783636118\n",
            "ROC AUC Score:  0.9637760662827594\n",
            "ROC AUC Score (Macro):  0.9637760662827594\n",
            "ROC AUC Score (Micro):  0.9909313898710475\n",
            "              precision    recall  f1-score   support\n",
            "\n",
            "    negative       0.77      0.67      0.72      6174\n",
            "     neutral       0.69      0.39      0.50      6481\n",
            "    positive       0.95      0.99      0.97     90939\n",
            "\n",
            "    accuracy                           0.93    103594\n",
            "   macro avg       0.80      0.68      0.73    103594\n",
            "weighted avg       0.92      0.93      0.92    103594\n",
            "\n"
          ]
        }
      ]
    },
    {
      "cell_type": "code",
      "source": [
        "# Pickle file\n",
        "import pickle\n",
        "with open('model_logreg.pkl', 'wb') as files:\n",
        "  pickle.dump(best_model, files)\n",
        "\n"
      ],
      "metadata": {
        "id": "49_zenX8d2mg"
      },
      "execution_count": 27,
      "outputs": []
    },
    {
      "cell_type": "code",
      "source": [
        "# Testing pickle file\n",
        "with open('model_logreg.pkl', 'rb') as f:\n",
        "  test_pkl = pickle.load(f)\n",
        "\n",
        "pkl_pred = test_pkl.predict(x_test_tf)\n",
        "print(classification_report(y_test, pkl_pred))"
      ],
      "metadata": {
        "colab": {
          "base_uri": "https://localhost:8080/"
        },
        "id": "1kEnvPewfLcp",
        "outputId": "50f5d57c-c72b-48d8-f622-9b7ce7af5166"
      },
      "execution_count": 28,
      "outputs": [
        {
          "output_type": "stream",
          "name": "stdout",
          "text": [
            "              precision    recall  f1-score   support\n",
            "\n",
            "    negative       0.77      0.67      0.72      6174\n",
            "     neutral       0.69      0.39      0.50      6481\n",
            "    positive       0.95      0.99      0.97     90939\n",
            "\n",
            "    accuracy                           0.93    103594\n",
            "   macro avg       0.80      0.68      0.73    103594\n",
            "weighted avg       0.92      0.93      0.92    103594\n",
            "\n"
          ]
        }
      ]
    },
    {
      "cell_type": "markdown",
      "source": [
        "# Confusion Matrix"
      ],
      "metadata": {
        "id": "OG5yXjg7eF-i"
      }
    },
    {
      "cell_type": "code",
      "source": [
        "from sklearn.metrics import confusion_matrix\n",
        "from sklearn.metrics import ConfusionMatrixDisplay\n",
        "\n",
        "cm = confusion_matrix(y_test, pred, labels=['negative', 'neutral', 'positive'])\n",
        "disp = ConfusionMatrixDisplay(confusion_matrix=cm, display_labels=['negative', 'neutral', 'positive'])\n",
        "disp.plot();"
      ],
      "metadata": {
        "colab": {
          "base_uri": "https://localhost:8080/",
          "height": 449
        },
        "id": "CLg5ReWB1gou",
        "outputId": "823525b7-65dc-4e13-f237-25ddf09e32da"
      },
      "execution_count": null,
      "outputs": [
        {
          "output_type": "display_data",
          "data": {
            "text/plain": [
              "<Figure size 640x480 with 2 Axes>"
            ],
            "image/png": "[encoded data removed]"
          },
          "metadata": {}
        }
      ]
    },
    {
      "cell_type": "markdown",
      "source": [
        "# ROC curve"
      ],
      "metadata": {
        "id": "T5qj2ESaeIIl"
      }
    },
    {
      "cell_type": "markdown",
      "source": [
        "## Code based on code found on sklearn"
      ],
      "metadata": {
        "id": "M369LTOMeliK"
      }
    },
    {
      "cell_type": "code",
      "source": [
        "from sklearn.metrics import RocCurveDisplay\n",
        "from sklearn.metrics import roc_curve\n",
        "from sklearn.metrics import auc\n",
        "\n",
        "from sklearn.preprocessing import LabelBinarizer\n",
        "\n",
        "label_binarizer = LabelBinarizer().fit(y_train)\n",
        "y_onehot_test = label_binarizer.transform(y_test)\n",
        "y_onehot_test.shape  # (n_samples, n_classes)\n",
        "\n",
        "class_of_interest = \"positive\"\n",
        "class_id = np.flatnonzero(label_binarizer.classes_ == class_of_interest)[0]\n",
        "\n",
        "\n"
      ],
      "metadata": {
        "id": "394DY-ilnvEa"
      },
      "execution_count": null,
      "outputs": []
    },
    {
      "cell_type": "code",
      "source": [
        "fpr, tpr, roc_auc = dict(), dict(), dict()\n",
        "# Compute micro-average ROC curve and ROC area\n",
        "fpr[\"micro\"], tpr[\"micro\"], _ = roc_curve(y_onehot_test.ravel(), pred_proba.ravel())\n",
        "roc_auc[\"micro\"] = auc(fpr[\"micro\"], tpr[\"micro\"])\n",
        "\n",
        "print(f\"Micro-averaged One-vs-Rest ROC AUC score:\\n{roc_auc['micro']:.2f}\")\n",
        "\n",
        "for i in range(3):\n",
        "    fpr[i], tpr[i], _ = roc_curve(y_onehot_test[:, i], pred_proba[:, i])\n",
        "    roc_auc[i] = auc(fpr[i], tpr[i])\n",
        "\n",
        "fpr_grid = np.linspace(0.0, 1.0, 1000)\n",
        "\n",
        "# Interpolate all ROC curves at these points\n",
        "mean_tpr = np.zeros_like(fpr_grid)\n",
        "\n",
        "for i in range(3):\n",
        "    mean_tpr += np.interp(fpr_grid, fpr[i], tpr[i])  # linear interpolation\n",
        "\n",
        "# Average it and compute AUC\n",
        "mean_tpr /= 3\n",
        "\n",
        "fpr[\"macro\"] = fpr_grid\n",
        "tpr[\"macro\"] = mean_tpr\n",
        "roc_auc[\"macro\"] = auc(fpr[\"macro\"], tpr[\"macro\"])\n",
        "\n",
        "print(f\"Macro-averaged One-vs-Rest ROC AUC score:\\n{roc_auc['macro']:.2f}\")"
      ],
      "metadata": {
        "colab": {
          "base_uri": "https://localhost:8080/"
        },
        "id": "o8v9hdg5vVPZ",
        "outputId": "4b5b1e61-afde-47a8-aa85-4542d8e56e25"
      },
      "execution_count": null,
      "outputs": [
        {
          "output_type": "stream",
          "name": "stdout",
          "text": [
            "Micro-averaged One-vs-Rest ROC AUC score:\n",
            "0.99\n",
            "Macro-averaged One-vs-Rest ROC AUC score:\n",
            "0.96\n"
          ]
        }
      ]
    },
    {
      "cell_type": "code",
      "source": [
        "from itertools import cycle\n",
        "\n",
        "fig, ax = plt.subplots(figsize=(6, 6))\n",
        "\n",
        "target_names = ['negative', 'neutral', 'positive']\n",
        "\n",
        "plt.plot(\n",
        "    fpr[\"micro\"],\n",
        "    tpr[\"micro\"],\n",
        "    label=f\"micro-average ROC curve (AUC = {roc_auc['micro']:.2f})\",\n",
        "    color=\"deeppink\",\n",
        "    linestyle=\":\",\n",
        "    linewidth=4,\n",
        ")\n",
        "\n",
        "plt.plot(\n",
        "    fpr[\"macro\"],\n",
        "    tpr[\"macro\"],\n",
        "    label=f\"macro-average ROC curve (AUC = {roc_auc['macro']:.2f})\",\n",
        "    color=\"navy\",\n",
        "    linestyle=\":\",\n",
        "    linewidth=4,\n",
        ")\n",
        "\n",
        "colors = cycle([\"aqua\", \"darkorange\", \"cornflowerblue\"])\n",
        "for class_id, color in zip(range(3), colors):\n",
        "    RocCurveDisplay.from_predictions(\n",
        "        y_onehot_test[:, class_id],\n",
        "        pred_proba[:, class_id],\n",
        "        name=f\"ROC curve for {target_names[class_id]}\",\n",
        "        color=color,\n",
        "        ax=ax,\n",
        "    )\n",
        "\n",
        "_ = ax.set(\n",
        "    xlabel=\"False Positive Rate\",\n",
        "    ylabel=\"True Positive Rate\",\n",
        "    title=\"Extension of Receiver Operating Characteristic\\nto One-vs-Rest multiclass\",\n",
        ")"
      ],
      "metadata": {
        "colab": {
          "base_uri": "https://localhost:8080/",
          "height": 585
        },
        "id": "eGc5J3trvh9E",
        "outputId": "4b11bc1b-420d-4708-f25c-85f802a211e1"
      },
      "execution_count": null,
      "outputs": [
        {
          "output_type": "display_data",
          "data": {
            "text/plain": [
              "<Figure size 600x600 with 1 Axes>"
            ],
            "image/png": "[encoded data removed]"
          },
          "metadata": {}
        }
      ]
    },
    {
      "cell_type": "markdown",
      "source": [
        "# Conclusions"
      ],
      "metadata": {
        "id": "2ZX32VcltzNJ"
      }
    },
    {
      "cell_type": "markdown",
      "source": [
        "Surprisingly, all of the models performed similarly, but the overall best seems to be baseline tfidf (we can see that in the classification report, it has the highest macro average and similar scores for everything else).\n",
        "This could be as a result of the use of RandomizedSearchCV, so the hyperparameter tuning may not have been the most optimal.\n",
        "The baseline performing better than the preprocessed does not come as a surprise. In the sentence preprocessing method, stopwords are removed, some of which may be somewhat significant. Additionally, stemming and lemmatizing may reduce a word too much and cause it to be generalized too much.\n",
        "\n",
        "That being said, the tfidf tests seemed to be significantly faster at training than the bag of words.\n"
      ],
      "metadata": {
        "id": "JIg9ajuuiH4M"
      }
    }
  ]
}