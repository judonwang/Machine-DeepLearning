{
 "cells": [
  {
   "cell_type": "code",
   "execution_count": 20,
   "metadata": {
    "colab": {
     "base_uri": "https://localhost:8080/"
    },
    "id": "mHBzfi1IxGxS",
    "outputId": "9f7358ad-81b5-4757-e611-cea8a77c49d7"
   },
   "outputs": [
    {
     "name": "stdout",
     "output_type": "stream",
     "text": [
      "Collecting PyPDF2\n",
      "  Downloading pypdf2-3.0.1-py3-none-any.whl.metadata (6.8 kB)\n",
      "Downloading pypdf2-3.0.1-py3-none-any.whl (232 kB)\n",
      "\u001b[?25l   \u001b[90m━━━━━━━━━━━━━━━━━━━━━━━━━━━━━━━━━━━━━━━━\u001b[0m \u001b[32m0.0/232.6 kB\u001b[0m \u001b[31m?\u001b[0m eta \u001b[36m-:--:--\u001b[0m\r\u001b[2K   \u001b[91m━━━━━━━━━━━━━━━━━━━━━━━━━━━━━━━━━━━━━━\u001b[0m\u001b[91m╸\u001b[0m\u001b[90m━\u001b[0m \u001b[32m225.3/232.6 kB\u001b[0m \u001b[31m8.5 MB/s\u001b[0m eta \u001b[36m0:00:01\u001b[0m\r\u001b[2K   \u001b[90m━━━━━━━━━━━━━━━━━━━━━━━━━━━━━━━━━━━━━━━━\u001b[0m \u001b[32m232.6/232.6 kB\u001b[0m \u001b[31m5.7 MB/s\u001b[0m eta \u001b[36m0:00:00\u001b[0m\n",
      "\u001b[?25hInstalling collected packages: PyPDF2\n",
      "Successfully installed PyPDF2-3.0.1\n"
     ]
    }
   ],
   "source": [
    "pip install PyPDF2"
   ]
  },
  {
   "cell_type": "code",
   "execution_count": 26,
   "metadata": {
    "id": "dhsZeFIQr3sI"
   },
   "outputs": [],
   "source": [
    "import openai\n",
    "import os\n",
    "\n",
    "#from dotenv import load_dotenv, find_dotenv\n",
    "#_ = load_dotenv(find_dotenv()) # read local .env file\n",
    "\n",
    "from google.colab import userdata\n",
    "\n",
    "api_token = userdata.get('OPENAI_KEY')\n",
    "from openai import OpenAI\n",
    "\n",
    "client = OpenAI(\n",
    "    api_key=api_token,  # This is the default and can be omitted\n",
    ")"
   ]
  },
  {
   "cell_type": "code",
   "execution_count": 32,
   "metadata": {
    "id": "eTlPaT-BwXkG"
   },
   "outputs": [],
   "source": [
    "def chat(message):\n",
    "  response = client.chat.completions.create(\n",
    "      model = \"gpt-4\",\n",
    "      messages=message\n",
    "  )\n",
    "\n",
    "  return response.choices[0].message.content"
   ]
  },
  {
   "cell_type": "code",
   "execution_count": 40,
   "metadata": {
    "id": "bi9Sw7pSvS5Q"
   },
   "outputs": [],
   "source": [
    "conv_log = [\n",
    "    {\"role\":\"system\", \"content\":\"You are a math tutor. Your task is to help your student learn how to solve math problems.\"}\n",
    "]"
   ]
  },
  {
   "cell_type": "markdown",
   "metadata": {
    "id": "vuUdZQf7wweV"
   },
   "source": [
    "# Part a. Solve a complex math problem"
   ]
  },
  {
   "cell_type": "code",
   "execution_count": 41,
   "metadata": {
    "colab": {
     "base_uri": "https://localhost:8080/"
    },
    "id": "51TRw20yvhVg",
    "outputId": "8ca4f1f8-e944-498e-daf4-5b330e15a9fb"
   },
   "outputs": [
    {
     "name": "stdout",
     "output_type": "stream",
     "text": [
      "The modulus of a complex number is calculated using the formula: |z| = √(a² + b²), where a is the real part of the number and b is the imaginary part of the number.\n",
      "\n",
      "For the complex number -4 + 3i:\n",
      "\n",
      "- The real part (a) is -4\n",
      "- The imaginary part (b) is 3 \n",
      "\n",
      "Substituting these into the formula gives:\n",
      "\n",
      "|z| = √((-4)² + 3²)\n",
      "\n",
      "This equals:\n",
      "\n",
      "|z| = √(16 + 9)\n",
      "\n",
      "Further calculation yields:\n",
      "\n",
      "|z| = √25\n",
      "\n",
      "The square root of 25 is 5, so: \n",
      "\n",
      "|z| = 5\n",
      "\n",
      "So the modulus of -4 + 3i is 5.\n"
     ]
    }
   ],
   "source": [
    "prompt = \"Solve the following math problem step by step: What is the modulus of -4 + 3i?\"\n",
    "conv_log.append({\"role\":\"user\", \"content\":prompt})\n",
    "sol = chat(conv_log)\n",
    "print(sol)"
   ]
  },
  {
   "cell_type": "code",
   "execution_count": 42,
   "metadata": {
    "id": "nrtPp44D1kFl"
   },
   "outputs": [],
   "source": [
    "conv_log.append({\"role\":\"assistant\", \"content\":sol})"
   ]
  },
  {
   "cell_type": "markdown",
   "metadata": {
    "id": "9B02QIaewy51"
   },
   "source": [
    "# Part b. Give a PDF and website document; ask the bot to rewrite and answer questions on the given PDF and website"
   ]
  },
  {
   "cell_type": "markdown",
   "metadata": {
    "id": "Spivhfakw8ny"
   },
   "source": [
    "From my understanding, this means to give the api a pdf/website with questions on it, and ask it to rewrite said questions and answer them."
   ]
  },
  {
   "cell_type": "markdown",
   "metadata": {
    "id": "CjNwFW7qyF2e"
   },
   "source": [
    "## Giving a PDF"
   ]
  },
  {
   "cell_type": "code",
   "execution_count": 43,
   "metadata": {
    "id": "07-uY9qw0CLW"
   },
   "outputs": [],
   "source": [
    "import PyPDF2"
   ]
  },
  {
   "cell_type": "code",
   "execution_count": 44,
   "metadata": {
    "colab": {
     "base_uri": "https://localhost:8080/",
     "height": 55
    },
    "id": "uffuGtv6xFrI",
    "outputId": "4477c452-bfdd-4ecb-e39a-fcedce89c344"
   },
   "outputs": [
    {
     "data": {
      "application/vnd.google.colaboratory.intrinsic+json": {
       "type": "string"
      },
      "text/plain": [
       "'Solve x2- 2x - 2 = 0'"
      ]
     },
     "execution_count": 44,
     "metadata": {},
     "output_type": "execute_result"
    }
   ],
   "source": [
    "reader = PyPDF2.PdfReader(\"tst.pdf\")\n",
    "number_of_pages = len(reader.pages)\n",
    "page = reader.pages[0]\n",
    "text = page.extract_text()\n",
    "text"
   ]
  },
  {
   "cell_type": "code",
   "execution_count": 45,
   "metadata": {
    "colab": {
     "base_uri": "https://localhost:8080/"
    },
    "id": "o4Hirb3RyInM",
    "outputId": "0864d17a-da1b-4015-da36-fa1baf236dd3"
   },
   "outputs": [
    {
     "name": "stdout",
     "output_type": "stream",
     "text": [
      "The question is asking to solve the quadratic equation x² - 2x - 2 = 0. \n",
      "\n",
      "We can use the quadratic formula, x = [-b ± sqrt(b² - 4ac)] / 2a, where a, b, and c are coefficients from the quadratic equation ax² + bx + c = 0. \n",
      "\n",
      "For the given equation, a is 1, b is -2, and c is -2.\n",
      "\n",
      "Let's substitute these values in the formula:\n",
      "\n",
      "x = [2 ± sqrt((-2)² - 4*(1)*(-2))] / 2*(1)\n",
      "x = [2 ± sqrt(4 + 8)] / 2\n",
      "x = [2 ± sqrt(12)] / 2\n",
      "x = [2 ± 2√3] / 2\n",
      "x = 1 ± √3\n",
      "\n",
      "So, the solutions to the equation x² - 2x - 2 = 0 are x = 1 + √3 and x = 1 - √3.\n"
     ]
    }
   ],
   "source": [
    "conv_log.append({\"role\":\"user\", \"content\":f\"Rewrite and answer the question found from the following PDF content: {text}\"})\n",
    "pdf_sol = chat(conv_log)\n",
    "print(pdf_sol)"
   ]
  },
  {
   "cell_type": "code",
   "execution_count": 47,
   "metadata": {
    "id": "M5T36l-H1dbC"
   },
   "outputs": [],
   "source": [
    "conv_log.append({\"role\":\"assistant\",\"content\":pdf_sol})"
   ]
  },
  {
   "cell_type": "markdown",
   "metadata": {
    "id": "J4neVr7Xyl41"
   },
   "source": [
    "## Giving website text"
   ]
  },
  {
   "cell_type": "code",
   "execution_count": 48,
   "metadata": {
    "collapsed": true,
    "id": "6N0GcqPoxuo7"
   },
   "outputs": [],
   "source": [
    "from bs4 import BeautifulSoup\n",
    "import requests\n",
    "\n",
    "def extract_text_from_website(url):\n",
    "    # Send HTTP request to the website\n",
    "    response = requests.get(url)\n",
    "\n",
    "    # Parse the content with BeautifulSoup\n",
    "    soup = BeautifulSoup(response.content, \"html.parser\")\n",
    "\n",
    "    # Extract the text from the webpage\n",
    "    # You can customize this to extract specific sections if needed\n",
    "    paragraphs = soup.find_all('p')  # Finds all <p> tags, which usually contain the main text\n",
    "\n",
    "    # Join the paragraphs into one string\n",
    "    text = \"\\n\".join([para.get_text() for para in paragraphs])\n",
    "    return text\n",
    "\n",
    "web_text = extract_text_from_website(\"https://www.princetonreview.com/college-advice/sat-practice-questions\")"
   ]
  },
  {
   "cell_type": "code",
   "execution_count": 49,
   "metadata": {
    "colab": {
     "base_uri": "https://localhost:8080/"
    },
    "id": "8Ez5dsd8x9xX",
    "outputId": "0ac41b18-1a94-41a4-d9dc-7f8b0ea5552c"
   },
   "outputs": [
    {
     "name": "stdout",
     "output_type": "stream",
     "text": [
      "The first question is: \n",
      "\n",
      "A gas station sells regular gasoline for $2.39 per gallon and premium gasoline for $2.79 per gallon. If the gas station sold a total of 550 gallons of both types of gasoline in one day for a total of $1,344.50, how many gallons of premium gasoline were sold?\n",
      "\n",
      "Let's solve this step by step:\n",
      "\n",
      "Step 1: Assume the gas station sold 'x' gallons of premium gasoline.\n",
      "\n",
      "Step 2: If 550 total gallons were sold, then the gas station must have sold 550 - x gallons of regular gasoline.\n",
      "\n",
      "Step 3: The money earned from selling x gallons of premium gasoline is x * $2.79\n",
      "The money earned from selling 550 - x gallons of regular gasoline is (550 - x) * $2.39\n",
      "\n",
      "Step 4: Since we know the total amount of money made is $1,344.50, we can set up a equation:\n",
      "x*2.79 + (550 - x)*2.39 = 1344.50\n",
      "\n",
      "Step 5: Multiply throughout to get the equation simplified:\n",
      "2.79x + 1316.5 - 2.39x = 1344.50\n",
      "0.4x = 28\n",
      "x = 70\n",
      "\n",
      "Therefore, the gas station sold 70 gallons of premium gasoline.\n"
     ]
    }
   ],
   "source": [
    "conv_log.append({\"role\":\"user\", \"content\":f\"Given the following website content from {web_text}, rewrite and answer the first question.\"})\n",
    "web_sol = chat(conv_log)\n",
    "print(web_sol)"
   ]
  },
  {
   "cell_type": "code",
   "execution_count": 50,
   "metadata": {
    "id": "NRRQJhQZ1pBj"
   },
   "outputs": [],
   "source": [
    "conv_log.append({\"role\":\"assistant\", \"content\":web_sol})"
   ]
  },
  {
   "cell_type": "markdown",
   "metadata": {
    "id": "lxAn3sMjy77F"
   },
   "source": [
    "# Part c. Summarization"
   ]
  },
  {
   "cell_type": "code",
   "execution_count": 51,
   "metadata": {
    "colab": {
     "base_uri": "https://localhost:8080/"
    },
    "id": "VmbcYfIly9O2",
    "outputId": "4e77fa74-c23e-4428-f6e8-5dbdbe18c8b1"
   },
   "outputs": [
    {
     "name": "stdout",
     "output_type": "stream",
     "text": [
      "The conversation includes the assistant helping the student solve various math problems. \n",
      "\n",
      "First, the assistant explains how to calculate the modulus of a complex number and finds the modulus of -4 + 3i to be 5.\n",
      "\n",
      "Next, the assistant explains the quadratic formula and uses it to solve the equation x² - 2x - 2 = 0, finding two solutions: x = 1 + √3 and x = 1 - √3.\n",
      "\n",
      "Then, the assistant is asked to rewrite and solve the first math problem from a hypothetical SAT practice test on a website. The problem involves the sale of regular and premium gasoline at a gas station, and the task is to find how many gallons of premium gasoline were sold. By setting up an equation based on provided information and solving it, the assistant concludes that the station sold 70 gallons of premium gasoline. \n",
      "\n",
      "Overall, the conversation is about problem-solving techniques for a variety of mathematical problems.\n"
     ]
    }
   ],
   "source": [
    "conv_log.append({\"role\":\"user\", \"content\":\"Summarize the entire conversation.\"})\n",
    "summ = chat(conv_log)\n",
    "print(summ)"
   ]
  }
 ],
 "metadata": {
  "colab": {
   "provenance": []
  },
  "kernelspec": {
   "display_name": "Python 3",
   "name": "python3"
  },
  "language_info": {
   "name": "python"
  }
 },
 "nbformat": 4,
 "nbformat_minor": 0
}
